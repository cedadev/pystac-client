{
 "cells": [
  {
   "cell_type": "markdown",
   "id": "a5ed9ac2-1b62-493a-8842-aece9264e591",
   "metadata": {
    "tags": []
   },
   "source": [
    "# The ESGF Search STAC service\n",
    "\n",
    "## Pre-requisites\n",
    "\n",
    "```\n",
    "mkdir -p workdir\n",
    "cd workdir/\n",
    "git clone -b asset-search https://github.com/cedadev/pystac-client\n",
    "cd pystac-client/\n",
    "pip install -e .\n",
    "pip install git+https://github.com/cedadev/esgf-stac-client\n",
    "```\n",
    "\n",
    "## Overview\n",
    "\n",
    "This document provides examples of how the proposed ESGF-STAC-SEARCH service can we used via:\n",
    " 1. A Python client library\n",
    " 2. GET Requests made directly to the service API\n",
    " \n",
    "In order to compare to the existing ESGF Search service/client we have structured this page to match the existing ESGF Search API instructions which are located at:\n",
    "\n",
    "https://esgf.github.io/esg-search/ESGF_Search_RESTful_API.html#the-esgf-search-restful-api\n",
    "\n",
    "## Which data is being searched?\n",
    "\n",
    "Initially, we have indexed all the CMIP6 data held at the UK Data Node (CEDA) and the example searches work with that.\n",
    "\n",
    "The data volumes in this subset are:\n",
    "- Dataset (STAC Item) count: **677813**\n",
    "- File (STAC Asset) count:   **6137991**\n",
    "\n",
    "## Syntax\n",
    "\n",
    "Existing version: https://esgf.github.io/esg-search/ESGF_Search_RESTful_API.html#syntax\n",
    "\n",
    "### New API\n",
    "\n",
    "The general syntax is:\n",
    "\n",
    "```\n",
    "https://api.stac.ceda.ac.uk/search?[keyword parameters as (name, value) pairs][facet parameters as (name,value) pairs]\n",
    "```\n",
    "\n",
    "All parameters (keyword and facet) are optional. Also, the value of all parameters must be URL-encoded, so that the complete search URL is well formed.\n",
    "\n",
    "### Python client\n",
    "\n",
    "First the client must be initialised as follows:"
   ]
  },
  {
   "cell_type": "code",
   "execution_count": 1,
   "id": "b109fa5c",
   "metadata": {
    "collapsed": false,
    "jupyter": {
     "outputs_hidden": false
    },
    "pycharm": {
     "name": "#%%\n"
    }
   },
   "outputs": [],
   "source": [
    "from esgf_stac_client.client import ESGFStacClient\n",
    "client = ESGFStacClient.open(\"https://api.stac.ceda.ac.uk\")"
   ]
  },
  {
   "cell_type": "markdown",
   "id": "d2e808b8",
   "metadata": {
    "pycharm": {
     "name": "#%% md\n"
    }
   },
   "source": [
    "Example of the basic Python client usage:\n",
    " - get collections"
   ]
  },
  {
   "cell_type": "markdown",
   "id": "6424d4ee-1d04-4d36-8654-bfa0ab408bf0",
   "metadata": {},
   "source": [
    "Get a Python generator that gives access to the collections:"
   ]
  },
  {
   "cell_type": "code",
   "execution_count": 2,
   "id": "b648e4fd",
   "metadata": {
    "collapsed": false,
    "jupyter": {
     "outputs_hidden": false
    },
    "pycharm": {
     "name": "#%%\n"
    }
   },
   "outputs": [
    {
     "data": {
      "text/plain": [
       "{'type': 'Collection',\n",
       " 'id': 'cmip6',\n",
       " 'stac_version': '1.0.0',\n",
       " 'description': '',\n",
       " 'links': [{'rel': 'self',\n",
       "   'href': 'https://api.stac.ceda.ac.uk/collections/cmip6',\n",
       "   'type': 'application/json'},\n",
       "  {'rel': 'parent',\n",
       "   'href': 'https://api.stac.ceda.ac.uk/',\n",
       "   'type': 'application/json'},\n",
       "  {'rel': 'items',\n",
       "   'href': 'https://api.stac.ceda.ac.uk/collections/cmip6/items',\n",
       "   'type': 'application/geo+json'},\n",
       "  {'rel': <RelType.ROOT: 'root'>,\n",
       "   'href': 'https://api.stac.ceda.ac.uk',\n",
       "   'type': <MediaType.JSON: 'application/json'>,\n",
       "   'title': 'CEDA STAC API'},\n",
       "  {'rel': 'https://www.opengis.net/def/rel/ogc/1.0/queryables',\n",
       "   'href': 'https://api.stac.ceda.ac.uk/collections/cmip6/queryables',\n",
       "   'type': 'application/json'}],\n",
       " 'stac_extensions': [],\n",
       " 'title': '',\n",
       " 'keywords': None,\n",
       " 'providers': None,\n",
       " 'summaries': {'product': ['model-output'],\n",
       "  'source_type': ['AER',\n",
       "   'AGCM',\n",
       "   'AOGCM',\n",
       "   'AOGCM,AER',\n",
       "   'BGC',\n",
       "   'CHEM',\n",
       "   'ISM',\n",
       "   'LAND',\n",
       "   'OGCM',\n",
       "   'RAD'],\n",
       "  'metadata_format': ['THREDDS'],\n",
       "  'grid_label': ['gm',\n",
       "   'gn',\n",
       "   'gnz',\n",
       "   'gr',\n",
       "   'gr1',\n",
       "   'gr1z',\n",
       "   'gr2',\n",
       "   'gr2z',\n",
       "   'gr3',\n",
       "   'gra',\n",
       "   'grg',\n",
       "   'grz'],\n",
       "  'model_cohort': ['Registered'],\n",
       "  'data_specs_version': ['01.00.15',\n",
       "   '01.00.20',\n",
       "   '01.00.21',\n",
       "   '01.00.23',\n",
       "   '01.00.27',\n",
       "   '01.00.28',\n",
       "   '01.00.29',\n",
       "   '01.00.30',\n",
       "   '01.00.31',\n",
       "   '01.00.32',\n",
       "   '01.00.33'],\n",
       "  'project': ['CMIP6'],\n",
       "  'nominal_resolution': ['10 km',\n",
       "   '100 km',\n",
       "   '10000 km',\n",
       "   '1x1 degree',\n",
       "   '200 km',\n",
       "   '25 km',\n",
       "   '250 km',\n",
       "   '2x2 degree',\n",
       "   '50 km',\n",
       "   '500 km'],\n",
       "  'activity_drs': ['AerChemMIP',\n",
       "   'C4MIP',\n",
       "   'CDRMIP',\n",
       "   'CFMIP',\n",
       "   'CMIP',\n",
       "   'DAMIP',\n",
       "   'DCPP',\n",
       "   'FAFMIP',\n",
       "   'GMMIP',\n",
       "   'GeoMIP',\n",
       "   'HighResMIP',\n",
       "   'ISMIP6',\n",
       "   'LS3MIP',\n",
       "   'LUMIP',\n",
       "   'OMIP',\n",
       "   'PAMIP',\n",
       "   'PMIP',\n",
       "   'RFMIP',\n",
       "   'ScenarioMIP'],\n",
       "  'index_node': ['esgf-index4.ceda.ac.uk'],\n",
       "  'data_node': ['esgf-data3.ceda.ac.uk'],\n",
       "  'dataset_id_template_': ['%(mip_era)s.%(activity_drs)s.%(institution_id)s.%(source_id)s.%(experiment_id)s.%(member_id)s.%(table_id)s.%(variable_id)s.%(grid_label)s',\n",
       "   'CMIP6.%(activity_drs)s.%(institution_id)s.%(source_id)s.%(experiment_id)s.%(member_id)s.%(table_id)s.%(variable_id)s.%(grid_label)s'],\n",
       "  'realm': ['aerosol',\n",
       "   'atmos',\n",
       "   'atmosChem',\n",
       "   'land',\n",
       "   'landIce',\n",
       "   'ocean',\n",
       "   'ocnBgChem',\n",
       "   'ocnBgchem',\n",
       "   'seaIce',\n",
       "   'seaice'],\n",
       "  'activity_id': ['AerChemMIP',\n",
       "   'C4MIP',\n",
       "   'CDRMIP',\n",
       "   'CFMIP',\n",
       "   'CMIP',\n",
       "   'DAMIP',\n",
       "   'DCPP',\n",
       "   'FAFMIP',\n",
       "   'GMMIP',\n",
       "   'GeoMIP',\n",
       "   'HighResMIP',\n",
       "   'ISMIP6',\n",
       "   'LS3MIP',\n",
       "   'LUMIP',\n",
       "   'OMIP',\n",
       "   'PAMIP',\n",
       "   'PMIP',\n",
       "   'RFMIP',\n",
       "   'ScenarioMIP',\n",
       "   'VolMIP'],\n",
       "  'mip_era': ['CMIP6'],\n",
       "  'frequency': ['1hr',\n",
       "   '1hrCM',\n",
       "   '3hr',\n",
       "   '3hrPt',\n",
       "   '6hr',\n",
       "   '6hrPt',\n",
       "   'day',\n",
       "   'dec',\n",
       "   'fx',\n",
       "   'mon',\n",
       "   'monC',\n",
       "   'monPt',\n",
       "   'subhrPt',\n",
       "   'yr',\n",
       "   'yrPt']},\n",
       " 'extent': {'spatial': {'bbox': [[-180, -90, 180, 90]]},\n",
       "  'temporal': {'interval': [['0001-01-01T00:00:00Z',\n",
       "     '8099-12-01T00:00:00Z']]}},\n",
       " 'license': 'default'}"
      ]
     },
     "execution_count": 2,
     "metadata": {},
     "output_type": "execute_result"
    }
   ],
   "source": [
    "colls = client.get_collections()\n",
    "coll = next(colls)\n",
    "coll.to_dict()"
   ]
  },
  {
   "cell_type": "markdown",
   "id": "027ec922",
   "metadata": {
    "pycharm": {
     "name": "#%% md\n"
    }
   },
   "source": [
    " - item search"
   ]
  },
  {
   "cell_type": "code",
   "execution_count": 17,
   "id": "a3dc07ac",
   "metadata": {
    "collapsed": false,
    "jupyter": {
     "outputs_hidden": false
    },
    "pycharm": {
     "name": "#%%\n"
    }
   },
   "outputs": [
    {
     "data": {
      "text/html": [
       "\n",
       "\n",
       "<div class=\"jp-RenderedHTMLCommon jp-RenderedHTML jp-mod-trusted jp-OutputArea-output\">\n",
       "    <div style=\"\n",
       "        width: 24px;\n",
       "        height: 24px;\n",
       "        background-color: #DBF5FF;\n",
       "        border: 3px solid #4CC9FF;\n",
       "        border-radius: 5px;\n",
       "        position: absolute;\">\n",
       "    </div>\n",
       "    <div>\n",
       "        <details style=\"margin-left: 48px;\">\n",
       "            <summary style=\"margin-bottom: 20px;\">\n",
       "                <h3 style=\"margin-bottom: 0px; display: inline;\">Item: 60aad7abe7b6ac9f76b1e4c7c286447a</h3>\n",
       "            </summary>\n",
       "            <table style=\"width: 100%; text-align: left;\">\n",
       "                <tr><td style=\"text-align: left;\"><strong>ID</strong>: 60aad7abe7b6ac9f76b1e4c7c286447a </td></tr>\n",
       "                \n",
       "                \n",
       "                \n",
       "                \n",
       "                    \n",
       "                        <tr><td style=\"text-align: left;\"><strong>index_node:</strong> ['esgf-index4.ceda.ac.uk'] </td></tr>\n",
       "                    \n",
       "                        <tr><td style=\"text-align: left;\"><strong>institution_id:</strong> ['CMCC'] </td></tr>\n",
       "                    \n",
       "                        <tr><td style=\"text-align: left;\"><strong>dataset_id:</strong> ['CMIP6.DCPP.CMCC.CMCC-CM2-SR5.dcppA-hindcast.s1974-r5i1p1f1.day.tasmax.gn.v20210804|esgf-data3.ceda.ac.uk'] </td></tr>\n",
       "                    \n",
       "                        <tr><td style=\"text-align: left;\"><strong>sub_experiment_id:</strong> ['s1974'] </td></tr>\n",
       "                    \n",
       "                        <tr><td style=\"text-align: left;\"><strong>data_node:</strong> ['esgf-data3.ceda.ac.uk'] </td></tr>\n",
       "                    \n",
       "                        <tr><td style=\"text-align: left;\"><strong>realm:</strong> ['atmos'] </td></tr>\n",
       "                    \n",
       "                        <tr><td style=\"text-align: left;\"><strong>variable_units:</strong> ['K'] </td></tr>\n",
       "                    \n",
       "                        <tr><td style=\"text-align: left;\"><strong>master_id:</strong> ['CMIP6.DCPP.CMCC.CMCC-CM2-SR5.dcppA-hindcast.s1974-r5i1p1f1.day.tasmax.gn'] </td></tr>\n",
       "                    \n",
       "                        <tr><td style=\"text-align: left;\"><strong>variable:</strong> ['tasmax'] </td></tr>\n",
       "                    \n",
       "                        <tr><td style=\"text-align: left;\"><strong>pid:</strong> ['hdl:21.14100/37dc4994-0f98-316c-97b9-fd05bba9d547'] </td></tr>\n",
       "                    \n",
       "                        <tr><td style=\"text-align: left;\"><strong>variant_label:</strong> ['r5i1p1f1'] </td></tr>\n",
       "                    \n",
       "                        <tr><td style=\"text-align: left;\"><strong>experiment_id:</strong> ['dcppA-hindcast'] </td></tr>\n",
       "                    \n",
       "                        <tr><td style=\"text-align: left;\"><strong>model_cohort:</strong> ['Registered'] </td></tr>\n",
       "                    \n",
       "                        <tr><td style=\"text-align: left;\"><strong>instance_id:</strong> ['CMIP6.DCPP.CMCC.CMCC-CM2-SR5.dcppA-hindcast.s1974-r5i1p1f1.day.tasmax.gn.v20210804'] </td></tr>\n",
       "                    \n",
       "                        <tr><td style=\"text-align: left;\"><strong>grid:</strong> ['native atmosphere regular grid'] </td></tr>\n",
       "                    \n",
       "                        <tr><td style=\"text-align: left;\"><strong>mip_era:</strong> ['CMIP6'] </td></tr>\n",
       "                    \n",
       "                        <tr><td style=\"text-align: left;\"><strong>variable_long_name:</strong> ['Daily Maximum Near-Surface Air Temperature'] </td></tr>\n",
       "                    \n",
       "                        <tr><td style=\"text-align: left;\"><strong>frequency:</strong> ['day'] </td></tr>\n",
       "                    \n",
       "                        <tr><td style=\"text-align: left;\"><strong>dataset_id_template_:</strong> ['%(mip_era)s.%(activity_drs)s.%(institution_id)s.%(source_id)s.%(experiment_id)s.%(member_id)s.%(table_id)s.%(variable_id)s.%(grid_label)s'] </td></tr>\n",
       "                    \n",
       "                        <tr><td style=\"text-align: left;\"><strong>variable_id:</strong> ['tasmax'] </td></tr>\n",
       "                    \n",
       "                        <tr><td style=\"text-align: left;\"><strong>activity_drs:</strong> ['DCPP'] </td></tr>\n",
       "                    \n",
       "                        <tr><td style=\"text-align: left;\"><strong>citation_url:</strong> ['http://cera-www.dkrz.de/WDCC/meta/CMIP6/CMIP6.DCPP.CMCC.CMCC-CM2-SR5.dcppA-hindcast.s1974-r5i1p1f1.day.tasmax.gn.v20210804.json'] </td></tr>\n",
       "                    \n",
       "                        <tr><td style=\"text-align: left;\"><strong>member_id:</strong> ['s1974-r5i1p1f1'] </td></tr>\n",
       "                    \n",
       "                        <tr><td style=\"text-align: left;\"><strong>product:</strong> ['model-output'] </td></tr>\n",
       "                    \n",
       "                        <tr><td style=\"text-align: left;\"><strong>activity_id:</strong> ['DCPP'] </td></tr>\n",
       "                    \n",
       "                        <tr><td style=\"text-align: left;\"><strong>further_info_url:</strong> ['https://furtherinfo.es-doc.org/CMIP6.CMCC.CMCC-CM2-SR5.dcppA-hindcast.s1974.r5i1p1f1'] </td></tr>\n",
       "                    \n",
       "                        <tr><td style=\"text-align: left;\"><strong>experiment_title:</strong> ['hindcast initialized based on observations and using historical forcing'] </td></tr>\n",
       "                    \n",
       "                        <tr><td style=\"text-align: left;\"><strong>table_id:</strong> ['day'] </td></tr>\n",
       "                    \n",
       "                        <tr><td style=\"text-align: left;\"><strong>data_specs_version:</strong> ['01.00.31'] </td></tr>\n",
       "                    \n",
       "                        <tr><td style=\"text-align: left;\"><strong>grid_label:</strong> ['gn'] </td></tr>\n",
       "                    \n",
       "                        <tr><td style=\"text-align: left;\"><strong>project:</strong> ['CMIP6'] </td></tr>\n",
       "                    \n",
       "                        <tr><td style=\"text-align: left;\"><strong>source_id:</strong> ['CMCC-CM2-SR5'] </td></tr>\n",
       "                    \n",
       "                        <tr><td style=\"text-align: left;\"><strong>file_id:</strong> ['CMIP6.DCPP.CMCC.CMCC-CM2-SR5.dcppA-hindcast.s1974-r5i1p1f1.day.tasmax.gn.v20210804.tasmax_day_CMCC-CM2-SR5_dcppA-hindcast_s1974-r5i1p1f1_gn_19741101-19841231.nc|esgf-data3.ceda.ac.uk'] </td></tr>\n",
       "                    \n",
       "                        <tr><td style=\"text-align: left;\"><strong>nominal_resolution:</strong> ['100 km'] </td></tr>\n",
       "                    \n",
       "                        <tr><td style=\"text-align: left;\"><strong>source_type:</strong> ['AOGCM'] </td></tr>\n",
       "                    \n",
       "                        <tr><td style=\"text-align: left;\"><strong>access:</strong> ['Globus', 'GridFTP', 'HTTPServer', 'OPENDAP'] </td></tr>\n",
       "                    \n",
       "                        <tr><td style=\"text-align: left;\"><strong>cf_standard_name:</strong> ['air_temperature'] </td></tr>\n",
       "                    \n",
       "                        <tr><td style=\"text-align: left;\"><strong>start_datetime:</strong> 1974-11-01T00:00:00.000Z </td></tr>\n",
       "                    \n",
       "                        <tr><td style=\"text-align: left;\"><strong>end_datetime:</strong> 1984-12-31T00:00:00.000Z </td></tr>\n",
       "                    \n",
       "                \n",
       "                \n",
       "        \n",
       "            <tr><td style=\"text-align: left;\"><strong>stac_extensions:</strong> [] </td></tr>\n",
       "        \n",
       "    \n",
       "            </table>\n",
       "            \n",
       "            \n",
       "            \n",
       "        <details>\n",
       "            <summary style=\"margin-bottom: 10px; margin-top: 10px\">\n",
       "                <h4 style=\"margin-bottom: 0px; display: inline;\">Links</h4>\n",
       "            </summary>\n",
       "            \n",
       "                \n",
       "\n",
       "<div class=\"jp-RenderedHTMLCommon jp-RenderedHTML jp-mod-trusted jp-OutputArea-output\">\n",
       "    <div style=\"\n",
       "        width: 24px;\n",
       "        height: 24px;\n",
       "        background-color: #FFF7E5;\n",
       "        border: 3px solid #FF6132;\n",
       "        border-radius: 5px;\n",
       "        position: absolute;\">\n",
       "    </div>\n",
       "    <div style=\"margin-left: 48px;\">\n",
       "        <h4 style=\"margin-bottom: 0px;\">Link: </h4>\n",
       "        \n",
       "        <table style=\"width: 100%; text-align: left;\">\n",
       "            <tr><td style=\"text-align: left;\"><strong>Rel:</strong> self </td></tr>\n",
       "            <tr><td style=\"text-align: left;\"><strong>Target:</strong> https://api.stac.ceda.ac.uk/collections/cmip6/items/60aad7abe7b6ac9f76b1e4c7c286447a </td></tr>\n",
       "            \n",
       "                <tr><td style=\"text-align: left;\"><strong>Media Type:</strong> application/geo+json </td></tr>\n",
       "            \n",
       "            \n",
       "        </table>\n",
       "        \n",
       "    </div>\n",
       "</div>\n",
       "            \n",
       "                \n",
       "\n",
       "<div class=\"jp-RenderedHTMLCommon jp-RenderedHTML jp-mod-trusted jp-OutputArea-output\">\n",
       "    <div style=\"\n",
       "        width: 24px;\n",
       "        height: 24px;\n",
       "        background-color: #FFF7E5;\n",
       "        border: 3px solid #FF6132;\n",
       "        border-radius: 5px;\n",
       "        position: absolute;\">\n",
       "    </div>\n",
       "    <div style=\"margin-left: 48px;\">\n",
       "        <h4 style=\"margin-bottom: 0px;\">Link: </h4>\n",
       "        \n",
       "        <table style=\"width: 100%; text-align: left;\">\n",
       "            <tr><td style=\"text-align: left;\"><strong>Rel:</strong> parent </td></tr>\n",
       "            <tr><td style=\"text-align: left;\"><strong>Target:</strong> https://api.stac.ceda.ac.uk/collections/cmip6 </td></tr>\n",
       "            \n",
       "                <tr><td style=\"text-align: left;\"><strong>Media Type:</strong> application/json </td></tr>\n",
       "            \n",
       "            \n",
       "        </table>\n",
       "        \n",
       "    </div>\n",
       "</div>\n",
       "            \n",
       "                \n",
       "\n",
       "<div class=\"jp-RenderedHTMLCommon jp-RenderedHTML jp-mod-trusted jp-OutputArea-output\">\n",
       "    <div style=\"\n",
       "        width: 24px;\n",
       "        height: 24px;\n",
       "        background-color: #FFF7E5;\n",
       "        border: 3px solid #FF6132;\n",
       "        border-radius: 5px;\n",
       "        position: absolute;\">\n",
       "    </div>\n",
       "    <div style=\"margin-left: 48px;\">\n",
       "        <h4 style=\"margin-bottom: 0px;\">Link: </h4>\n",
       "        \n",
       "        <table style=\"width: 100%; text-align: left;\">\n",
       "            <tr><td style=\"text-align: left;\"><strong>Rel:</strong> collection </td></tr>\n",
       "            <tr><td style=\"text-align: left;\"><strong>Target:</strong> https://api.stac.ceda.ac.uk/collections/cmip6 </td></tr>\n",
       "            \n",
       "                <tr><td style=\"text-align: left;\"><strong>Media Type:</strong> application/json </td></tr>\n",
       "            \n",
       "            \n",
       "        </table>\n",
       "        \n",
       "    </div>\n",
       "</div>\n",
       "            \n",
       "                \n",
       "\n",
       "<div class=\"jp-RenderedHTMLCommon jp-RenderedHTML jp-mod-trusted jp-OutputArea-output\">\n",
       "    <div style=\"\n",
       "        width: 24px;\n",
       "        height: 24px;\n",
       "        background-color: #FFF7E5;\n",
       "        border: 3px solid #FF6132;\n",
       "        border-radius: 5px;\n",
       "        position: absolute;\">\n",
       "    </div>\n",
       "    <div style=\"margin-left: 48px;\">\n",
       "        <h4 style=\"margin-bottom: 0px;\">Link: </h4>\n",
       "        \n",
       "            <p style=\"color: #9D9D9D; margin-bottom: 0px;\">CEDA STAC API</p>\n",
       "        \n",
       "        <table style=\"width: 100%; text-align: left;\">\n",
       "            <tr><td style=\"text-align: left;\"><strong>Rel:</strong> root </td></tr>\n",
       "            <tr><td style=\"text-align: left;\"><strong>Target:</strong> <Client id=stac-fastapi> </td></tr>\n",
       "            \n",
       "                <tr><td style=\"text-align: left;\"><strong>Media Type:</strong> application/json </td></tr>\n",
       "            \n",
       "            \n",
       "        </table>\n",
       "        \n",
       "    </div>\n",
       "</div>\n",
       "            \n",
       "                \n",
       "\n",
       "<div class=\"jp-RenderedHTMLCommon jp-RenderedHTML jp-mod-trusted jp-OutputArea-output\">\n",
       "    <div style=\"\n",
       "        width: 24px;\n",
       "        height: 24px;\n",
       "        background-color: #FFF7E5;\n",
       "        border: 3px solid #FF6132;\n",
       "        border-radius: 5px;\n",
       "        position: absolute;\">\n",
       "    </div>\n",
       "    <div style=\"margin-left: 48px;\">\n",
       "        <h4 style=\"margin-bottom: 0px;\">Link: </h4>\n",
       "        \n",
       "        <table style=\"width: 100%; text-align: left;\">\n",
       "            <tr><td style=\"text-align: left;\"><strong>Rel:</strong> assets </td></tr>\n",
       "            <tr><td style=\"text-align: left;\"><strong>Target:</strong> https://api.stac.ceda.ac.uk/collections/cmip6/items/60aad7abe7b6ac9f76b1e4c7c286447a/assets </td></tr>\n",
       "            \n",
       "                <tr><td style=\"text-align: left;\"><strong>Media Type:</strong> application/json </td></tr>\n",
       "            \n",
       "            \n",
       "        </table>\n",
       "        \n",
       "    </div>\n",
       "</div>\n",
       "            \n",
       "        </details>\n",
       "    \n",
       "        </details>\n",
       "    </div>\n",
       "</div>"
      ],
      "text/plain": [
       "<Item id=60aad7abe7b6ac9f76b1e4c7c286447a>"
      ]
     },
     "execution_count": 17,
     "metadata": {},
     "output_type": "execute_result"
    }
   ],
   "source": [
    "item_iter = client.search().items()\n",
    "item = next(item_iter)\n",
    "item"
   ]
  },
  {
   "cell_type": "markdown",
   "id": "7bea2f91",
   "metadata": {
    "pycharm": {
     "name": "#%% md\n"
    }
   },
   "source": [
    " - asset search"
   ]
  },
  {
   "cell_type": "code",
   "execution_count": 27,
   "id": "c5c91e60",
   "metadata": {
    "collapsed": false,
    "jupyter": {
     "outputs_hidden": false
    },
    "pycharm": {
     "name": "#%%\n"
    }
   },
   "outputs": [
    {
     "data": {
      "text/plain": [
       "{'href': 'http://esgf-data3.ceda.ac.uk/thredds/fileServer/esg_cmip6/CMIP6/DCPP/MOHC/HadGEM3-GC31-MM/dcppC-amv-pos/r13i1p1f2/day/uas/gn/v20210412/uas_day_HadGEM3-GC31-MM_dcppC-amv-pos_r13i1p1f2_gn_18540101-18541230.nc',\n",
       " 'type': 'ESGF_SOLR',\n",
       " 'roles': ['data']}"
      ]
     },
     "execution_count": 27,
     "metadata": {},
     "output_type": "execute_result"
    }
   ],
   "source": [
    "# Use either:\n",
    "asset_iter = client.asset_search()\n",
    "# or \n",
    "asset_iter = client.search(doctype=\"files\").get_assets() # or doctype=\"assets\"\n",
    "assets = [next(asset_iter) for i in range(10)]\n",
    "assets[-1].to_dict()"
   ]
  },
  {
   "cell_type": "markdown",
   "id": "93686535",
   "metadata": {
    "pycharm": {
     "name": "#%% md\n"
    }
   },
   "source": [
    "## Keywords\n",
    "\n",
    "Existing version: https://esgf.github.io/esg-search/ESGF_Search_RESTful_API.html#keywords\n",
    "\n",
    "### New API\n",
    "\n",
    "The following keywords are currently used by the system - see later for usage examples:\n",
    "\n",
    "- limit=, page= to paginate through available results. (default: limit=10, page=0)\n",
    "- filter=, filter_lang= to include a search query in the filter parameter. (default GET search: filter_lang=cql-text, filter=None)\n",
    "- fields= to return only specified metadata for fields for each matching result. (default: fields=*)\n",
    "  - (NOT YET IMPLEMENTED) The current system does not have the fields extension, use source= instead.\n",
    "- Doctype search, for STAC use the respective endpoints for datasets and files:\n",
    "  - Dataset search endpoint: https://api.stac.ceda.ac.uk/search\n",
    "  - File search endpoint: https://api.stac.ceda.ac.uk/asset/search\n",
    "- bbox=`[West,South,East,North]` to filter within a geo-spatial box. (default: bbox=None)\n",
    "- datetime=`start_datime/end_datetime OR datetime` to filter within a specified temporal range or point. (default: datetime=None)\n",
    "- ids= to list one or more current STAC object to filter on.\n",
    "- collections= to list one or more STAC collections to filter on.\n",
    "- intersects= to filter by any geo-json type. (default: intersects=None)\n",
    "- q= to filter by a string against values in the properties. (default: q=None)\n",
    "\n",
    "\n",
    "### Python client\n",
    "\n",
    "The following keywords are currently used by the Python Client - see later for usage examples:\n",
    "\n",
    "- method= to specify to run a POST or GET search request.\n",
    "- limit=, max_items= to specify the number of items to return in a response, limit is items per page and max_items is total return. (default: limit=100, max_items=100)\n",
    "- doctype=`\"file\"/\"datasets\"` to specify what type of document to return. (default: doctype=\"datasets\")\n",
    "- ids= to list one or more current STAC object to filter on.\n",
    "- collections= to list one or more STAC collections to filter on. (Only for item search)\n",
    "- items= to list one or more STAC item to filter on. (Only for asset search)\n",
    "- bbox=`[West,South,East,North]` to filter within a geo-spatial box. (default: bbox=None)\n",
    "- intersects= to filter by any geo-json type. (default: intersects=None)\n",
    "- datetime=`start_datetime/end_datetime OR datetime` to filter within a specified temporal range or point. (default: datetime=None)\n",
    "- filter=, filter_lang= to include a search query in the filter parameter. (default GET search: filter_lang=cql-text, filter=None)\n",
    "- fields= to return only specified metadata for fields for each matching result. (default: fields=*)\n",
    "  - (NOT YET IMPLEMENTED) The current system does not have the fields extension, use source= instead.\n",
    "- q= to filter by a string against values in the properties. (default: q=None)"
   ]
  },
  {
   "cell_type": "markdown",
   "id": "120f912d",
   "metadata": {},
   "source": [
    "## Default Query\n",
    "\n",
    "Existing version: https://esgf.github.io/esg-search/ESGF_Search_RESTful_API.html#default-query\n",
    "\n",
    "If no parameters at all are specified, the search service will execute a query using all the default values, specifically:\n",
    "\n",
    "q=* (query all records)\n",
    "type=Dataset (return results of type “Dataset”)\n",
    "\n",
    "### New API\n",
    "\n",
    "If no parameters at all are specifed, the `/search` or `/assets/search` endpoints will execute a query using all the default values.\n",
    "\n",
    "### Python client\n",
    "\n",
    "If no parameters at all are specified, the `ESGFStacClient.search()` function will execute using all the default values, specifically:\n",
    "\n",
    "method=\"GET\" (perform a GET /search)\n",
    "fields=* (source=*, return all fields)\n",
    "doctype=datasets (return results of type \"Item\")"
   ]
  },
  {
   "cell_type": "markdown",
   "id": "b23690fc",
   "metadata": {},
   "source": [
    "## Free Text Queries\n",
    "\n",
    "Existing version: https://esgf.github.io/esg-search/ESGF_Search_RESTful_API.html#free-text-queries\n",
    "\n",
    "Free-text queries are enabled in STAC using the free-text extension: https://api.stacspec.org/v1.0.0-beta.2/item-search/#free-text-search.\n",
    "This uses the keyword parameter `q=` to match a string to **all** fields in the properties. The\n",
    "string supports case-insensitivity and partial search with the wildcard char, *.\n",
    "\n",
    "### New API\n",
    "\n",
    "Search for any text, anywhere: https://api.stac.ceda.ac.uk/search?q=%2A (q=*, URL encoded)\n",
    "\n",
    "Search for \"humidity\" in all properties fields: https://api.stac.ceda.ac.uk/search?q=humidity\n",
    "\n",
    "Partial match for \"humid\\*\" in all properties fields: https://api.stac.ceda.ac.uk/search?q=humid%2A (q=humid\\*, URL encoded)\n",
    "\n",
    "### Python client\n",
    "\n",
    "Search for \"rain\" in text anywhere:"
   ]
  },
  {
   "cell_type": "code",
   "execution_count": 36,
   "id": "eac6c6dc",
   "metadata": {
    "collapsed": false,
    "jupyter": {
     "outputs_hidden": false
    },
    "pycharm": {
     "name": "#%%\n"
    }
   },
   "outputs": [
    {
     "data": {
      "text/html": [
       "\n",
       "\n",
       "<div class=\"jp-RenderedHTMLCommon jp-RenderedHTML jp-mod-trusted jp-OutputArea-output\">\n",
       "    <div style=\"\n",
       "        width: 24px;\n",
       "        height: 24px;\n",
       "        background-color: #DBF5FF;\n",
       "        border: 3px solid #4CC9FF;\n",
       "        border-radius: 5px;\n",
       "        position: absolute;\">\n",
       "    </div>\n",
       "    <div>\n",
       "        <details style=\"margin-left: 48px;\">\n",
       "            <summary style=\"margin-bottom: 20px;\">\n",
       "                <h3 style=\"margin-bottom: 0px; display: inline;\">Item: 943f9c0a03691edd56961d2c7719f732</h3>\n",
       "            </summary>\n",
       "            <table style=\"width: 100%; text-align: left;\">\n",
       "                <tr><td style=\"text-align: left;\"><strong>ID</strong>: 943f9c0a03691edd56961d2c7719f732 </td></tr>\n",
       "                \n",
       "                \n",
       "                \n",
       "                \n",
       "                    \n",
       "                        <tr><td style=\"text-align: left;\"><strong>index_node:</strong> ['esgf-index4.ceda.ac.uk'] </td></tr>\n",
       "                    \n",
       "                        <tr><td style=\"text-align: left;\"><strong>metadata_format:</strong> ['THREDDS'] </td></tr>\n",
       "                    \n",
       "                        <tr><td style=\"text-align: left;\"><strong>institution_id:</strong> ['MOHC'] </td></tr>\n",
       "                    \n",
       "                        <tr><td style=\"text-align: left;\"><strong>dataset_id:</strong> ['CMIP6.CMIP.MOHC.UKESM1-0-LL.historical.r11i1p1f2.Omon.prra.gn.v20191209|esgf-data3.ceda.ac.uk'] </td></tr>\n",
       "                    \n",
       "                        <tr><td style=\"text-align: left;\"><strong>sub_experiment_id:</strong> ['none'] </td></tr>\n",
       "                    \n",
       "                        <tr><td style=\"text-align: left;\"><strong>data_node:</strong> ['esgf-data3.ceda.ac.uk'] </td></tr>\n",
       "                    \n",
       "                        <tr><td style=\"text-align: left;\"><strong>realm:</strong> ['atmos'] </td></tr>\n",
       "                    \n",
       "                        <tr><td style=\"text-align: left;\"><strong>variable_units:</strong> ['kg m-2 s-1'] </td></tr>\n",
       "                    \n",
       "                        <tr><td style=\"text-align: left;\"><strong>master_id:</strong> ['CMIP6.CMIP.MOHC.UKESM1-0-LL.historical.r11i1p1f2.Omon.prra.gn'] </td></tr>\n",
       "                    \n",
       "                        <tr><td style=\"text-align: left;\"><strong>variable:</strong> ['prra'] </td></tr>\n",
       "                    \n",
       "                        <tr><td style=\"text-align: left;\"><strong>pid:</strong> ['hdl:21.14100/82d5b61f-042e-335f-b3d0-39778bffbbf4'] </td></tr>\n",
       "                    \n",
       "                        <tr><td style=\"text-align: left;\"><strong>variant_label:</strong> ['r11i1p1f2'] </td></tr>\n",
       "                    \n",
       "                        <tr><td style=\"text-align: left;\"><strong>experiment_id:</strong> ['historical'] </td></tr>\n",
       "                    \n",
       "                        <tr><td style=\"text-align: left;\"><strong>model_cohort:</strong> ['Registered'] </td></tr>\n",
       "                    \n",
       "                        <tr><td style=\"text-align: left;\"><strong>dataset_version:</strong> ['20191209'] </td></tr>\n",
       "                    \n",
       "                        <tr><td style=\"text-align: left;\"><strong>instance_id:</strong> ['CMIP6.CMIP.MOHC.UKESM1-0-LL.historical.r11i1p1f2.Omon.prra.gn.v20191209'] </td></tr>\n",
       "                    \n",
       "                        <tr><td style=\"text-align: left;\"><strong>grid:</strong> ['Native eORCA1 tripolar primarily 1 deg with meridional refinement down to 1/3 degree in the tropics; 360 x 330 longitude/latitude'] </td></tr>\n",
       "                    \n",
       "                        <tr><td style=\"text-align: left;\"><strong>mip_era:</strong> ['CMIP6'] </td></tr>\n",
       "                    \n",
       "                        <tr><td style=\"text-align: left;\"><strong>variable_long_name:</strong> ['Rainfall Flux where Ice Free Ocean over Sea'] </td></tr>\n",
       "                    \n",
       "                        <tr><td style=\"text-align: left;\"><strong>frequency:</strong> ['mon'] </td></tr>\n",
       "                    \n",
       "                        <tr><td style=\"text-align: left;\"><strong>dataset_id_template_:</strong> ['%(mip_era)s.%(activity_drs)s.%(institution_id)s.%(source_id)s.%(experiment_id)s.%(member_id)s.%(table_id)s.%(variable_id)s.%(grid_label)s'] </td></tr>\n",
       "                    \n",
       "                        <tr><td style=\"text-align: left;\"><strong>variable_id:</strong> ['prra'] </td></tr>\n",
       "                    \n",
       "                        <tr><td style=\"text-align: left;\"><strong>activity_drs:</strong> ['CMIP'] </td></tr>\n",
       "                    \n",
       "                        <tr><td style=\"text-align: left;\"><strong>citation_url:</strong> ['http://cera-www.dkrz.de/WDCC/meta/CMIP6/CMIP6.CMIP.MOHC.UKESM1-0-LL.historical.r11i1p1f2.Omon.prra.gn.v20191209.json'] </td></tr>\n",
       "                    \n",
       "                        <tr><td style=\"text-align: left;\"><strong>member_id:</strong> ['r11i1p1f2'] </td></tr>\n",
       "                    \n",
       "                        <tr><td style=\"text-align: left;\"><strong>product:</strong> ['model-output'] </td></tr>\n",
       "                    \n",
       "                        <tr><td style=\"text-align: left;\"><strong>activity_id:</strong> ['CMIP'] </td></tr>\n",
       "                    \n",
       "                        <tr><td style=\"text-align: left;\"><strong>further_info_url:</strong> ['https://furtherinfo.es-doc.org/CMIP6.MOHC.UKESM1-0-LL.historical.none.r11i1p1f2'] </td></tr>\n",
       "                    \n",
       "                        <tr><td style=\"text-align: left;\"><strong>experiment_title:</strong> ['all-forcing simulation of the recent past'] </td></tr>\n",
       "                    \n",
       "                        <tr><td style=\"text-align: left;\"><strong>table_id:</strong> ['Omon'] </td></tr>\n",
       "                    \n",
       "                        <tr><td style=\"text-align: left;\"><strong>data_specs_version:</strong> ['01.00.29'] </td></tr>\n",
       "                    \n",
       "                        <tr><td style=\"text-align: left;\"><strong>grid_label:</strong> ['gn'] </td></tr>\n",
       "                    \n",
       "                        <tr><td style=\"text-align: left;\"><strong>project:</strong> ['CMIP6'] </td></tr>\n",
       "                    \n",
       "                        <tr><td style=\"text-align: left;\"><strong>source_id:</strong> ['UKESM1-0-LL'] </td></tr>\n",
       "                    \n",
       "                        <tr><td style=\"text-align: left;\"><strong>file_id:</strong> ['CMIP6.CMIP.MOHC.UKESM1-0-LL.historical.r11i1p1f2.Omon.prra.gn.v20191209.prra_Omon_UKESM1-0-LL_historical_r11i1p1f2_gn_185001-194912.nc|esgf-data3.ceda.ac.uk', 'CMIP6.CMIP.MOHC.UKESM1-0-LL.historical.r11i1p1f2.Omon.prra.gn.v20191209.prra_Omon_UKESM1-0-LL_historical_r11i1p1f2_gn_195001-201412.nc|esgf-data3.ceda.ac.uk'] </td></tr>\n",
       "                    \n",
       "                        <tr><td style=\"text-align: left;\"><strong>nominal_resolution:</strong> ['100 km'] </td></tr>\n",
       "                    \n",
       "                        <tr><td style=\"text-align: left;\"><strong>source_type:</strong> ['AER', 'AOGCM', 'BGC', 'CHEM'] </td></tr>\n",
       "                    \n",
       "                        <tr><td style=\"text-align: left;\"><strong>access:</strong> ['Globus', 'GridFTP', 'HTTPServer', 'OPENDAP'] </td></tr>\n",
       "                    \n",
       "                        <tr><td style=\"text-align: left;\"><strong>cf_standard_name:</strong> ['rainfall_flux'] </td></tr>\n",
       "                    \n",
       "                        <tr><td style=\"text-align: left;\"><strong>start_datetime:</strong> 1850-01-01T00:00:00.000Z </td></tr>\n",
       "                    \n",
       "                        <tr><td style=\"text-align: left;\"><strong>end_datetime:</strong> 2014-12-01T00:00:00.000Z </td></tr>\n",
       "                    \n",
       "                \n",
       "                \n",
       "        \n",
       "            <tr><td style=\"text-align: left;\"><strong>stac_extensions:</strong> [] </td></tr>\n",
       "        \n",
       "    \n",
       "            </table>\n",
       "            \n",
       "            \n",
       "            \n",
       "        <details>\n",
       "            <summary style=\"margin-bottom: 10px; margin-top: 10px\">\n",
       "                <h4 style=\"margin-bottom: 0px; display: inline;\">Links</h4>\n",
       "            </summary>\n",
       "            \n",
       "                \n",
       "\n",
       "<div class=\"jp-RenderedHTMLCommon jp-RenderedHTML jp-mod-trusted jp-OutputArea-output\">\n",
       "    <div style=\"\n",
       "        width: 24px;\n",
       "        height: 24px;\n",
       "        background-color: #FFF7E5;\n",
       "        border: 3px solid #FF6132;\n",
       "        border-radius: 5px;\n",
       "        position: absolute;\">\n",
       "    </div>\n",
       "    <div style=\"margin-left: 48px;\">\n",
       "        <h4 style=\"margin-bottom: 0px;\">Link: </h4>\n",
       "        \n",
       "        <table style=\"width: 100%; text-align: left;\">\n",
       "            <tr><td style=\"text-align: left;\"><strong>Rel:</strong> self </td></tr>\n",
       "            <tr><td style=\"text-align: left;\"><strong>Target:</strong> https://api.stac.ceda.ac.uk/collections/cmip6/items/943f9c0a03691edd56961d2c7719f732 </td></tr>\n",
       "            \n",
       "                <tr><td style=\"text-align: left;\"><strong>Media Type:</strong> application/geo+json </td></tr>\n",
       "            \n",
       "            \n",
       "        </table>\n",
       "        \n",
       "    </div>\n",
       "</div>\n",
       "            \n",
       "                \n",
       "\n",
       "<div class=\"jp-RenderedHTMLCommon jp-RenderedHTML jp-mod-trusted jp-OutputArea-output\">\n",
       "    <div style=\"\n",
       "        width: 24px;\n",
       "        height: 24px;\n",
       "        background-color: #FFF7E5;\n",
       "        border: 3px solid #FF6132;\n",
       "        border-radius: 5px;\n",
       "        position: absolute;\">\n",
       "    </div>\n",
       "    <div style=\"margin-left: 48px;\">\n",
       "        <h4 style=\"margin-bottom: 0px;\">Link: </h4>\n",
       "        \n",
       "        <table style=\"width: 100%; text-align: left;\">\n",
       "            <tr><td style=\"text-align: left;\"><strong>Rel:</strong> parent </td></tr>\n",
       "            <tr><td style=\"text-align: left;\"><strong>Target:</strong> https://api.stac.ceda.ac.uk/collections/cmip6 </td></tr>\n",
       "            \n",
       "                <tr><td style=\"text-align: left;\"><strong>Media Type:</strong> application/json </td></tr>\n",
       "            \n",
       "            \n",
       "        </table>\n",
       "        \n",
       "    </div>\n",
       "</div>\n",
       "            \n",
       "                \n",
       "\n",
       "<div class=\"jp-RenderedHTMLCommon jp-RenderedHTML jp-mod-trusted jp-OutputArea-output\">\n",
       "    <div style=\"\n",
       "        width: 24px;\n",
       "        height: 24px;\n",
       "        background-color: #FFF7E5;\n",
       "        border: 3px solid #FF6132;\n",
       "        border-radius: 5px;\n",
       "        position: absolute;\">\n",
       "    </div>\n",
       "    <div style=\"margin-left: 48px;\">\n",
       "        <h4 style=\"margin-bottom: 0px;\">Link: </h4>\n",
       "        \n",
       "        <table style=\"width: 100%; text-align: left;\">\n",
       "            <tr><td style=\"text-align: left;\"><strong>Rel:</strong> collection </td></tr>\n",
       "            <tr><td style=\"text-align: left;\"><strong>Target:</strong> https://api.stac.ceda.ac.uk/collections/cmip6 </td></tr>\n",
       "            \n",
       "                <tr><td style=\"text-align: left;\"><strong>Media Type:</strong> application/json </td></tr>\n",
       "            \n",
       "            \n",
       "        </table>\n",
       "        \n",
       "    </div>\n",
       "</div>\n",
       "            \n",
       "                \n",
       "\n",
       "<div class=\"jp-RenderedHTMLCommon jp-RenderedHTML jp-mod-trusted jp-OutputArea-output\">\n",
       "    <div style=\"\n",
       "        width: 24px;\n",
       "        height: 24px;\n",
       "        background-color: #FFF7E5;\n",
       "        border: 3px solid #FF6132;\n",
       "        border-radius: 5px;\n",
       "        position: absolute;\">\n",
       "    </div>\n",
       "    <div style=\"margin-left: 48px;\">\n",
       "        <h4 style=\"margin-bottom: 0px;\">Link: </h4>\n",
       "        \n",
       "            <p style=\"color: #9D9D9D; margin-bottom: 0px;\">CEDA STAC API</p>\n",
       "        \n",
       "        <table style=\"width: 100%; text-align: left;\">\n",
       "            <tr><td style=\"text-align: left;\"><strong>Rel:</strong> root </td></tr>\n",
       "            <tr><td style=\"text-align: left;\"><strong>Target:</strong> <Client id=stac-fastapi> </td></tr>\n",
       "            \n",
       "                <tr><td style=\"text-align: left;\"><strong>Media Type:</strong> application/json </td></tr>\n",
       "            \n",
       "            \n",
       "        </table>\n",
       "        \n",
       "    </div>\n",
       "</div>\n",
       "            \n",
       "                \n",
       "\n",
       "<div class=\"jp-RenderedHTMLCommon jp-RenderedHTML jp-mod-trusted jp-OutputArea-output\">\n",
       "    <div style=\"\n",
       "        width: 24px;\n",
       "        height: 24px;\n",
       "        background-color: #FFF7E5;\n",
       "        border: 3px solid #FF6132;\n",
       "        border-radius: 5px;\n",
       "        position: absolute;\">\n",
       "    </div>\n",
       "    <div style=\"margin-left: 48px;\">\n",
       "        <h4 style=\"margin-bottom: 0px;\">Link: </h4>\n",
       "        \n",
       "        <table style=\"width: 100%; text-align: left;\">\n",
       "            <tr><td style=\"text-align: left;\"><strong>Rel:</strong> assets </td></tr>\n",
       "            <tr><td style=\"text-align: left;\"><strong>Target:</strong> https://api.stac.ceda.ac.uk/collections/cmip6/items/943f9c0a03691edd56961d2c7719f732/assets </td></tr>\n",
       "            \n",
       "                <tr><td style=\"text-align: left;\"><strong>Media Type:</strong> application/json </td></tr>\n",
       "            \n",
       "            \n",
       "        </table>\n",
       "        \n",
       "    </div>\n",
       "</div>\n",
       "            \n",
       "        </details>\n",
       "    \n",
       "        </details>\n",
       "    </div>\n",
       "</div>"
      ],
      "text/plain": [
       "<Item id=943f9c0a03691edd56961d2c7719f732>"
      ]
     },
     "execution_count": 36,
     "metadata": {},
     "output_type": "execute_result"
    }
   ],
   "source": [
    "next(client.search(q=\"*rain*\").items())"
   ]
  },
  {
   "cell_type": "markdown",
   "id": "c8b6c0a7",
   "metadata": {
    "pycharm": {
     "name": "#%% md\n"
    }
   },
   "source": [
    "Search for \"humidity\" in all properties fields:"
   ]
  },
  {
   "cell_type": "code",
   "execution_count": 35,
   "id": "f2090fac",
   "metadata": {
    "collapsed": false,
    "jupyter": {
     "outputs_hidden": false
    },
    "pycharm": {
     "name": "#%%\n"
    }
   },
   "outputs": [
    {
     "data": {
      "text/plain": [
       "<pystac_client.item_search.ItemSearch at 0x7f9978790400>"
      ]
     },
     "execution_count": 35,
     "metadata": {},
     "output_type": "execute_result"
    }
   ],
   "source": [
    "next(client.search(q=\"humidity\").items())"
   ]
  },
  {
   "cell_type": "markdown",
   "id": "b824b593",
   "metadata": {
    "pycharm": {
     "name": "#%% md\n"
    }
   },
   "source": [
    "Partial match for \"humid\\*\" in all properties fields:"
   ]
  },
  {
   "cell_type": "code",
   "execution_count": 37,
   "id": "7bf52598",
   "metadata": {
    "collapsed": false,
    "jupyter": {
     "outputs_hidden": false
    },
    "pycharm": {
     "name": "#%%\n"
    }
   },
   "outputs": [
    {
     "data": {
      "text/html": [
       "\n",
       "\n",
       "<div class=\"jp-RenderedHTMLCommon jp-RenderedHTML jp-mod-trusted jp-OutputArea-output\">\n",
       "    <div style=\"\n",
       "        width: 24px;\n",
       "        height: 24px;\n",
       "        background-color: #DBF5FF;\n",
       "        border: 3px solid #4CC9FF;\n",
       "        border-radius: 5px;\n",
       "        position: absolute;\">\n",
       "    </div>\n",
       "    <div>\n",
       "        <details style=\"margin-left: 48px;\">\n",
       "            <summary style=\"margin-bottom: 20px;\">\n",
       "                <h3 style=\"margin-bottom: 0px; display: inline;\">Item: e30e429f6e390065aa375c22e07ec733</h3>\n",
       "            </summary>\n",
       "            <table style=\"width: 100%; text-align: left;\">\n",
       "                <tr><td style=\"text-align: left;\"><strong>ID</strong>: e30e429f6e390065aa375c22e07ec733 </td></tr>\n",
       "                \n",
       "                \n",
       "                \n",
       "                \n",
       "                    \n",
       "                        <tr><td style=\"text-align: left;\"><strong>index_node:</strong> ['esgf-index4.ceda.ac.uk'] </td></tr>\n",
       "                    \n",
       "                        <tr><td style=\"text-align: left;\"><strong>metadata_format:</strong> ['THREDDS'] </td></tr>\n",
       "                    \n",
       "                        <tr><td style=\"text-align: left;\"><strong>institution_id:</strong> ['CNRM-CERFACS'] </td></tr>\n",
       "                    \n",
       "                        <tr><td style=\"text-align: left;\"><strong>dataset_id:</strong> ['CMIP6.DCPP.CNRM-CERFACS.CNRM-CM6-1.dcppC-amv-neg.r15i1p1f2.Amon.hur.gr.v20190620|esgf-data3.ceda.ac.uk'] </td></tr>\n",
       "                    \n",
       "                        <tr><td style=\"text-align: left;\"><strong>sub_experiment_id:</strong> ['none'] </td></tr>\n",
       "                    \n",
       "                        <tr><td style=\"text-align: left;\"><strong>data_node:</strong> ['esgf-data3.ceda.ac.uk'] </td></tr>\n",
       "                    \n",
       "                        <tr><td style=\"text-align: left;\"><strong>realm:</strong> ['atmos'] </td></tr>\n",
       "                    \n",
       "                        <tr><td style=\"text-align: left;\"><strong>variable_units:</strong> ['%'] </td></tr>\n",
       "                    \n",
       "                        <tr><td style=\"text-align: left;\"><strong>master_id:</strong> ['CMIP6.DCPP.CNRM-CERFACS.CNRM-CM6-1.dcppC-amv-neg.r15i1p1f2.Amon.hur.gr'] </td></tr>\n",
       "                    \n",
       "                        <tr><td style=\"text-align: left;\"><strong>variable:</strong> ['hur'] </td></tr>\n",
       "                    \n",
       "                        <tr><td style=\"text-align: left;\"><strong>pid:</strong> ['hdl:21.14100/ded562f4-c8d7-32fe-b6b7-07000b628a05'] </td></tr>\n",
       "                    \n",
       "                        <tr><td style=\"text-align: left;\"><strong>variant_label:</strong> ['r15i1p1f2'] </td></tr>\n",
       "                    \n",
       "                        <tr><td style=\"text-align: left;\"><strong>experiment_id:</strong> ['dcppC-amv-neg'] </td></tr>\n",
       "                    \n",
       "                        <tr><td style=\"text-align: left;\"><strong>model_cohort:</strong> ['Registered'] </td></tr>\n",
       "                    \n",
       "                        <tr><td style=\"text-align: left;\"><strong>dataset_version:</strong> ['20190620'] </td></tr>\n",
       "                    \n",
       "                        <tr><td style=\"text-align: left;\"><strong>instance_id:</strong> ['CMIP6.DCPP.CNRM-CERFACS.CNRM-CM6-1.dcppC-amv-neg.r15i1p1f2.Amon.hur.gr.v20190620'] </td></tr>\n",
       "                    \n",
       "                        <tr><td style=\"text-align: left;\"><strong>grid:</strong> ['data regridded to a T127 gaussian grid (128x256 latlon) from a native atmosphere T127l reduced gaussian grid'] </td></tr>\n",
       "                    \n",
       "                        <tr><td style=\"text-align: left;\"><strong>mip_era:</strong> ['CMIP6'] </td></tr>\n",
       "                    \n",
       "                        <tr><td style=\"text-align: left;\"><strong>variable_long_name:</strong> ['Relative Humidity'] </td></tr>\n",
       "                    \n",
       "                        <tr><td style=\"text-align: left;\"><strong>frequency:</strong> ['mon'] </td></tr>\n",
       "                    \n",
       "                        <tr><td style=\"text-align: left;\"><strong>dataset_id_template_:</strong> ['%(mip_era)s.%(activity_drs)s.%(institution_id)s.%(source_id)s.%(experiment_id)s.%(member_id)s.%(table_id)s.%(variable_id)s.%(grid_label)s'] </td></tr>\n",
       "                    \n",
       "                        <tr><td style=\"text-align: left;\"><strong>variable_id:</strong> ['hur'] </td></tr>\n",
       "                    \n",
       "                        <tr><td style=\"text-align: left;\"><strong>activity_drs:</strong> ['DCPP'] </td></tr>\n",
       "                    \n",
       "                        <tr><td style=\"text-align: left;\"><strong>citation_url:</strong> ['http://cera-www.dkrz.de/WDCC/meta/CMIP6/CMIP6.DCPP.CNRM-CERFACS.CNRM-CM6-1.dcppC-amv-neg.r15i1p1f2.Amon.hur.gr.v20190620.json'] </td></tr>\n",
       "                    \n",
       "                        <tr><td style=\"text-align: left;\"><strong>member_id:</strong> ['r15i1p1f2'] </td></tr>\n",
       "                    \n",
       "                        <tr><td style=\"text-align: left;\"><strong>product:</strong> ['model-output'] </td></tr>\n",
       "                    \n",
       "                        <tr><td style=\"text-align: left;\"><strong>activity_id:</strong> ['DCPP'] </td></tr>\n",
       "                    \n",
       "                        <tr><td style=\"text-align: left;\"><strong>further_info_url:</strong> ['https://furtherinfo.es-doc.org/CMIP6.CNRM-CERFACS.CNRM-CM6-1.dcppC-amv-neg.none.r15i1p1f2'] </td></tr>\n",
       "                    \n",
       "                        <tr><td style=\"text-align: left;\"><strong>experiment_title:</strong> ['Idealized climate impact of negative AMV anomaly pattern'] </td></tr>\n",
       "                    \n",
       "                        <tr><td style=\"text-align: left;\"><strong>table_id:</strong> ['Amon'] </td></tr>\n",
       "                    \n",
       "                        <tr><td style=\"text-align: left;\"><strong>data_specs_version:</strong> ['01.00.27'] </td></tr>\n",
       "                    \n",
       "                        <tr><td style=\"text-align: left;\"><strong>grid_label:</strong> ['gr'] </td></tr>\n",
       "                    \n",
       "                        <tr><td style=\"text-align: left;\"><strong>project:</strong> ['CMIP6'] </td></tr>\n",
       "                    \n",
       "                        <tr><td style=\"text-align: left;\"><strong>source_id:</strong> ['CNRM-CM6-1'] </td></tr>\n",
       "                    \n",
       "                        <tr><td style=\"text-align: left;\"><strong>file_id:</strong> ['CMIP6.DCPP.CNRM-CERFACS.CNRM-CM6-1.dcppC-amv-neg.r15i1p1f2.Amon.hur.gr.v20190620.hur_Amon_CNRM-CM6-1_dcppC-amv-neg_r15i1p1f2_gr_185001-185912.nc|esgf-data3.ceda.ac.uk'] </td></tr>\n",
       "                    \n",
       "                        <tr><td style=\"text-align: left;\"><strong>nominal_resolution:</strong> ['250 km'] </td></tr>\n",
       "                    \n",
       "                        <tr><td style=\"text-align: left;\"><strong>source_type:</strong> ['AOGCM'] </td></tr>\n",
       "                    \n",
       "                        <tr><td style=\"text-align: left;\"><strong>access:</strong> ['Globus', 'GridFTP', 'HTTPServer', 'OPENDAP'] </td></tr>\n",
       "                    \n",
       "                        <tr><td style=\"text-align: left;\"><strong>cf_standard_name:</strong> ['relative_humidity'] </td></tr>\n",
       "                    \n",
       "                        <tr><td style=\"text-align: left;\"><strong>start_datetime:</strong> 1850-01-01T00:00:00.000Z </td></tr>\n",
       "                    \n",
       "                        <tr><td style=\"text-align: left;\"><strong>end_datetime:</strong> 1859-12-01T00:00:00.000Z </td></tr>\n",
       "                    \n",
       "                \n",
       "                \n",
       "        \n",
       "            <tr><td style=\"text-align: left;\"><strong>stac_extensions:</strong> [] </td></tr>\n",
       "        \n",
       "    \n",
       "            </table>\n",
       "            \n",
       "            \n",
       "            \n",
       "        <details>\n",
       "            <summary style=\"margin-bottom: 10px; margin-top: 10px\">\n",
       "                <h4 style=\"margin-bottom: 0px; display: inline;\">Links</h4>\n",
       "            </summary>\n",
       "            \n",
       "                \n",
       "\n",
       "<div class=\"jp-RenderedHTMLCommon jp-RenderedHTML jp-mod-trusted jp-OutputArea-output\">\n",
       "    <div style=\"\n",
       "        width: 24px;\n",
       "        height: 24px;\n",
       "        background-color: #FFF7E5;\n",
       "        border: 3px solid #FF6132;\n",
       "        border-radius: 5px;\n",
       "        position: absolute;\">\n",
       "    </div>\n",
       "    <div style=\"margin-left: 48px;\">\n",
       "        <h4 style=\"margin-bottom: 0px;\">Link: </h4>\n",
       "        \n",
       "        <table style=\"width: 100%; text-align: left;\">\n",
       "            <tr><td style=\"text-align: left;\"><strong>Rel:</strong> self </td></tr>\n",
       "            <tr><td style=\"text-align: left;\"><strong>Target:</strong> https://api.stac.ceda.ac.uk/collections/cmip6/items/e30e429f6e390065aa375c22e07ec733 </td></tr>\n",
       "            \n",
       "                <tr><td style=\"text-align: left;\"><strong>Media Type:</strong> application/geo+json </td></tr>\n",
       "            \n",
       "            \n",
       "        </table>\n",
       "        \n",
       "    </div>\n",
       "</div>\n",
       "            \n",
       "                \n",
       "\n",
       "<div class=\"jp-RenderedHTMLCommon jp-RenderedHTML jp-mod-trusted jp-OutputArea-output\">\n",
       "    <div style=\"\n",
       "        width: 24px;\n",
       "        height: 24px;\n",
       "        background-color: #FFF7E5;\n",
       "        border: 3px solid #FF6132;\n",
       "        border-radius: 5px;\n",
       "        position: absolute;\">\n",
       "    </div>\n",
       "    <div style=\"margin-left: 48px;\">\n",
       "        <h4 style=\"margin-bottom: 0px;\">Link: </h4>\n",
       "        \n",
       "        <table style=\"width: 100%; text-align: left;\">\n",
       "            <tr><td style=\"text-align: left;\"><strong>Rel:</strong> parent </td></tr>\n",
       "            <tr><td style=\"text-align: left;\"><strong>Target:</strong> https://api.stac.ceda.ac.uk/collections/cmip6 </td></tr>\n",
       "            \n",
       "                <tr><td style=\"text-align: left;\"><strong>Media Type:</strong> application/json </td></tr>\n",
       "            \n",
       "            \n",
       "        </table>\n",
       "        \n",
       "    </div>\n",
       "</div>\n",
       "            \n",
       "                \n",
       "\n",
       "<div class=\"jp-RenderedHTMLCommon jp-RenderedHTML jp-mod-trusted jp-OutputArea-output\">\n",
       "    <div style=\"\n",
       "        width: 24px;\n",
       "        height: 24px;\n",
       "        background-color: #FFF7E5;\n",
       "        border: 3px solid #FF6132;\n",
       "        border-radius: 5px;\n",
       "        position: absolute;\">\n",
       "    </div>\n",
       "    <div style=\"margin-left: 48px;\">\n",
       "        <h4 style=\"margin-bottom: 0px;\">Link: </h4>\n",
       "        \n",
       "        <table style=\"width: 100%; text-align: left;\">\n",
       "            <tr><td style=\"text-align: left;\"><strong>Rel:</strong> collection </td></tr>\n",
       "            <tr><td style=\"text-align: left;\"><strong>Target:</strong> https://api.stac.ceda.ac.uk/collections/cmip6 </td></tr>\n",
       "            \n",
       "                <tr><td style=\"text-align: left;\"><strong>Media Type:</strong> application/json </td></tr>\n",
       "            \n",
       "            \n",
       "        </table>\n",
       "        \n",
       "    </div>\n",
       "</div>\n",
       "            \n",
       "                \n",
       "\n",
       "<div class=\"jp-RenderedHTMLCommon jp-RenderedHTML jp-mod-trusted jp-OutputArea-output\">\n",
       "    <div style=\"\n",
       "        width: 24px;\n",
       "        height: 24px;\n",
       "        background-color: #FFF7E5;\n",
       "        border: 3px solid #FF6132;\n",
       "        border-radius: 5px;\n",
       "        position: absolute;\">\n",
       "    </div>\n",
       "    <div style=\"margin-left: 48px;\">\n",
       "        <h4 style=\"margin-bottom: 0px;\">Link: </h4>\n",
       "        \n",
       "            <p style=\"color: #9D9D9D; margin-bottom: 0px;\">CEDA STAC API</p>\n",
       "        \n",
       "        <table style=\"width: 100%; text-align: left;\">\n",
       "            <tr><td style=\"text-align: left;\"><strong>Rel:</strong> root </td></tr>\n",
       "            <tr><td style=\"text-align: left;\"><strong>Target:</strong> <Client id=stac-fastapi> </td></tr>\n",
       "            \n",
       "                <tr><td style=\"text-align: left;\"><strong>Media Type:</strong> application/json </td></tr>\n",
       "            \n",
       "            \n",
       "        </table>\n",
       "        \n",
       "    </div>\n",
       "</div>\n",
       "            \n",
       "                \n",
       "\n",
       "<div class=\"jp-RenderedHTMLCommon jp-RenderedHTML jp-mod-trusted jp-OutputArea-output\">\n",
       "    <div style=\"\n",
       "        width: 24px;\n",
       "        height: 24px;\n",
       "        background-color: #FFF7E5;\n",
       "        border: 3px solid #FF6132;\n",
       "        border-radius: 5px;\n",
       "        position: absolute;\">\n",
       "    </div>\n",
       "    <div style=\"margin-left: 48px;\">\n",
       "        <h4 style=\"margin-bottom: 0px;\">Link: </h4>\n",
       "        \n",
       "        <table style=\"width: 100%; text-align: left;\">\n",
       "            <tr><td style=\"text-align: left;\"><strong>Rel:</strong> assets </td></tr>\n",
       "            <tr><td style=\"text-align: left;\"><strong>Target:</strong> https://api.stac.ceda.ac.uk/collections/cmip6/items/e30e429f6e390065aa375c22e07ec733/assets </td></tr>\n",
       "            \n",
       "                <tr><td style=\"text-align: left;\"><strong>Media Type:</strong> application/json </td></tr>\n",
       "            \n",
       "            \n",
       "        </table>\n",
       "        \n",
       "    </div>\n",
       "</div>\n",
       "            \n",
       "        </details>\n",
       "    \n",
       "        </details>\n",
       "    </div>\n",
       "</div>"
      ],
      "text/plain": [
       "<Item id=e30e429f6e390065aa375c22e07ec733>"
      ]
     },
     "execution_count": 37,
     "metadata": {},
     "output_type": "execute_result"
    }
   ],
   "source": [
    "next(client.search(q=\"humid*\").items())"
   ]
  },
  {
   "cell_type": "markdown",
   "id": "b2a56e45",
   "metadata": {},
   "source": [
    "## Facet Queries\n",
    "\n",
    "Existing version: https://esgf.github.io/esg-search/ESGF_Search_RESTful_API.html#facet-queries\n",
    "\n",
    "Facet search is enabled using the `filter=` keyword parameter alongside `filter_lang=` to\n",
    "specify the common query language used. Default is `filter_lang='cql-text'` for a string\n",
    "based filter query using a GET search.\n",
    "\n",
    "filter= does not support temporal or spatial queries however can work alongside the datetime= and bbox= keyword\n",
    "parameters for additional temporal/spatial queries.\n",
    "\n",
    "### New API\n",
    "\n",
    "Single facet query: https://api.stac.ceda.ac.uk/search?filter=cf_standard_name+%3D+%27air_temperature%27&filter-lang=cql2-text\n",
    "\n",
    "Query with two different facet constraints: https://api.stac.ceda.ac.uk/search?filter=cf_standard_name+%3D+%27air_temperature%27+and+activity_id+%3D+%27CMIP%27&filter-lang=cql2-text\n",
    "\n",
    "Combining two values of the same facet with a logical OR: https://api.stac.ceda.ac.uk/search?filter=cf_standard_name+%3D+%27air_temperature%27+and+%28activity_id+%3D+%27CMIP%27+or+activity_id+%3D+%27AerChemMIP%27%29&filter-lang=cql2-text\n",
    "\n",
    "#### Using a negative facet:\n",
    "\n",
    "Search for all datasets that have variable ta OR hus, excluding those with acitivity_id  of AerChemMIP: https://api.stac.ceda.ac.uk/search?filter=activity_id%3C%3E%27AerChemMIP%27+AND+%28variable%3D%27hus%27+or+variable%3D%27ta%27%29&filter-lang=cql2-text\n",
    "\n",
    "Search for all datasets that have neither the variable ta OR hus: https://api.stac.ceda.ac.uk/search?filter=variable%3C%3E%27hus%27+and+variable%3C%3E%27ta%27&filter-lang=cql2-text\n",
    "\n",
    "Issue a query for all supported facets and their values at one site, while returning no results (note that only facets with one or more values are returned): https://api.stac.ceda.ac.uk/collections/cmip6/queryables\n",
    "\n",
    "### Python client\n",
    "\n",
    "Single facet query:"
   ]
  },
  {
   "cell_type": "code",
   "execution_count": 38,
   "id": "b92b0588",
   "metadata": {
    "collapsed": false,
    "jupyter": {
     "outputs_hidden": false
    },
    "pycharm": {
     "name": "#%%\n"
    }
   },
   "outputs": [
    {
     "data": {
      "text/plain": [
       "<pystac_client.item_search.ItemSearch at 0x7f99785c8be0>"
      ]
     },
     "execution_count": 38,
     "metadata": {},
     "output_type": "execute_result"
    }
   ],
   "source": [
    "client.search(cf_standard_name=\"air_temperature\")"
   ]
  },
  {
   "cell_type": "markdown",
   "id": "772a609a",
   "metadata": {
    "pycharm": {
     "name": "#%% md\n"
    }
   },
   "source": [
    "Query with two different facet constraints:"
   ]
  },
  {
   "cell_type": "code",
   "execution_count": null,
   "id": "344aca9f",
   "metadata": {
    "collapsed": false,
    "jupyter": {
     "outputs_hidden": false
    },
    "pycharm": {
     "name": "#%%\n"
    }
   },
   "outputs": [],
   "source": [
    "client.search(cf_standard_name=\"air_temperature\", activity_id=\"CMIP\")"
   ]
  },
  {
   "cell_type": "markdown",
   "id": "20036c0c",
   "metadata": {
    "pycharm": {
     "name": "#%% md\n"
    }
   },
   "source": [
    "Combining two values of the same facet with a logical OR:"
   ]
  },
  {
   "cell_type": "code",
   "execution_count": 39,
   "id": "d7be41ff",
   "metadata": {
    "collapsed": false,
    "jupyter": {
     "outputs_hidden": false
    },
    "pycharm": {
     "name": "#%%\n"
    }
   },
   "outputs": [
    {
     "data": {
      "text/html": [
       "\n",
       "\n",
       "<div class=\"jp-RenderedHTMLCommon jp-RenderedHTML jp-mod-trusted jp-OutputArea-output\">\n",
       "    <div style=\"\n",
       "        width: 24px;\n",
       "        height: 24px;\n",
       "        background-color: #DBF5FF;\n",
       "        border: 3px solid #4CC9FF;\n",
       "        border-radius: 5px;\n",
       "        position: absolute;\">\n",
       "    </div>\n",
       "    <div>\n",
       "        <details style=\"margin-left: 48px;\">\n",
       "            <summary style=\"margin-bottom: 20px;\">\n",
       "                <h3 style=\"margin-bottom: 0px; display: inline;\">Item: 6722819ace482e7984478921b9f4f101</h3>\n",
       "            </summary>\n",
       "            <table style=\"width: 100%; text-align: left;\">\n",
       "                <tr><td style=\"text-align: left;\"><strong>ID</strong>: 6722819ace482e7984478921b9f4f101 </td></tr>\n",
       "                \n",
       "                \n",
       "                \n",
       "                \n",
       "                    \n",
       "                        <tr><td style=\"text-align: left;\"><strong>source_id:</strong> ['ACCESS-ESM1-5'] </td></tr>\n",
       "                    \n",
       "                        <tr><td style=\"text-align: left;\"><strong>source_type:</strong> ['AOGCM'] </td></tr>\n",
       "                    \n",
       "                        <tr><td style=\"text-align: left;\"><strong>experiment_title:</strong> ['gap-filling scenario reaching 7.0 based on SSP3'] </td></tr>\n",
       "                    \n",
       "                        <tr><td style=\"text-align: left;\"><strong>realm:</strong> ['atmos'] </td></tr>\n",
       "                    \n",
       "                        <tr><td style=\"text-align: left;\"><strong>master_id:</strong> ['CMIP6.ScenarioMIP.CSIRO.ACCESS-ESM1-5.ssp370.r1i1p1f1.day.tas.gn'] </td></tr>\n",
       "                    \n",
       "                        <tr><td style=\"text-align: left;\"><strong>file_id:</strong> ['CMIP6.ScenarioMIP.CSIRO.ACCESS-ESM1-5.ssp370.r1i1p1f1.day.tas.gn.v20191115.tas_day_ACCESS-ESM1-5_ssp370_r1i1p1f1_gn_20150101-20641231.nc|esgf-data3.ceda.ac.uk', 'CMIP6.ScenarioMIP.CSIRO.ACCESS-ESM1-5.ssp370.r1i1p1f1.day.tas.gn.v20191115.tas_day_ACCESS-ESM1-5_ssp370_r1i1p1f1_gn_20650101-21001231.nc|esgf-data3.ceda.ac.uk'] </td></tr>\n",
       "                    \n",
       "                        <tr><td style=\"text-align: left;\"><strong>further_info_url:</strong> ['https://furtherinfo.es-doc.org/CMIP6.CSIRO.ACCESS-ESM1-5.ssp370.none.r1i1p1f1'] </td></tr>\n",
       "                    \n",
       "                        <tr><td style=\"text-align: left;\"><strong>dataset_id:</strong> ['CMIP6.ScenarioMIP.CSIRO.ACCESS-ESM1-5.ssp370.r1i1p1f1.day.tas.gn.v20191115|esgf-data3.ceda.ac.uk'] </td></tr>\n",
       "                    \n",
       "                        <tr><td style=\"text-align: left;\"><strong>frequency:</strong> ['day'] </td></tr>\n",
       "                    \n",
       "                        <tr><td style=\"text-align: left;\"><strong>model_cohort:</strong> ['Registered'] </td></tr>\n",
       "                    \n",
       "                        <tr><td style=\"text-align: left;\"><strong>activity_id:</strong> ['AerChemMIP', 'ScenarioMIP'] </td></tr>\n",
       "                    \n",
       "                        <tr><td style=\"text-align: left;\"><strong>variable_units:</strong> ['K'] </td></tr>\n",
       "                    \n",
       "                        <tr><td style=\"text-align: left;\"><strong>experiment_id:</strong> ['ssp370'] </td></tr>\n",
       "                    \n",
       "                        <tr><td style=\"text-align: left;\"><strong>nominal_resolution:</strong> ['250 km'] </td></tr>\n",
       "                    \n",
       "                        <tr><td style=\"text-align: left;\"><strong>dataset_id_template_:</strong> ['%(mip_era)s.%(activity_drs)s.%(institution_id)s.%(source_id)s.%(experiment_id)s.%(member_id)s.%(table_id)s.%(variable_id)s.%(grid_label)s'] </td></tr>\n",
       "                    \n",
       "                        <tr><td style=\"text-align: left;\"><strong>dataset_version:</strong> ['20191115'] </td></tr>\n",
       "                    \n",
       "                        <tr><td style=\"text-align: left;\"><strong>project:</strong> ['CMIP6'] </td></tr>\n",
       "                    \n",
       "                        <tr><td style=\"text-align: left;\"><strong>data_node:</strong> ['esgf-data3.ceda.ac.uk'] </td></tr>\n",
       "                    \n",
       "                        <tr><td style=\"text-align: left;\"><strong>institution_id:</strong> ['CSIRO'] </td></tr>\n",
       "                    \n",
       "                        <tr><td style=\"text-align: left;\"><strong>cf_standard_name:</strong> ['air_temperature'] </td></tr>\n",
       "                    \n",
       "                        <tr><td style=\"text-align: left;\"><strong>activity_drs:</strong> ['ScenarioMIP'] </td></tr>\n",
       "                    \n",
       "                        <tr><td style=\"text-align: left;\"><strong>index_node:</strong> ['esgf-index4.ceda.ac.uk'] </td></tr>\n",
       "                    \n",
       "                        <tr><td style=\"text-align: left;\"><strong>variable_id:</strong> ['tas'] </td></tr>\n",
       "                    \n",
       "                        <tr><td style=\"text-align: left;\"><strong>variable:</strong> ['tas'] </td></tr>\n",
       "                    \n",
       "                        <tr><td style=\"text-align: left;\"><strong>table_id:</strong> ['day'] </td></tr>\n",
       "                    \n",
       "                        <tr><td style=\"text-align: left;\"><strong>product:</strong> ['model-output'] </td></tr>\n",
       "                    \n",
       "                        <tr><td style=\"text-align: left;\"><strong>citation_url:</strong> ['http://cera-www.dkrz.de/WDCC/meta/CMIP6/CMIP6.ScenarioMIP.CSIRO.ACCESS-ESM1-5.ssp370.r1i1p1f1.day.tas.gn.v20191115.json'] </td></tr>\n",
       "                    \n",
       "                        <tr><td style=\"text-align: left;\"><strong>mip_era:</strong> ['CMIP6'] </td></tr>\n",
       "                    \n",
       "                        <tr><td style=\"text-align: left;\"><strong>data_specs_version:</strong> ['01.00.30'] </td></tr>\n",
       "                    \n",
       "                        <tr><td style=\"text-align: left;\"><strong>variable_long_name:</strong> ['Near-Surface Air Temperature'] </td></tr>\n",
       "                    \n",
       "                        <tr><td style=\"text-align: left;\"><strong>access:</strong> ['Globus', 'GridFTP', 'HTTPServer', 'OPENDAP'] </td></tr>\n",
       "                    \n",
       "                        <tr><td style=\"text-align: left;\"><strong>grid:</strong> ['native atmosphere N96 grid (145x192 latxlon)'] </td></tr>\n",
       "                    \n",
       "                        <tr><td style=\"text-align: left;\"><strong>sub_experiment_id:</strong> ['none'] </td></tr>\n",
       "                    \n",
       "                        <tr><td style=\"text-align: left;\"><strong>grid_label:</strong> ['gn'] </td></tr>\n",
       "                    \n",
       "                        <tr><td style=\"text-align: left;\"><strong>instance_id:</strong> ['CMIP6.ScenarioMIP.CSIRO.ACCESS-ESM1-5.ssp370.r1i1p1f1.day.tas.gn.v20191115'] </td></tr>\n",
       "                    \n",
       "                        <tr><td style=\"text-align: left;\"><strong>variant_label:</strong> ['r1i1p1f1'] </td></tr>\n",
       "                    \n",
       "                        <tr><td style=\"text-align: left;\"><strong>pid:</strong> ['hdl:21.14100/7491f16e-7460-3b97-b745-50b4c08b5a4e'] </td></tr>\n",
       "                    \n",
       "                        <tr><td style=\"text-align: left;\"><strong>metadata_format:</strong> ['THREDDS'] </td></tr>\n",
       "                    \n",
       "                        <tr><td style=\"text-align: left;\"><strong>member_id:</strong> ['r1i1p1f1'] </td></tr>\n",
       "                    \n",
       "                        <tr><td style=\"text-align: left;\"><strong>start_datetime:</strong> 2015-01-01T00:00:00.000Z </td></tr>\n",
       "                    \n",
       "                        <tr><td style=\"text-align: left;\"><strong>end_datetime:</strong> 2100-12-31T00:00:00.000Z </td></tr>\n",
       "                    \n",
       "                \n",
       "                \n",
       "        \n",
       "            <tr><td style=\"text-align: left;\"><strong>stac_extensions:</strong> [] </td></tr>\n",
       "        \n",
       "    \n",
       "            </table>\n",
       "            \n",
       "            \n",
       "            \n",
       "        <details>\n",
       "            <summary style=\"margin-bottom: 10px; margin-top: 10px\">\n",
       "                <h4 style=\"margin-bottom: 0px; display: inline;\">Links</h4>\n",
       "            </summary>\n",
       "            \n",
       "                \n",
       "\n",
       "<div class=\"jp-RenderedHTMLCommon jp-RenderedHTML jp-mod-trusted jp-OutputArea-output\">\n",
       "    <div style=\"\n",
       "        width: 24px;\n",
       "        height: 24px;\n",
       "        background-color: #FFF7E5;\n",
       "        border: 3px solid #FF6132;\n",
       "        border-radius: 5px;\n",
       "        position: absolute;\">\n",
       "    </div>\n",
       "    <div style=\"margin-left: 48px;\">\n",
       "        <h4 style=\"margin-bottom: 0px;\">Link: </h4>\n",
       "        \n",
       "        <table style=\"width: 100%; text-align: left;\">\n",
       "            <tr><td style=\"text-align: left;\"><strong>Rel:</strong> self </td></tr>\n",
       "            <tr><td style=\"text-align: left;\"><strong>Target:</strong> https://api.stac.ceda.ac.uk/collections/cmip6/items/6722819ace482e7984478921b9f4f101 </td></tr>\n",
       "            \n",
       "                <tr><td style=\"text-align: left;\"><strong>Media Type:</strong> application/geo+json </td></tr>\n",
       "            \n",
       "            \n",
       "        </table>\n",
       "        \n",
       "    </div>\n",
       "</div>\n",
       "            \n",
       "                \n",
       "\n",
       "<div class=\"jp-RenderedHTMLCommon jp-RenderedHTML jp-mod-trusted jp-OutputArea-output\">\n",
       "    <div style=\"\n",
       "        width: 24px;\n",
       "        height: 24px;\n",
       "        background-color: #FFF7E5;\n",
       "        border: 3px solid #FF6132;\n",
       "        border-radius: 5px;\n",
       "        position: absolute;\">\n",
       "    </div>\n",
       "    <div style=\"margin-left: 48px;\">\n",
       "        <h4 style=\"margin-bottom: 0px;\">Link: </h4>\n",
       "        \n",
       "        <table style=\"width: 100%; text-align: left;\">\n",
       "            <tr><td style=\"text-align: left;\"><strong>Rel:</strong> parent </td></tr>\n",
       "            <tr><td style=\"text-align: left;\"><strong>Target:</strong> https://api.stac.ceda.ac.uk/collections/cmip6 </td></tr>\n",
       "            \n",
       "                <tr><td style=\"text-align: left;\"><strong>Media Type:</strong> application/json </td></tr>\n",
       "            \n",
       "            \n",
       "        </table>\n",
       "        \n",
       "    </div>\n",
       "</div>\n",
       "            \n",
       "                \n",
       "\n",
       "<div class=\"jp-RenderedHTMLCommon jp-RenderedHTML jp-mod-trusted jp-OutputArea-output\">\n",
       "    <div style=\"\n",
       "        width: 24px;\n",
       "        height: 24px;\n",
       "        background-color: #FFF7E5;\n",
       "        border: 3px solid #FF6132;\n",
       "        border-radius: 5px;\n",
       "        position: absolute;\">\n",
       "    </div>\n",
       "    <div style=\"margin-left: 48px;\">\n",
       "        <h4 style=\"margin-bottom: 0px;\">Link: </h4>\n",
       "        \n",
       "        <table style=\"width: 100%; text-align: left;\">\n",
       "            <tr><td style=\"text-align: left;\"><strong>Rel:</strong> collection </td></tr>\n",
       "            <tr><td style=\"text-align: left;\"><strong>Target:</strong> https://api.stac.ceda.ac.uk/collections/cmip6 </td></tr>\n",
       "            \n",
       "                <tr><td style=\"text-align: left;\"><strong>Media Type:</strong> application/json </td></tr>\n",
       "            \n",
       "            \n",
       "        </table>\n",
       "        \n",
       "    </div>\n",
       "</div>\n",
       "            \n",
       "                \n",
       "\n",
       "<div class=\"jp-RenderedHTMLCommon jp-RenderedHTML jp-mod-trusted jp-OutputArea-output\">\n",
       "    <div style=\"\n",
       "        width: 24px;\n",
       "        height: 24px;\n",
       "        background-color: #FFF7E5;\n",
       "        border: 3px solid #FF6132;\n",
       "        border-radius: 5px;\n",
       "        position: absolute;\">\n",
       "    </div>\n",
       "    <div style=\"margin-left: 48px;\">\n",
       "        <h4 style=\"margin-bottom: 0px;\">Link: </h4>\n",
       "        \n",
       "            <p style=\"color: #9D9D9D; margin-bottom: 0px;\">CEDA STAC API</p>\n",
       "        \n",
       "        <table style=\"width: 100%; text-align: left;\">\n",
       "            <tr><td style=\"text-align: left;\"><strong>Rel:</strong> root </td></tr>\n",
       "            <tr><td style=\"text-align: left;\"><strong>Target:</strong> <Client id=stac-fastapi> </td></tr>\n",
       "            \n",
       "                <tr><td style=\"text-align: left;\"><strong>Media Type:</strong> application/json </td></tr>\n",
       "            \n",
       "            \n",
       "        </table>\n",
       "        \n",
       "    </div>\n",
       "</div>\n",
       "            \n",
       "                \n",
       "\n",
       "<div class=\"jp-RenderedHTMLCommon jp-RenderedHTML jp-mod-trusted jp-OutputArea-output\">\n",
       "    <div style=\"\n",
       "        width: 24px;\n",
       "        height: 24px;\n",
       "        background-color: #FFF7E5;\n",
       "        border: 3px solid #FF6132;\n",
       "        border-radius: 5px;\n",
       "        position: absolute;\">\n",
       "    </div>\n",
       "    <div style=\"margin-left: 48px;\">\n",
       "        <h4 style=\"margin-bottom: 0px;\">Link: </h4>\n",
       "        \n",
       "        <table style=\"width: 100%; text-align: left;\">\n",
       "            <tr><td style=\"text-align: left;\"><strong>Rel:</strong> assets </td></tr>\n",
       "            <tr><td style=\"text-align: left;\"><strong>Target:</strong> https://api.stac.ceda.ac.uk/collections/cmip6/items/6722819ace482e7984478921b9f4f101/assets </td></tr>\n",
       "            \n",
       "                <tr><td style=\"text-align: left;\"><strong>Media Type:</strong> application/json </td></tr>\n",
       "            \n",
       "            \n",
       "        </table>\n",
       "        \n",
       "    </div>\n",
       "</div>\n",
       "            \n",
       "        </details>\n",
       "    \n",
       "        </details>\n",
       "    </div>\n",
       "</div>"
      ],
      "text/plain": [
       "<Item id=6722819ace482e7984478921b9f4f101>"
      ]
     },
     "execution_count": 39,
     "metadata": {},
     "output_type": "execute_result"
    }
   ],
   "source": [
    "next(client.search(cf_standard_name=\"air_temperature\", activity_id=[\"CMIP\", \"AerChemMIP\"]).items())"
   ]
  },
  {
   "cell_type": "markdown",
   "id": "fb3ad5e5",
   "metadata": {
    "pycharm": {
     "name": "#%% md\n"
    }
   },
   "source": [
    "#### Using a negative facet:\n",
    "\n",
    "For more complex queries using comparitors such as `<>`, `<=`, `>=` (not, lte, gte) the filter keyword\n",
    "parameter must be used directly. The filter parameter does **not** work alongside facets keyword args.\n",
    "The filter parameter can be in \"cql2-text\" string or \"cql2-json\" dict with the appropriate method=.\n",
    "\n",
    "Search for all datasets that have variable ta OR hus, excluding those with acitivity_id  of AerChemMIP:"
   ]
  },
  {
   "cell_type": "code",
   "execution_count": null,
   "id": "aaf29281",
   "metadata": {
    "collapsed": false,
    "jupyter": {
     "outputs_hidden": false
    },
    "pycharm": {
     "name": "#%%\n"
    }
   },
   "outputs": [],
   "source": [
    "client.search(filter=\"activity_id<>'AerChemMIP' AND (variable='hus' or variable='ta')\")"
   ]
  },
  {
   "cell_type": "markdown",
   "id": "8f14245b",
   "metadata": {
    "pycharm": {
     "name": "#%% md\n"
    }
   },
   "source": [
    "Search for all datasets that have neither the variable ta OR hus:"
   ]
  },
  {
   "cell_type": "code",
   "execution_count": 40,
   "id": "b0288ccd",
   "metadata": {
    "collapsed": false,
    "jupyter": {
     "outputs_hidden": false
    },
    "pycharm": {
     "name": "#%%\n"
    }
   },
   "outputs": [
    {
     "data": {
      "text/html": [
       "\n",
       "\n",
       "<div class=\"jp-RenderedHTMLCommon jp-RenderedHTML jp-mod-trusted jp-OutputArea-output\">\n",
       "    <div style=\"\n",
       "        width: 24px;\n",
       "        height: 24px;\n",
       "        background-color: #DBF5FF;\n",
       "        border: 3px solid #4CC9FF;\n",
       "        border-radius: 5px;\n",
       "        position: absolute;\">\n",
       "    </div>\n",
       "    <div>\n",
       "        <details style=\"margin-left: 48px;\">\n",
       "            <summary style=\"margin-bottom: 20px;\">\n",
       "                <h3 style=\"margin-bottom: 0px; display: inline;\">Item: 60aad7abe7b6ac9f76b1e4c7c286447a</h3>\n",
       "            </summary>\n",
       "            <table style=\"width: 100%; text-align: left;\">\n",
       "                <tr><td style=\"text-align: left;\"><strong>ID</strong>: 60aad7abe7b6ac9f76b1e4c7c286447a </td></tr>\n",
       "                \n",
       "                \n",
       "                \n",
       "                \n",
       "                    \n",
       "                        <tr><td style=\"text-align: left;\"><strong>index_node:</strong> ['esgf-index4.ceda.ac.uk'] </td></tr>\n",
       "                    \n",
       "                        <tr><td style=\"text-align: left;\"><strong>institution_id:</strong> ['CMCC'] </td></tr>\n",
       "                    \n",
       "                        <tr><td style=\"text-align: left;\"><strong>dataset_id:</strong> ['CMIP6.DCPP.CMCC.CMCC-CM2-SR5.dcppA-hindcast.s1974-r5i1p1f1.day.tasmax.gn.v20210804|esgf-data3.ceda.ac.uk'] </td></tr>\n",
       "                    \n",
       "                        <tr><td style=\"text-align: left;\"><strong>sub_experiment_id:</strong> ['s1974'] </td></tr>\n",
       "                    \n",
       "                        <tr><td style=\"text-align: left;\"><strong>data_node:</strong> ['esgf-data3.ceda.ac.uk'] </td></tr>\n",
       "                    \n",
       "                        <tr><td style=\"text-align: left;\"><strong>realm:</strong> ['atmos'] </td></tr>\n",
       "                    \n",
       "                        <tr><td style=\"text-align: left;\"><strong>variable_units:</strong> ['K'] </td></tr>\n",
       "                    \n",
       "                        <tr><td style=\"text-align: left;\"><strong>master_id:</strong> ['CMIP6.DCPP.CMCC.CMCC-CM2-SR5.dcppA-hindcast.s1974-r5i1p1f1.day.tasmax.gn'] </td></tr>\n",
       "                    \n",
       "                        <tr><td style=\"text-align: left;\"><strong>variable:</strong> ['tasmax'] </td></tr>\n",
       "                    \n",
       "                        <tr><td style=\"text-align: left;\"><strong>pid:</strong> ['hdl:21.14100/37dc4994-0f98-316c-97b9-fd05bba9d547'] </td></tr>\n",
       "                    \n",
       "                        <tr><td style=\"text-align: left;\"><strong>variant_label:</strong> ['r5i1p1f1'] </td></tr>\n",
       "                    \n",
       "                        <tr><td style=\"text-align: left;\"><strong>experiment_id:</strong> ['dcppA-hindcast'] </td></tr>\n",
       "                    \n",
       "                        <tr><td style=\"text-align: left;\"><strong>model_cohort:</strong> ['Registered'] </td></tr>\n",
       "                    \n",
       "                        <tr><td style=\"text-align: left;\"><strong>instance_id:</strong> ['CMIP6.DCPP.CMCC.CMCC-CM2-SR5.dcppA-hindcast.s1974-r5i1p1f1.day.tasmax.gn.v20210804'] </td></tr>\n",
       "                    \n",
       "                        <tr><td style=\"text-align: left;\"><strong>grid:</strong> ['native atmosphere regular grid'] </td></tr>\n",
       "                    \n",
       "                        <tr><td style=\"text-align: left;\"><strong>mip_era:</strong> ['CMIP6'] </td></tr>\n",
       "                    \n",
       "                        <tr><td style=\"text-align: left;\"><strong>variable_long_name:</strong> ['Daily Maximum Near-Surface Air Temperature'] </td></tr>\n",
       "                    \n",
       "                        <tr><td style=\"text-align: left;\"><strong>frequency:</strong> ['day'] </td></tr>\n",
       "                    \n",
       "                        <tr><td style=\"text-align: left;\"><strong>dataset_id_template_:</strong> ['%(mip_era)s.%(activity_drs)s.%(institution_id)s.%(source_id)s.%(experiment_id)s.%(member_id)s.%(table_id)s.%(variable_id)s.%(grid_label)s'] </td></tr>\n",
       "                    \n",
       "                        <tr><td style=\"text-align: left;\"><strong>variable_id:</strong> ['tasmax'] </td></tr>\n",
       "                    \n",
       "                        <tr><td style=\"text-align: left;\"><strong>activity_drs:</strong> ['DCPP'] </td></tr>\n",
       "                    \n",
       "                        <tr><td style=\"text-align: left;\"><strong>citation_url:</strong> ['http://cera-www.dkrz.de/WDCC/meta/CMIP6/CMIP6.DCPP.CMCC.CMCC-CM2-SR5.dcppA-hindcast.s1974-r5i1p1f1.day.tasmax.gn.v20210804.json'] </td></tr>\n",
       "                    \n",
       "                        <tr><td style=\"text-align: left;\"><strong>member_id:</strong> ['s1974-r5i1p1f1'] </td></tr>\n",
       "                    \n",
       "                        <tr><td style=\"text-align: left;\"><strong>product:</strong> ['model-output'] </td></tr>\n",
       "                    \n",
       "                        <tr><td style=\"text-align: left;\"><strong>activity_id:</strong> ['DCPP'] </td></tr>\n",
       "                    \n",
       "                        <tr><td style=\"text-align: left;\"><strong>further_info_url:</strong> ['https://furtherinfo.es-doc.org/CMIP6.CMCC.CMCC-CM2-SR5.dcppA-hindcast.s1974.r5i1p1f1'] </td></tr>\n",
       "                    \n",
       "                        <tr><td style=\"text-align: left;\"><strong>experiment_title:</strong> ['hindcast initialized based on observations and using historical forcing'] </td></tr>\n",
       "                    \n",
       "                        <tr><td style=\"text-align: left;\"><strong>table_id:</strong> ['day'] </td></tr>\n",
       "                    \n",
       "                        <tr><td style=\"text-align: left;\"><strong>data_specs_version:</strong> ['01.00.31'] </td></tr>\n",
       "                    \n",
       "                        <tr><td style=\"text-align: left;\"><strong>grid_label:</strong> ['gn'] </td></tr>\n",
       "                    \n",
       "                        <tr><td style=\"text-align: left;\"><strong>project:</strong> ['CMIP6'] </td></tr>\n",
       "                    \n",
       "                        <tr><td style=\"text-align: left;\"><strong>source_id:</strong> ['CMCC-CM2-SR5'] </td></tr>\n",
       "                    \n",
       "                        <tr><td style=\"text-align: left;\"><strong>file_id:</strong> ['CMIP6.DCPP.CMCC.CMCC-CM2-SR5.dcppA-hindcast.s1974-r5i1p1f1.day.tasmax.gn.v20210804.tasmax_day_CMCC-CM2-SR5_dcppA-hindcast_s1974-r5i1p1f1_gn_19741101-19841231.nc|esgf-data3.ceda.ac.uk'] </td></tr>\n",
       "                    \n",
       "                        <tr><td style=\"text-align: left;\"><strong>nominal_resolution:</strong> ['100 km'] </td></tr>\n",
       "                    \n",
       "                        <tr><td style=\"text-align: left;\"><strong>source_type:</strong> ['AOGCM'] </td></tr>\n",
       "                    \n",
       "                        <tr><td style=\"text-align: left;\"><strong>access:</strong> ['Globus', 'GridFTP', 'HTTPServer', 'OPENDAP'] </td></tr>\n",
       "                    \n",
       "                        <tr><td style=\"text-align: left;\"><strong>cf_standard_name:</strong> ['air_temperature'] </td></tr>\n",
       "                    \n",
       "                        <tr><td style=\"text-align: left;\"><strong>start_datetime:</strong> 1974-11-01T00:00:00.000Z </td></tr>\n",
       "                    \n",
       "                        <tr><td style=\"text-align: left;\"><strong>end_datetime:</strong> 1984-12-31T00:00:00.000Z </td></tr>\n",
       "                    \n",
       "                \n",
       "                \n",
       "        \n",
       "            <tr><td style=\"text-align: left;\"><strong>stac_extensions:</strong> [] </td></tr>\n",
       "        \n",
       "    \n",
       "            </table>\n",
       "            \n",
       "            \n",
       "            \n",
       "        <details>\n",
       "            <summary style=\"margin-bottom: 10px; margin-top: 10px\">\n",
       "                <h4 style=\"margin-bottom: 0px; display: inline;\">Links</h4>\n",
       "            </summary>\n",
       "            \n",
       "                \n",
       "\n",
       "<div class=\"jp-RenderedHTMLCommon jp-RenderedHTML jp-mod-trusted jp-OutputArea-output\">\n",
       "    <div style=\"\n",
       "        width: 24px;\n",
       "        height: 24px;\n",
       "        background-color: #FFF7E5;\n",
       "        border: 3px solid #FF6132;\n",
       "        border-radius: 5px;\n",
       "        position: absolute;\">\n",
       "    </div>\n",
       "    <div style=\"margin-left: 48px;\">\n",
       "        <h4 style=\"margin-bottom: 0px;\">Link: </h4>\n",
       "        \n",
       "        <table style=\"width: 100%; text-align: left;\">\n",
       "            <tr><td style=\"text-align: left;\"><strong>Rel:</strong> self </td></tr>\n",
       "            <tr><td style=\"text-align: left;\"><strong>Target:</strong> https://api.stac.ceda.ac.uk/collections/cmip6/items/60aad7abe7b6ac9f76b1e4c7c286447a </td></tr>\n",
       "            \n",
       "                <tr><td style=\"text-align: left;\"><strong>Media Type:</strong> application/geo+json </td></tr>\n",
       "            \n",
       "            \n",
       "        </table>\n",
       "        \n",
       "    </div>\n",
       "</div>\n",
       "            \n",
       "                \n",
       "\n",
       "<div class=\"jp-RenderedHTMLCommon jp-RenderedHTML jp-mod-trusted jp-OutputArea-output\">\n",
       "    <div style=\"\n",
       "        width: 24px;\n",
       "        height: 24px;\n",
       "        background-color: #FFF7E5;\n",
       "        border: 3px solid #FF6132;\n",
       "        border-radius: 5px;\n",
       "        position: absolute;\">\n",
       "    </div>\n",
       "    <div style=\"margin-left: 48px;\">\n",
       "        <h4 style=\"margin-bottom: 0px;\">Link: </h4>\n",
       "        \n",
       "        <table style=\"width: 100%; text-align: left;\">\n",
       "            <tr><td style=\"text-align: left;\"><strong>Rel:</strong> parent </td></tr>\n",
       "            <tr><td style=\"text-align: left;\"><strong>Target:</strong> https://api.stac.ceda.ac.uk/collections/cmip6 </td></tr>\n",
       "            \n",
       "                <tr><td style=\"text-align: left;\"><strong>Media Type:</strong> application/json </td></tr>\n",
       "            \n",
       "            \n",
       "        </table>\n",
       "        \n",
       "    </div>\n",
       "</div>\n",
       "            \n",
       "                \n",
       "\n",
       "<div class=\"jp-RenderedHTMLCommon jp-RenderedHTML jp-mod-trusted jp-OutputArea-output\">\n",
       "    <div style=\"\n",
       "        width: 24px;\n",
       "        height: 24px;\n",
       "        background-color: #FFF7E5;\n",
       "        border: 3px solid #FF6132;\n",
       "        border-radius: 5px;\n",
       "        position: absolute;\">\n",
       "    </div>\n",
       "    <div style=\"margin-left: 48px;\">\n",
       "        <h4 style=\"margin-bottom: 0px;\">Link: </h4>\n",
       "        \n",
       "        <table style=\"width: 100%; text-align: left;\">\n",
       "            <tr><td style=\"text-align: left;\"><strong>Rel:</strong> collection </td></tr>\n",
       "            <tr><td style=\"text-align: left;\"><strong>Target:</strong> https://api.stac.ceda.ac.uk/collections/cmip6 </td></tr>\n",
       "            \n",
       "                <tr><td style=\"text-align: left;\"><strong>Media Type:</strong> application/json </td></tr>\n",
       "            \n",
       "            \n",
       "        </table>\n",
       "        \n",
       "    </div>\n",
       "</div>\n",
       "            \n",
       "                \n",
       "\n",
       "<div class=\"jp-RenderedHTMLCommon jp-RenderedHTML jp-mod-trusted jp-OutputArea-output\">\n",
       "    <div style=\"\n",
       "        width: 24px;\n",
       "        height: 24px;\n",
       "        background-color: #FFF7E5;\n",
       "        border: 3px solid #FF6132;\n",
       "        border-radius: 5px;\n",
       "        position: absolute;\">\n",
       "    </div>\n",
       "    <div style=\"margin-left: 48px;\">\n",
       "        <h4 style=\"margin-bottom: 0px;\">Link: </h4>\n",
       "        \n",
       "            <p style=\"color: #9D9D9D; margin-bottom: 0px;\">CEDA STAC API</p>\n",
       "        \n",
       "        <table style=\"width: 100%; text-align: left;\">\n",
       "            <tr><td style=\"text-align: left;\"><strong>Rel:</strong> root </td></tr>\n",
       "            <tr><td style=\"text-align: left;\"><strong>Target:</strong> <Client id=stac-fastapi> </td></tr>\n",
       "            \n",
       "                <tr><td style=\"text-align: left;\"><strong>Media Type:</strong> application/json </td></tr>\n",
       "            \n",
       "            \n",
       "        </table>\n",
       "        \n",
       "    </div>\n",
       "</div>\n",
       "            \n",
       "                \n",
       "\n",
       "<div class=\"jp-RenderedHTMLCommon jp-RenderedHTML jp-mod-trusted jp-OutputArea-output\">\n",
       "    <div style=\"\n",
       "        width: 24px;\n",
       "        height: 24px;\n",
       "        background-color: #FFF7E5;\n",
       "        border: 3px solid #FF6132;\n",
       "        border-radius: 5px;\n",
       "        position: absolute;\">\n",
       "    </div>\n",
       "    <div style=\"margin-left: 48px;\">\n",
       "        <h4 style=\"margin-bottom: 0px;\">Link: </h4>\n",
       "        \n",
       "        <table style=\"width: 100%; text-align: left;\">\n",
       "            <tr><td style=\"text-align: left;\"><strong>Rel:</strong> assets </td></tr>\n",
       "            <tr><td style=\"text-align: left;\"><strong>Target:</strong> https://api.stac.ceda.ac.uk/collections/cmip6/items/60aad7abe7b6ac9f76b1e4c7c286447a/assets </td></tr>\n",
       "            \n",
       "                <tr><td style=\"text-align: left;\"><strong>Media Type:</strong> application/json </td></tr>\n",
       "            \n",
       "            \n",
       "        </table>\n",
       "        \n",
       "    </div>\n",
       "</div>\n",
       "            \n",
       "        </details>\n",
       "    \n",
       "        </details>\n",
       "    </div>\n",
       "</div>"
      ],
      "text/plain": [
       "<Item id=60aad7abe7b6ac9f76b1e4c7c286447a>"
      ]
     },
     "execution_count": 40,
     "metadata": {},
     "output_type": "execute_result"
    }
   ],
   "source": [
    "next(client.search(filter=\"variable<>'hus' and variable<>'ta'\").items())"
   ]
  },
  {
   "cell_type": "markdown",
   "id": "7db96ff9",
   "metadata": {
    "pycharm": {
     "name": "#%% md\n"
    }
   },
   "source": [
    "Issue a query for all supported facets and their values at one site. The queryables extension is not supported by\n",
    "the python client. To get a list of all common facets and their values of a collection, they can be found in the\n",
    "summaries of a particular collection."
   ]
  },
  {
   "cell_type": "code",
   "execution_count": 46,
   "id": "993f4b2e",
   "metadata": {
    "collapsed": false,
    "jupyter": {
     "outputs_hidden": false
    },
    "pycharm": {
     "name": "#%%\n"
    }
   },
   "outputs": [
    {
     "data": {
      "text/plain": [
       "{'product': ['model-output'],\n",
       " 'source_type': ['AER',\n",
       "  'AGCM',\n",
       "  'AOGCM',\n",
       "  'AOGCM,AER',\n",
       "  'BGC',\n",
       "  'CHEM',\n",
       "  'ISM',\n",
       "  'LAND',\n",
       "  'OGCM',\n",
       "  'RAD'],\n",
       " 'metadata_format': ['THREDDS'],\n",
       " 'grid_label': ['gm',\n",
       "  'gn',\n",
       "  'gnz',\n",
       "  'gr',\n",
       "  'gr1',\n",
       "  'gr1z',\n",
       "  'gr2',\n",
       "  'gr2z',\n",
       "  'gr3',\n",
       "  'gra',\n",
       "  'grg',\n",
       "  'grz'],\n",
       " 'model_cohort': ['Registered'],\n",
       " 'data_specs_version': ['01.00.15',\n",
       "  '01.00.20',\n",
       "  '01.00.21',\n",
       "  '01.00.23',\n",
       "  '01.00.27',\n",
       "  '01.00.28',\n",
       "  '01.00.29',\n",
       "  '01.00.30',\n",
       "  '01.00.31',\n",
       "  '01.00.32',\n",
       "  '01.00.33'],\n",
       " 'project': ['CMIP6'],\n",
       " 'nominal_resolution': ['10 km',\n",
       "  '100 km',\n",
       "  '10000 km',\n",
       "  '1x1 degree',\n",
       "  '200 km',\n",
       "  '25 km',\n",
       "  '250 km',\n",
       "  '2x2 degree',\n",
       "  '50 km',\n",
       "  '500 km'],\n",
       " 'activity_drs': ['AerChemMIP',\n",
       "  'C4MIP',\n",
       "  'CDRMIP',\n",
       "  'CFMIP',\n",
       "  'CMIP',\n",
       "  'DAMIP',\n",
       "  'DCPP',\n",
       "  'FAFMIP',\n",
       "  'GMMIP',\n",
       "  'GeoMIP',\n",
       "  'HighResMIP',\n",
       "  'ISMIP6',\n",
       "  'LS3MIP',\n",
       "  'LUMIP',\n",
       "  'OMIP',\n",
       "  'PAMIP',\n",
       "  'PMIP',\n",
       "  'RFMIP',\n",
       "  'ScenarioMIP'],\n",
       " 'index_node': ['esgf-index4.ceda.ac.uk'],\n",
       " 'data_node': ['esgf-data3.ceda.ac.uk'],\n",
       " 'dataset_id_template_': ['%(mip_era)s.%(activity_drs)s.%(institution_id)s.%(source_id)s.%(experiment_id)s.%(member_id)s.%(table_id)s.%(variable_id)s.%(grid_label)s',\n",
       "  'CMIP6.%(activity_drs)s.%(institution_id)s.%(source_id)s.%(experiment_id)s.%(member_id)s.%(table_id)s.%(variable_id)s.%(grid_label)s'],\n",
       " 'realm': ['aerosol',\n",
       "  'atmos',\n",
       "  'atmosChem',\n",
       "  'land',\n",
       "  'landIce',\n",
       "  'ocean',\n",
       "  'ocnBgChem',\n",
       "  'ocnBgchem',\n",
       "  'seaIce',\n",
       "  'seaice'],\n",
       " 'activity_id': ['AerChemMIP',\n",
       "  'C4MIP',\n",
       "  'CDRMIP',\n",
       "  'CFMIP',\n",
       "  'CMIP',\n",
       "  'DAMIP',\n",
       "  'DCPP',\n",
       "  'FAFMIP',\n",
       "  'GMMIP',\n",
       "  'GeoMIP',\n",
       "  'HighResMIP',\n",
       "  'ISMIP6',\n",
       "  'LS3MIP',\n",
       "  'LUMIP',\n",
       "  'OMIP',\n",
       "  'PAMIP',\n",
       "  'PMIP',\n",
       "  'RFMIP',\n",
       "  'ScenarioMIP',\n",
       "  'VolMIP'],\n",
       " 'mip_era': ['CMIP6'],\n",
       " 'frequency': ['1hr',\n",
       "  '1hrCM',\n",
       "  '3hr',\n",
       "  '3hrPt',\n",
       "  '6hr',\n",
       "  '6hrPt',\n",
       "  'day',\n",
       "  'dec',\n",
       "  'fx',\n",
       "  'mon',\n",
       "  'monC',\n",
       "  'monPt',\n",
       "  'subhrPt',\n",
       "  'yr',\n",
       "  'yrPt']}"
      ]
     },
     "execution_count": 46,
     "metadata": {},
     "output_type": "execute_result"
    }
   ],
   "source": [
    "client.get_collection(collection_id='cmip6').summaries.to_dict()\n"
   ]
  },
  {
   "cell_type": "markdown",
   "id": "0cbfabd3",
   "metadata": {},
   "source": [
    "## Facet Listings\n",
    "\n",
    "Existing version: https://esgf.github.io/esg-search/ESGF_Search_RESTful_API.html#facet-listings\n",
    "\n",
    "The STAC /queryables endpoint is only supported on a per collection basis. It will return a JSON of **all** the facets and\n",
    "values listings.\n",
    "\n",
    "### New API\n",
    "\n",
    "List all the CMIP6 facet names and values: https://api.stac.ceda.ac.uk/collections/cmip6/queryables\n",
    "\n",
    "### Python client\n",
    "\n",
    "Queryables endpoint not supported by the Python Client."
   ]
  },
  {
   "cell_type": "markdown",
   "id": "24fcb259",
   "metadata": {},
   "source": [
    "## Temporal Coverage Queries\n",
    "\n",
    "Existing version: https://esgf.github.io/esg-search/ESGF_Search_RESTful_API.html#temporal-coverage-queries\n",
    "\n",
    "Temporal search is applied with the \"datetime\" keyword parameter and uses the ISO 8601 format.\n",
    "\n",
    "### New API\n",
    "\n",
    "Single date search (equivalent to a range search from the start to the end of the day): https://api.stac.ceda.ac.uk/search?datetime=2300-01-01\n",
    "\n",
    "Single datetime search: https://api.stac.ceda.ac.uk/search?datetime=2300-01-01T00%3A00%3A00Z\n",
    "\n",
    "Open ended datetime search (GTE a datetime point): https://api.stac.ceda.ac.uk/search?datetime=2300-01-01T00%3A00%3A00Z%2F..\n",
    "\n",
    "Open begining datetime search (LTE a datetime point): https://api.stac.ceda.ac.uk/search?datetime=..%2F2800-12-01T00%3A00%3A00.000Z\n",
    "\n",
    "Complete range datetime search (GTE and LTE two datetime points): https://api.stac.ceda.ac.uk/search?datetime=2300-01-01T00%3A00%3A00Z%2F2800-12-01T00%3A00%3A00.000Z\n",
    "\n",
    "### Python client\n",
    "\n",
    "Single date search (equivalent to a range search from the start to the end of the day):"
   ]
  },
  {
   "cell_type": "code",
   "execution_count": null,
   "id": "0a060212",
   "metadata": {
    "collapsed": false,
    "jupyter": {
     "outputs_hidden": false
    },
    "pycharm": {
     "name": "#%%\n"
    }
   },
   "outputs": [],
   "source": [
    "client.search(datetime=\"2300-01-01\")"
   ]
  },
  {
   "cell_type": "markdown",
   "id": "8b2ae463",
   "metadata": {
    "pycharm": {
     "name": "#%% md\n"
    }
   },
   "source": [
    "Single datetime search:"
   ]
  },
  {
   "cell_type": "code",
   "execution_count": null,
   "id": "c96d6cf3",
   "metadata": {
    "collapsed": false,
    "jupyter": {
     "outputs_hidden": false
    },
    "pycharm": {
     "name": "#%%\n"
    }
   },
   "outputs": [],
   "source": [
    "client.search(datetime=\"2300-01-01T00:00:00Z\")"
   ]
  },
  {
   "cell_type": "markdown",
   "id": "277f1877",
   "metadata": {
    "pycharm": {
     "name": "#%% md\n"
    }
   },
   "source": [
    "Open ended datetime search (GTE a datetime point):"
   ]
  },
  {
   "cell_type": "code",
   "execution_count": null,
   "id": "4f65e183-e197-4ccd-85c6-61e5e98bcdbf",
   "metadata": {},
   "outputs": [],
   "source": [
    "client.search(datetime=\"../1900-12-01T00:00:00.000Z\")"
   ]
  },
  {
   "cell_type": "code",
   "execution_count": 63,
   "id": "a26c148e",
   "metadata": {
    "collapsed": false,
    "jupyter": {
     "outputs_hidden": false
    },
    "pycharm": {
     "name": "#%%\n"
    }
   },
   "outputs": [
    {
     "ename": "APIError",
     "evalue": "{\"detail\":\"RequestError(400, 'search_phase_execution_exception', 'Result window is too large, from + size must be less than or equal to: [10000] but was [10100]. See the scroll api for a more efficient way to request large data sets. This limit can be set by changing the [index.max_result_window] index level setting.')\"}",
     "output_type": "error",
     "traceback": [
      "\u001b[0;31m---------------------------------------------------------------------------\u001b[0m",
      "\u001b[0;31mAPIError\u001b[0m                                  Traceback (most recent call last)",
      "\u001b[0;32m/tmp/ipykernel_6130/4154753933.py\u001b[0m in \u001b[0;36m<module>\u001b[0;34m\u001b[0m\n\u001b[1;32m      1\u001b[0m \u001b[0mres\u001b[0m \u001b[0;34m=\u001b[0m \u001b[0mclient\u001b[0m\u001b[0;34m.\u001b[0m\u001b[0msearch\u001b[0m\u001b[0;34m(\u001b[0m\u001b[0mdatetime\u001b[0m\u001b[0;34m=\u001b[0m\u001b[0;34m\"2300-01-01T00:00:00Z/..\"\u001b[0m\u001b[0;34m)\u001b[0m\u001b[0;34m\u001b[0m\u001b[0;34m\u001b[0m\u001b[0m\n\u001b[0;32m----> 2\u001b[0;31m \u001b[0mnext\u001b[0m\u001b[0;34m(\u001b[0m\u001b[0mres\u001b[0m\u001b[0;34m.\u001b[0m\u001b[0mitems\u001b[0m\u001b[0;34m(\u001b[0m\u001b[0;34m)\u001b[0m\u001b[0;34m)\u001b[0m\u001b[0;34m\u001b[0m\u001b[0;34m\u001b[0m\u001b[0m\n\u001b[0m",
      "\u001b[0;32m~/stac/pystac-client/pystac_client/item_search.py\u001b[0m in \u001b[0;36mitems\u001b[0;34m(self)\u001b[0m\n\u001b[1;32m    633\u001b[0m         \"\"\"\n\u001b[1;32m    634\u001b[0m         \u001b[0mnitems\u001b[0m \u001b[0;34m=\u001b[0m \u001b[0;36m0\u001b[0m\u001b[0;34m\u001b[0m\u001b[0;34m\u001b[0m\u001b[0m\n\u001b[0;32m--> 635\u001b[0;31m         \u001b[0;32mfor\u001b[0m \u001b[0mitem_collection\u001b[0m \u001b[0;32min\u001b[0m \u001b[0mself\u001b[0m\u001b[0;34m.\u001b[0m\u001b[0mitem_collections\u001b[0m\u001b[0;34m(\u001b[0m\u001b[0;34m)\u001b[0m\u001b[0;34m:\u001b[0m\u001b[0;34m\u001b[0m\u001b[0;34m\u001b[0m\u001b[0m\n\u001b[0m\u001b[1;32m    636\u001b[0m             \u001b[0;32mfor\u001b[0m \u001b[0mitem\u001b[0m \u001b[0;32min\u001b[0m \u001b[0mitem_collection\u001b[0m\u001b[0;34m:\u001b[0m\u001b[0;34m\u001b[0m\u001b[0;34m\u001b[0m\u001b[0m\n\u001b[1;32m    637\u001b[0m                 \u001b[0;32myield\u001b[0m \u001b[0mitem\u001b[0m\u001b[0;34m\u001b[0m\u001b[0;34m\u001b[0m\u001b[0m\n",
      "\u001b[0;32m~/stac/pystac-client/pystac_client/item_search.py\u001b[0m in \u001b[0;36mitem_collections\u001b[0;34m(self)\u001b[0m\n\u001b[1;32m    614\u001b[0m         \"\"\"\n\u001b[1;32m    615\u001b[0m         \u001b[0;32mif\u001b[0m \u001b[0misinstance\u001b[0m\u001b[0;34m(\u001b[0m\u001b[0mself\u001b[0m\u001b[0;34m.\u001b[0m\u001b[0m_stac_io\u001b[0m\u001b[0;34m,\u001b[0m \u001b[0mStacApiIO\u001b[0m\u001b[0;34m)\u001b[0m\u001b[0;34m:\u001b[0m\u001b[0;34m\u001b[0m\u001b[0;34m\u001b[0m\u001b[0m\n\u001b[0;32m--> 616\u001b[0;31m             for page in self._stac_io.get_pages(\n\u001b[0m\u001b[1;32m    617\u001b[0m                 \u001b[0mself\u001b[0m\u001b[0;34m.\u001b[0m\u001b[0murl\u001b[0m\u001b[0;34m,\u001b[0m \u001b[0mself\u001b[0m\u001b[0;34m.\u001b[0m\u001b[0mmethod\u001b[0m\u001b[0;34m,\u001b[0m \u001b[0mself\u001b[0m\u001b[0;34m.\u001b[0m\u001b[0mget_parameters\u001b[0m\u001b[0;34m(\u001b[0m\u001b[0;34m)\u001b[0m\u001b[0;34m\u001b[0m\u001b[0;34m\u001b[0m\u001b[0m\n\u001b[1;32m    618\u001b[0m             ):\n",
      "\u001b[0;32m~/stac/pystac-client/pystac_client/stac_api_io.py\u001b[0m in \u001b[0;36mget_pages\u001b[0;34m(self, url, method, parameters)\u001b[0m\n\u001b[1;32m    226\u001b[0m         \u001b[0;32mwhile\u001b[0m \u001b[0mnext_link\u001b[0m\u001b[0;34m:\u001b[0m\u001b[0;34m\u001b[0m\u001b[0;34m\u001b[0m\u001b[0m\n\u001b[1;32m    227\u001b[0m             \u001b[0mlink\u001b[0m \u001b[0;34m=\u001b[0m \u001b[0mLink\u001b[0m\u001b[0;34m.\u001b[0m\u001b[0mfrom_dict\u001b[0m\u001b[0;34m(\u001b[0m\u001b[0mnext_link\u001b[0m\u001b[0;34m)\u001b[0m\u001b[0;34m\u001b[0m\u001b[0;34m\u001b[0m\u001b[0m\n\u001b[0;32m--> 228\u001b[0;31m             \u001b[0mpage\u001b[0m \u001b[0;34m=\u001b[0m \u001b[0mself\u001b[0m\u001b[0;34m.\u001b[0m\u001b[0mread_json\u001b[0m\u001b[0;34m(\u001b[0m\u001b[0mlink\u001b[0m\u001b[0;34m,\u001b[0m \u001b[0mparameters\u001b[0m\u001b[0;34m=\u001b[0m\u001b[0mparameters\u001b[0m\u001b[0;34m)\u001b[0m\u001b[0;34m\u001b[0m\u001b[0;34m\u001b[0m\u001b[0m\n\u001b[0m\u001b[1;32m    229\u001b[0m             \u001b[0;32myield\u001b[0m \u001b[0mpage\u001b[0m\u001b[0;34m\u001b[0m\u001b[0;34m\u001b[0m\u001b[0m\n\u001b[1;32m    230\u001b[0m \u001b[0;34m\u001b[0m\u001b[0m\n",
      "\u001b[0;32m~/.local/lib/python3.8/site-packages/pystac/stac_io.py\u001b[0m in \u001b[0;36mread_json\u001b[0;34m(self, source, *args, **kwargs)\u001b[0m\n\u001b[1;32m    195\u001b[0m             \u001b[0mgiven\u001b[0m \u001b[0msource\u001b[0m\u001b[0;34m.\u001b[0m\u001b[0;34m\u001b[0m\u001b[0;34m\u001b[0m\u001b[0m\n\u001b[1;32m    196\u001b[0m         \"\"\"\n\u001b[0;32m--> 197\u001b[0;31m         \u001b[0mtxt\u001b[0m \u001b[0;34m=\u001b[0m \u001b[0mself\u001b[0m\u001b[0;34m.\u001b[0m\u001b[0mread_text\u001b[0m\u001b[0;34m(\u001b[0m\u001b[0msource\u001b[0m\u001b[0;34m,\u001b[0m \u001b[0;34m*\u001b[0m\u001b[0margs\u001b[0m\u001b[0;34m,\u001b[0m \u001b[0;34m**\u001b[0m\u001b[0mkwargs\u001b[0m\u001b[0;34m)\u001b[0m\u001b[0;34m\u001b[0m\u001b[0;34m\u001b[0m\u001b[0m\n\u001b[0m\u001b[1;32m    198\u001b[0m         \u001b[0;32mreturn\u001b[0m \u001b[0mself\u001b[0m\u001b[0;34m.\u001b[0m\u001b[0mjson_loads\u001b[0m\u001b[0;34m(\u001b[0m\u001b[0mtxt\u001b[0m\u001b[0;34m)\u001b[0m\u001b[0;34m\u001b[0m\u001b[0;34m\u001b[0m\u001b[0m\n\u001b[1;32m    199\u001b[0m \u001b[0;34m\u001b[0m\u001b[0m\n",
      "\u001b[0;32m~/stac/pystac-client/pystac_client/stac_api_io.py\u001b[0m in \u001b[0;36mread_text\u001b[0;34m(self, source, *args, **kwargs)\u001b[0m\n\u001b[1;32m     89\u001b[0m                 \u001b[0mparameters\u001b[0m \u001b[0;34m=\u001b[0m \u001b[0;34m{\u001b[0m\u001b[0;34m}\u001b[0m\u001b[0;34m\u001b[0m\u001b[0;34m\u001b[0m\u001b[0m\n\u001b[1;32m     90\u001b[0m \u001b[0;34m\u001b[0m\u001b[0m\n\u001b[0;32m---> 91\u001b[0;31m             return self.request(\n\u001b[0m\u001b[1;32m     92\u001b[0m                 \u001b[0mhref\u001b[0m\u001b[0;34m,\u001b[0m \u001b[0mmethod\u001b[0m\u001b[0;34m=\u001b[0m\u001b[0mmethod\u001b[0m\u001b[0;34m,\u001b[0m \u001b[0mheaders\u001b[0m\u001b[0;34m=\u001b[0m\u001b[0mheaders\u001b[0m\u001b[0;34m,\u001b[0m \u001b[0mparameters\u001b[0m\u001b[0;34m=\u001b[0m\u001b[0mparameters\u001b[0m\u001b[0;34m\u001b[0m\u001b[0;34m\u001b[0m\u001b[0m\n\u001b[1;32m     93\u001b[0m             )\n",
      "\u001b[0;32m~/stac/pystac-client/pystac_client/stac_api_io.py\u001b[0m in \u001b[0;36mrequest\u001b[0;34m(self, href, method, headers, parameters)\u001b[0m\n\u001b[1;32m    142\u001b[0m             \u001b[0;32mraise\u001b[0m \u001b[0mAPIError\u001b[0m\u001b[0;34m(\u001b[0m\u001b[0mstr\u001b[0m\u001b[0;34m(\u001b[0m\u001b[0merr\u001b[0m\u001b[0;34m)\u001b[0m\u001b[0;34m)\u001b[0m\u001b[0;34m\u001b[0m\u001b[0;34m\u001b[0m\u001b[0m\n\u001b[1;32m    143\u001b[0m         \u001b[0;32mif\u001b[0m \u001b[0mresp\u001b[0m\u001b[0;34m.\u001b[0m\u001b[0mstatus_code\u001b[0m \u001b[0;34m!=\u001b[0m \u001b[0;36m200\u001b[0m\u001b[0;34m:\u001b[0m\u001b[0;34m\u001b[0m\u001b[0;34m\u001b[0m\u001b[0m\n\u001b[0;32m--> 144\u001b[0;31m             \u001b[0;32mraise\u001b[0m \u001b[0mAPIError\u001b[0m\u001b[0;34m.\u001b[0m\u001b[0mfrom_response\u001b[0m\u001b[0;34m(\u001b[0m\u001b[0mresp\u001b[0m\u001b[0;34m)\u001b[0m\u001b[0;34m\u001b[0m\u001b[0;34m\u001b[0m\u001b[0m\n\u001b[0m\u001b[1;32m    145\u001b[0m         \u001b[0;32mtry\u001b[0m\u001b[0;34m:\u001b[0m\u001b[0;34m\u001b[0m\u001b[0;34m\u001b[0m\u001b[0m\n\u001b[1;32m    146\u001b[0m             \u001b[0;32mreturn\u001b[0m \u001b[0mresp\u001b[0m\u001b[0;34m.\u001b[0m\u001b[0mcontent\u001b[0m\u001b[0;34m.\u001b[0m\u001b[0mdecode\u001b[0m\u001b[0;34m(\u001b[0m\u001b[0;34m\"utf-8\"\u001b[0m\u001b[0;34m)\u001b[0m\u001b[0;34m\u001b[0m\u001b[0;34m\u001b[0m\u001b[0m\n",
      "\u001b[0;31mAPIError\u001b[0m: {\"detail\":\"RequestError(400, 'search_phase_execution_exception', 'Result window is too large, from + size must be less than or equal to: [10000] but was [10100]. See the scroll api for a more efficient way to request large data sets. This limit can be set by changing the [index.max_result_window] index level setting.')\"}"
     ]
    }
   ],
   "source": [
    "client.search(datetime=\"2300-01-01T00:00:00Z/..\")"
   ]
  },
  {
   "cell_type": "code",
   "execution_count": 54,
   "id": "5fcac84d",
   "metadata": {
    "collapsed": false,
    "jupyter": {
     "outputs_hidden": false
    },
    "pycharm": {
     "name": "#%%\n"
    }
   },
   "outputs": [
    {
     "ename": "APIError",
     "evalue": "{\"detail\":\"RequestError(400, 'search_phase_execution_exception', 'Result window is too large, from + size must be less than or equal to: [10000] but was [10100]. See the scroll api for a more efficient way to request large data sets. This limit can be set by changing the [index.max_result_window] index level setting.')\"}",
     "output_type": "error",
     "traceback": [
      "\u001b[0;31m---------------------------------------------------------------------------\u001b[0m",
      "\u001b[0;31mAPIError\u001b[0m                                  Traceback (most recent call last)",
      "\u001b[0;32m/tmp/ipykernel_6130/2495411231.py\u001b[0m in \u001b[0;36m<module>\u001b[0;34m\u001b[0m\n\u001b[0;32m----> 1\u001b[0;31m \u001b[0mnext\u001b[0m\u001b[0;34m(\u001b[0m\u001b[0mclient\u001b[0m\u001b[0;34m.\u001b[0m\u001b[0msearch\u001b[0m\u001b[0;34m(\u001b[0m\u001b[0mdatetime\u001b[0m\u001b[0;34m=\u001b[0m\u001b[0;34m\"../1900-12-01T00:00:00.000Z\"\u001b[0m\u001b[0;34m)\u001b[0m\u001b[0;34m.\u001b[0m\u001b[0mitems\u001b[0m\u001b[0;34m(\u001b[0m\u001b[0;34m)\u001b[0m\u001b[0;34m)\u001b[0m\u001b[0;34m\u001b[0m\u001b[0;34m\u001b[0m\u001b[0m\n\u001b[0m",
      "\u001b[0;32m~/stac/pystac-client/pystac_client/item_search.py\u001b[0m in \u001b[0;36mitems\u001b[0;34m(self)\u001b[0m\n\u001b[1;32m    633\u001b[0m         \"\"\"\n\u001b[1;32m    634\u001b[0m         \u001b[0mnitems\u001b[0m \u001b[0;34m=\u001b[0m \u001b[0;36m0\u001b[0m\u001b[0;34m\u001b[0m\u001b[0;34m\u001b[0m\u001b[0m\n\u001b[0;32m--> 635\u001b[0;31m         \u001b[0;32mfor\u001b[0m \u001b[0mitem_collection\u001b[0m \u001b[0;32min\u001b[0m \u001b[0mself\u001b[0m\u001b[0;34m.\u001b[0m\u001b[0mitem_collections\u001b[0m\u001b[0;34m(\u001b[0m\u001b[0;34m)\u001b[0m\u001b[0;34m:\u001b[0m\u001b[0;34m\u001b[0m\u001b[0;34m\u001b[0m\u001b[0m\n\u001b[0m\u001b[1;32m    636\u001b[0m             \u001b[0;32mfor\u001b[0m \u001b[0mitem\u001b[0m \u001b[0;32min\u001b[0m \u001b[0mitem_collection\u001b[0m\u001b[0;34m:\u001b[0m\u001b[0;34m\u001b[0m\u001b[0;34m\u001b[0m\u001b[0m\n\u001b[1;32m    637\u001b[0m                 \u001b[0;32myield\u001b[0m \u001b[0mitem\u001b[0m\u001b[0;34m\u001b[0m\u001b[0;34m\u001b[0m\u001b[0m\n",
      "\u001b[0;32m~/stac/pystac-client/pystac_client/item_search.py\u001b[0m in \u001b[0;36mitem_collections\u001b[0;34m(self)\u001b[0m\n\u001b[1;32m    614\u001b[0m         \"\"\"\n\u001b[1;32m    615\u001b[0m         \u001b[0;32mif\u001b[0m \u001b[0misinstance\u001b[0m\u001b[0;34m(\u001b[0m\u001b[0mself\u001b[0m\u001b[0;34m.\u001b[0m\u001b[0m_stac_io\u001b[0m\u001b[0;34m,\u001b[0m \u001b[0mStacApiIO\u001b[0m\u001b[0;34m)\u001b[0m\u001b[0;34m:\u001b[0m\u001b[0;34m\u001b[0m\u001b[0;34m\u001b[0m\u001b[0m\n\u001b[0;32m--> 616\u001b[0;31m             for page in self._stac_io.get_pages(\n\u001b[0m\u001b[1;32m    617\u001b[0m                 \u001b[0mself\u001b[0m\u001b[0;34m.\u001b[0m\u001b[0murl\u001b[0m\u001b[0;34m,\u001b[0m \u001b[0mself\u001b[0m\u001b[0;34m.\u001b[0m\u001b[0mmethod\u001b[0m\u001b[0;34m,\u001b[0m \u001b[0mself\u001b[0m\u001b[0;34m.\u001b[0m\u001b[0mget_parameters\u001b[0m\u001b[0;34m(\u001b[0m\u001b[0;34m)\u001b[0m\u001b[0;34m\u001b[0m\u001b[0;34m\u001b[0m\u001b[0m\n\u001b[1;32m    618\u001b[0m             ):\n",
      "\u001b[0;32m~/stac/pystac-client/pystac_client/stac_api_io.py\u001b[0m in \u001b[0;36mget_pages\u001b[0;34m(self, url, method, parameters)\u001b[0m\n\u001b[1;32m    226\u001b[0m         \u001b[0;32mwhile\u001b[0m \u001b[0mnext_link\u001b[0m\u001b[0;34m:\u001b[0m\u001b[0;34m\u001b[0m\u001b[0;34m\u001b[0m\u001b[0m\n\u001b[1;32m    227\u001b[0m             \u001b[0mlink\u001b[0m \u001b[0;34m=\u001b[0m \u001b[0mLink\u001b[0m\u001b[0;34m.\u001b[0m\u001b[0mfrom_dict\u001b[0m\u001b[0;34m(\u001b[0m\u001b[0mnext_link\u001b[0m\u001b[0;34m)\u001b[0m\u001b[0;34m\u001b[0m\u001b[0;34m\u001b[0m\u001b[0m\n\u001b[0;32m--> 228\u001b[0;31m             \u001b[0mpage\u001b[0m \u001b[0;34m=\u001b[0m \u001b[0mself\u001b[0m\u001b[0;34m.\u001b[0m\u001b[0mread_json\u001b[0m\u001b[0;34m(\u001b[0m\u001b[0mlink\u001b[0m\u001b[0;34m,\u001b[0m \u001b[0mparameters\u001b[0m\u001b[0;34m=\u001b[0m\u001b[0mparameters\u001b[0m\u001b[0;34m)\u001b[0m\u001b[0;34m\u001b[0m\u001b[0;34m\u001b[0m\u001b[0m\n\u001b[0m\u001b[1;32m    229\u001b[0m             \u001b[0;32myield\u001b[0m \u001b[0mpage\u001b[0m\u001b[0;34m\u001b[0m\u001b[0;34m\u001b[0m\u001b[0m\n\u001b[1;32m    230\u001b[0m \u001b[0;34m\u001b[0m\u001b[0m\n",
      "\u001b[0;32m~/.local/lib/python3.8/site-packages/pystac/stac_io.py\u001b[0m in \u001b[0;36mread_json\u001b[0;34m(self, source, *args, **kwargs)\u001b[0m\n\u001b[1;32m    195\u001b[0m             \u001b[0mgiven\u001b[0m \u001b[0msource\u001b[0m\u001b[0;34m.\u001b[0m\u001b[0;34m\u001b[0m\u001b[0;34m\u001b[0m\u001b[0m\n\u001b[1;32m    196\u001b[0m         \"\"\"\n\u001b[0;32m--> 197\u001b[0;31m         \u001b[0mtxt\u001b[0m \u001b[0;34m=\u001b[0m \u001b[0mself\u001b[0m\u001b[0;34m.\u001b[0m\u001b[0mread_text\u001b[0m\u001b[0;34m(\u001b[0m\u001b[0msource\u001b[0m\u001b[0;34m,\u001b[0m \u001b[0;34m*\u001b[0m\u001b[0margs\u001b[0m\u001b[0;34m,\u001b[0m \u001b[0;34m**\u001b[0m\u001b[0mkwargs\u001b[0m\u001b[0;34m)\u001b[0m\u001b[0;34m\u001b[0m\u001b[0;34m\u001b[0m\u001b[0m\n\u001b[0m\u001b[1;32m    198\u001b[0m         \u001b[0;32mreturn\u001b[0m \u001b[0mself\u001b[0m\u001b[0;34m.\u001b[0m\u001b[0mjson_loads\u001b[0m\u001b[0;34m(\u001b[0m\u001b[0mtxt\u001b[0m\u001b[0;34m)\u001b[0m\u001b[0;34m\u001b[0m\u001b[0;34m\u001b[0m\u001b[0m\n\u001b[1;32m    199\u001b[0m \u001b[0;34m\u001b[0m\u001b[0m\n",
      "\u001b[0;32m~/stac/pystac-client/pystac_client/stac_api_io.py\u001b[0m in \u001b[0;36mread_text\u001b[0;34m(self, source, *args, **kwargs)\u001b[0m\n\u001b[1;32m     89\u001b[0m                 \u001b[0mparameters\u001b[0m \u001b[0;34m=\u001b[0m \u001b[0;34m{\u001b[0m\u001b[0;34m}\u001b[0m\u001b[0;34m\u001b[0m\u001b[0;34m\u001b[0m\u001b[0m\n\u001b[1;32m     90\u001b[0m \u001b[0;34m\u001b[0m\u001b[0m\n\u001b[0;32m---> 91\u001b[0;31m             return self.request(\n\u001b[0m\u001b[1;32m     92\u001b[0m                 \u001b[0mhref\u001b[0m\u001b[0;34m,\u001b[0m \u001b[0mmethod\u001b[0m\u001b[0;34m=\u001b[0m\u001b[0mmethod\u001b[0m\u001b[0;34m,\u001b[0m \u001b[0mheaders\u001b[0m\u001b[0;34m=\u001b[0m\u001b[0mheaders\u001b[0m\u001b[0;34m,\u001b[0m \u001b[0mparameters\u001b[0m\u001b[0;34m=\u001b[0m\u001b[0mparameters\u001b[0m\u001b[0;34m\u001b[0m\u001b[0;34m\u001b[0m\u001b[0m\n\u001b[1;32m     93\u001b[0m             )\n",
      "\u001b[0;32m~/stac/pystac-client/pystac_client/stac_api_io.py\u001b[0m in \u001b[0;36mrequest\u001b[0;34m(self, href, method, headers, parameters)\u001b[0m\n\u001b[1;32m    142\u001b[0m             \u001b[0;32mraise\u001b[0m \u001b[0mAPIError\u001b[0m\u001b[0;34m(\u001b[0m\u001b[0mstr\u001b[0m\u001b[0;34m(\u001b[0m\u001b[0merr\u001b[0m\u001b[0;34m)\u001b[0m\u001b[0;34m)\u001b[0m\u001b[0;34m\u001b[0m\u001b[0;34m\u001b[0m\u001b[0m\n\u001b[1;32m    143\u001b[0m         \u001b[0;32mif\u001b[0m \u001b[0mresp\u001b[0m\u001b[0;34m.\u001b[0m\u001b[0mstatus_code\u001b[0m \u001b[0;34m!=\u001b[0m \u001b[0;36m200\u001b[0m\u001b[0;34m:\u001b[0m\u001b[0;34m\u001b[0m\u001b[0;34m\u001b[0m\u001b[0m\n\u001b[0;32m--> 144\u001b[0;31m             \u001b[0;32mraise\u001b[0m \u001b[0mAPIError\u001b[0m\u001b[0;34m.\u001b[0m\u001b[0mfrom_response\u001b[0m\u001b[0;34m(\u001b[0m\u001b[0mresp\u001b[0m\u001b[0;34m)\u001b[0m\u001b[0;34m\u001b[0m\u001b[0;34m\u001b[0m\u001b[0m\n\u001b[0m\u001b[1;32m    145\u001b[0m         \u001b[0;32mtry\u001b[0m\u001b[0;34m:\u001b[0m\u001b[0;34m\u001b[0m\u001b[0;34m\u001b[0m\u001b[0m\n\u001b[1;32m    146\u001b[0m             \u001b[0;32mreturn\u001b[0m \u001b[0mresp\u001b[0m\u001b[0;34m.\u001b[0m\u001b[0mcontent\u001b[0m\u001b[0;34m.\u001b[0m\u001b[0mdecode\u001b[0m\u001b[0;34m(\u001b[0m\u001b[0;34m\"utf-8\"\u001b[0m\u001b[0;34m)\u001b[0m\u001b[0;34m\u001b[0m\u001b[0;34m\u001b[0m\u001b[0m\n",
      "\u001b[0;31mAPIError\u001b[0m: {\"detail\":\"RequestError(400, 'search_phase_execution_exception', 'Result window is too large, from + size must be less than or equal to: [10000] but was [10100]. See the scroll api for a more efficient way to request large data sets. This limit can be set by changing the [index.max_result_window] index level setting.')\"}"
     ]
    }
   ],
   "source": [
    "client.search(datetime=\"../1900-12-01T00:00:00.000Z\")"
   ]
  },
  {
   "cell_type": "markdown",
   "id": "8b7e6198",
   "metadata": {
    "pycharm": {
     "name": "#%% md\n"
    }
   },
   "source": [
    "Complete range datetime search (GTE and LTE two datetime points):"
   ]
  },
  {
   "cell_type": "code",
   "execution_count": null,
   "id": "1bd797d5",
   "metadata": {
    "collapsed": false,
    "jupyter": {
     "outputs_hidden": false
    },
    "pycharm": {
     "name": "#%%\n"
    }
   },
   "outputs": [],
   "source": [
    "client.search(datetime=\"2300-01-01T00:00:00Z/2800-12-01T00:00:00.000Z\")"
   ]
  },
  {
   "cell_type": "markdown",
   "id": "b79f4129",
   "metadata": {},
   "source": [
    "## Spatial Coverage Queries\n",
    "\n",
    "Existing version: https://esgf.github.io/esg-search/ESGF_Search_RESTful_API.html#spatial-coverage-queries\n",
    "\n",
    "Example: \n",
    "\n",
    "http://esgf-node.llnl.gov/esg-search/search?bbox=%5B-10,-10,+10,+10%5D (translates to: east_degrees:[-10 TO *] AND north_degrees:[-10 TO *] AND west_degrees:[* TO 10] AND south_degrees:[* TO 10])\n",
    "\n",
    "### New API\n",
    "\n",
    "https://api.stac.ceda.ac.uk/search?bbox=-180.0%2C-90%2C180.0%2C90.0 (translates to: west_degrees/min_longitude:[-180.0 TO *] AND south_degrees/min_latitude:[-90.0 TO *] AND east_degrees/max_longitude:[* TO 180.0] AND north_degrees/max_latitude:[* To 90.0])\n",
    "\n",
    "### Python client"
   ]
  },
  {
   "cell_type": "code",
   "execution_count": null,
   "id": "d81b2928",
   "metadata": {
    "collapsed": false,
    "jupyter": {
     "outputs_hidden": false
    },
    "pycharm": {
     "name": "#%%\n"
    }
   },
   "outputs": [],
   "source": [
    "client.search(bbox=\"-180.0,-90,180.0,90.0\")"
   ]
  },
  {
   "cell_type": "markdown",
   "id": "c09099f7",
   "metadata": {},
   "source": [
    "## Distributed Queries\n",
    "\n",
    "Existing version: https://esgf.github.io/esg-search/ESGF_Search_RESTful_API.html#distributed-queries\n",
    "\n",
    "**NOT RELEVANT TO STAC (YET)**\n",
    "\n",
    "## Shard Queries\n",
    "\n",
    "Existing version: https://esgf.github.io/esg-search/ESGF_Search_RESTful_API.html#shard-queries\n",
    "\n",
    "**NOT RELEVANT TO STAC**\n",
    "\n",
    "## Replica Queries\n",
    "\n",
    "Existing version: https://esgf.github.io/esg-search/ESGF_Search_RESTful_API.html#replica-queries\n",
    "\n",
    "**NOT RELEVANT TO STAC**"
   ]
  },
  {
   "cell_type": "markdown",
   "id": "8cb1908e",
   "metadata": {
    "pycharm": {
     "name": "#%% md\n"
    }
   },
   "source": [
    "## Latest and Version Queries\n",
    "\n",
    "Existing version: https://esgf.github.io/esg-search/ESGF_Search_RESTful_API.html#latest-and-version-queries\n",
    "\n",
    "By default, a query to the ESGF search services will return all versions of the matching records (Datasets or Files). To only return the very last, up-to-date version include latest=true . To return a specific version, use version=… . Using latest=false will return only datasets that were superseded by newer versions.\n",
    "\n",
    "Examples:\n",
    "\n",
    "Search for all latest CMIP5 datasets: http://esgf-node.llnl.gov/esg-search/search?project=CMIP5&latest=true\n",
    "\n",
    "Search for all versions of a given dataset: http://esgf-node.llnl.gov/esg-search/search?project=CMIP5&master_id=cmip5.output1.MOHC.HadCM3.decadal1972.day.atmos.day.r10i2p1&facets=version\n",
    "\n",
    "Search for a specific version of a given dataset: http://esgf-node.llnl.gov/esg-search/search?project=CMIP5&master_id=cmip5.output1.NSF-DOE-NCAR.CESM1-CAM5-1-FV2.historical.mon.atmos.Amon.r1i1p1&version=20120712\n",
    "\n",
    "### New API\n",
    "\n",
    "At the file level is the record of latest saved, the item is an aggregate of assets with common filepath metadata.\n",
    "\n",
    "1. **latest is not aggregated up to items**\n",
    "\n",
    "2. **filter via boolean value not implemented to add to a filter query, the filter evaluation\n",
    "defaults to \"properties__{filter}__keyword\", thus only supports keyword filtering**\n",
    "\n",
    "### Python client"
   ]
  },
  {
   "cell_type": "markdown",
   "id": "c083a2cc",
   "metadata": {
    "pycharm": {
     "name": "#%% md\n"
    }
   },
   "source": [
    "## Retracted Queries\n",
    "\n",
    "Existing version: https://esgf.github.io/esg-search/ESGF_Search_RESTful_API.html#retracted-queries\n",
    "\n",
    "Example:\n",
    "\n",
    "Search for all retracted datasets in the CMIP5 project, across all nodes: https://esgf-node.llnl.gov/esg-search/search?project=CMIP5&retracted=true\n",
    "\n",
    "### New API\n",
    "\n",
    "**Same points as above**\n",
    "\n",
    "### Python client\n"
   ]
  },
  {
   "cell_type": "markdown",
   "id": "734643be",
   "metadata": {
    "pycharm": {
     "name": "#%% md\n"
    }
   },
   "source": [
    "## Minimum and Maximum Version Queries\n",
    "\n",
    "Existing version: https://esgf.github.io/esg-search/ESGF_Search_RESTful_API.html#minimum-and-maximum-version-queries\n",
    "\n",
    "**NOT RELEASED IN SOLR - IGNORING IN STAC**"
   ]
  },
  {
   "cell_type": "markdown",
   "id": "f04a2a2b",
   "metadata": {
    "pycharm": {
     "name": "#%% md\n"
    }
   },
   "source": [
    "## Results Pagination\n",
    "\n",
    "Existing version: https://esgf.github.io/esg-search/ESGF_Search_RESTful_API.html#results-pagination\n",
    "\n",
    "By default, a query to the search service will return the first 10 records matching the given constraints. The offset into the returned results, and the total number of returned results, can be changed through the keyword parameters limit= and offset= . The system imposes a maximum value of limit <= 10,000.\n",
    "\n",
    "Examples:\n",
    "\n",
    "Query for 100 CMIP5 datasets in the system: http://esgf-node.llnl.gov/esg-search/search?project=CMIP5&limit=100\n",
    "\n",
    "Query for the next 100 CMIP5 datasets in the system: http://esgf-node.llnl.gov/esg-search/search?project=CMIP5&limit=100&offset=100\n",
    "\n",
    "\n",
    "### New API\n",
    "\n",
    "Query for 100 CMIP6 datasets in the system: https://api.stac.ceda.ac.uk/search?limit=100\n",
    "\n",
    "Query for the next 100 CMIP6 datasets in the system: https://api.stac.ceda.ac.uk/search?limit=100&page=2\n",
    "\n",
    "### Python client\n",
    "\n",
    "The python client hides pagination via generators. A page is equivalent to an ItemCollection.\n",
    "\n",
    "The client will paginate intrinsically when iterating through the generator. The limit= parameter\n",
    "will dictate the number of items per ItemCollection.\n",
    "\n",
    "To iterate through pages:"
   ]
  },
  {
   "cell_type": "code",
   "execution_count": 6,
   "id": "0978a3ad",
   "metadata": {
    "collapsed": false,
    "jupyter": {
     "outputs_hidden": false
    },
    "pycharm": {
     "name": "#%%\n"
    }
   },
   "outputs": [
    {
     "ename": "APIError",
     "evalue": "{\"detail\":\"RequestError(400, 'search_phase_execution_exception', 'Result window is too large, from + size must be less than or equal to: [10000] but was [10100]. See the scroll api for a more efficient way to request large data sets. This limit can be set by changing the [index.max_result_window] index level setting.')\"}",
     "output_type": "error",
     "traceback": [
      "\u001b[0;31m---------------------------------------------------------------------------\u001b[0m",
      "\u001b[0;31mAPIError\u001b[0m                                  Traceback (most recent call last)",
      "\u001b[0;32m/tmp/ipykernel_7064/1422331524.py\u001b[0m in \u001b[0;36m<module>\u001b[0;34m\u001b[0m\n\u001b[1;32m      1\u001b[0m \u001b[0mresult\u001b[0m \u001b[0;34m=\u001b[0m \u001b[0mclient\u001b[0m\u001b[0;34m.\u001b[0m\u001b[0msearch\u001b[0m\u001b[0;34m(\u001b[0m\u001b[0;34m)\u001b[0m\u001b[0;34m\u001b[0m\u001b[0;34m\u001b[0m\u001b[0m\n\u001b[0;32m----> 2\u001b[0;31m \u001b[0;32mfor\u001b[0m \u001b[0mpage\u001b[0m \u001b[0;32min\u001b[0m \u001b[0mresult\u001b[0m\u001b[0;34m.\u001b[0m\u001b[0mitem_collections\u001b[0m\u001b[0;34m(\u001b[0m\u001b[0;34m)\u001b[0m\u001b[0;34m:\u001b[0m\u001b[0;34m\u001b[0m\u001b[0;34m\u001b[0m\u001b[0m\n\u001b[0m\u001b[1;32m      3\u001b[0m     \u001b[0;32mfor\u001b[0m \u001b[0mitems\u001b[0m \u001b[0;32min\u001b[0m \u001b[0mpage\u001b[0m\u001b[0;34m.\u001b[0m\u001b[0mitems\u001b[0m\u001b[0;34m:\u001b[0m\u001b[0;34m\u001b[0m\u001b[0;34m\u001b[0m\u001b[0m\n\u001b[1;32m      4\u001b[0m         \u001b[0mdir\u001b[0m\u001b[0;34m(\u001b[0m\u001b[0mitems\u001b[0m\u001b[0;34m)\u001b[0m\u001b[0;34m\u001b[0m\u001b[0;34m\u001b[0m\u001b[0m\n\u001b[1;32m      5\u001b[0m         \u001b[0;32mbreak\u001b[0m\u001b[0;34m\u001b[0m\u001b[0;34m\u001b[0m\u001b[0m\n",
      "\u001b[0;32m~/stac/pystac-client/pystac_client/item_search.py\u001b[0m in \u001b[0;36mitem_collections\u001b[0;34m(self)\u001b[0m\n\u001b[1;32m    614\u001b[0m         \"\"\"\n\u001b[1;32m    615\u001b[0m         \u001b[0;32mif\u001b[0m \u001b[0misinstance\u001b[0m\u001b[0;34m(\u001b[0m\u001b[0mself\u001b[0m\u001b[0;34m.\u001b[0m\u001b[0m_stac_io\u001b[0m\u001b[0;34m,\u001b[0m \u001b[0mStacApiIO\u001b[0m\u001b[0;34m)\u001b[0m\u001b[0;34m:\u001b[0m\u001b[0;34m\u001b[0m\u001b[0;34m\u001b[0m\u001b[0m\n\u001b[0;32m--> 616\u001b[0;31m             for page in self._stac_io.get_pages(\n\u001b[0m\u001b[1;32m    617\u001b[0m                 \u001b[0mself\u001b[0m\u001b[0;34m.\u001b[0m\u001b[0murl\u001b[0m\u001b[0;34m,\u001b[0m \u001b[0mself\u001b[0m\u001b[0;34m.\u001b[0m\u001b[0mmethod\u001b[0m\u001b[0;34m,\u001b[0m \u001b[0mself\u001b[0m\u001b[0;34m.\u001b[0m\u001b[0mget_parameters\u001b[0m\u001b[0;34m(\u001b[0m\u001b[0;34m)\u001b[0m\u001b[0;34m\u001b[0m\u001b[0;34m\u001b[0m\u001b[0m\n\u001b[1;32m    618\u001b[0m             ):\n",
      "\u001b[0;32m~/stac/pystac-client/pystac_client/stac_api_io.py\u001b[0m in \u001b[0;36mget_pages\u001b[0;34m(self, url, method, parameters)\u001b[0m\n\u001b[1;32m    226\u001b[0m         \u001b[0;32mwhile\u001b[0m \u001b[0mnext_link\u001b[0m\u001b[0;34m:\u001b[0m\u001b[0;34m\u001b[0m\u001b[0;34m\u001b[0m\u001b[0m\n\u001b[1;32m    227\u001b[0m             \u001b[0mlink\u001b[0m \u001b[0;34m=\u001b[0m \u001b[0mLink\u001b[0m\u001b[0;34m.\u001b[0m\u001b[0mfrom_dict\u001b[0m\u001b[0;34m(\u001b[0m\u001b[0mnext_link\u001b[0m\u001b[0;34m)\u001b[0m\u001b[0;34m\u001b[0m\u001b[0;34m\u001b[0m\u001b[0m\n\u001b[0;32m--> 228\u001b[0;31m             \u001b[0mpage\u001b[0m \u001b[0;34m=\u001b[0m \u001b[0mself\u001b[0m\u001b[0;34m.\u001b[0m\u001b[0mread_json\u001b[0m\u001b[0;34m(\u001b[0m\u001b[0mlink\u001b[0m\u001b[0;34m,\u001b[0m \u001b[0mparameters\u001b[0m\u001b[0;34m=\u001b[0m\u001b[0mparameters\u001b[0m\u001b[0;34m)\u001b[0m\u001b[0;34m\u001b[0m\u001b[0;34m\u001b[0m\u001b[0m\n\u001b[0m\u001b[1;32m    229\u001b[0m             \u001b[0;32myield\u001b[0m \u001b[0mpage\u001b[0m\u001b[0;34m\u001b[0m\u001b[0;34m\u001b[0m\u001b[0m\n\u001b[1;32m    230\u001b[0m \u001b[0;34m\u001b[0m\u001b[0m\n",
      "\u001b[0;32m~/.local/lib/python3.8/site-packages/pystac/stac_io.py\u001b[0m in \u001b[0;36mread_json\u001b[0;34m(self, source, *args, **kwargs)\u001b[0m\n\u001b[1;32m    195\u001b[0m             \u001b[0mgiven\u001b[0m \u001b[0msource\u001b[0m\u001b[0;34m.\u001b[0m\u001b[0;34m\u001b[0m\u001b[0;34m\u001b[0m\u001b[0m\n\u001b[1;32m    196\u001b[0m         \"\"\"\n\u001b[0;32m--> 197\u001b[0;31m         \u001b[0mtxt\u001b[0m \u001b[0;34m=\u001b[0m \u001b[0mself\u001b[0m\u001b[0;34m.\u001b[0m\u001b[0mread_text\u001b[0m\u001b[0;34m(\u001b[0m\u001b[0msource\u001b[0m\u001b[0;34m,\u001b[0m \u001b[0;34m*\u001b[0m\u001b[0margs\u001b[0m\u001b[0;34m,\u001b[0m \u001b[0;34m**\u001b[0m\u001b[0mkwargs\u001b[0m\u001b[0;34m)\u001b[0m\u001b[0;34m\u001b[0m\u001b[0;34m\u001b[0m\u001b[0m\n\u001b[0m\u001b[1;32m    198\u001b[0m         \u001b[0;32mreturn\u001b[0m \u001b[0mself\u001b[0m\u001b[0;34m.\u001b[0m\u001b[0mjson_loads\u001b[0m\u001b[0;34m(\u001b[0m\u001b[0mtxt\u001b[0m\u001b[0;34m)\u001b[0m\u001b[0;34m\u001b[0m\u001b[0;34m\u001b[0m\u001b[0m\n\u001b[1;32m    199\u001b[0m \u001b[0;34m\u001b[0m\u001b[0m\n",
      "\u001b[0;32m~/stac/pystac-client/pystac_client/stac_api_io.py\u001b[0m in \u001b[0;36mread_text\u001b[0;34m(self, source, *args, **kwargs)\u001b[0m\n\u001b[1;32m     89\u001b[0m                 \u001b[0mparameters\u001b[0m \u001b[0;34m=\u001b[0m \u001b[0;34m{\u001b[0m\u001b[0;34m}\u001b[0m\u001b[0;34m\u001b[0m\u001b[0;34m\u001b[0m\u001b[0m\n\u001b[1;32m     90\u001b[0m \u001b[0;34m\u001b[0m\u001b[0m\n\u001b[0;32m---> 91\u001b[0;31m             return self.request(\n\u001b[0m\u001b[1;32m     92\u001b[0m                 \u001b[0mhref\u001b[0m\u001b[0;34m,\u001b[0m \u001b[0mmethod\u001b[0m\u001b[0;34m=\u001b[0m\u001b[0mmethod\u001b[0m\u001b[0;34m,\u001b[0m \u001b[0mheaders\u001b[0m\u001b[0;34m=\u001b[0m\u001b[0mheaders\u001b[0m\u001b[0;34m,\u001b[0m \u001b[0mparameters\u001b[0m\u001b[0;34m=\u001b[0m\u001b[0mparameters\u001b[0m\u001b[0;34m\u001b[0m\u001b[0;34m\u001b[0m\u001b[0m\n\u001b[1;32m     93\u001b[0m             )\n",
      "\u001b[0;32m~/stac/pystac-client/pystac_client/stac_api_io.py\u001b[0m in \u001b[0;36mrequest\u001b[0;34m(self, href, method, headers, parameters)\u001b[0m\n\u001b[1;32m    142\u001b[0m             \u001b[0;32mraise\u001b[0m \u001b[0mAPIError\u001b[0m\u001b[0;34m(\u001b[0m\u001b[0mstr\u001b[0m\u001b[0;34m(\u001b[0m\u001b[0merr\u001b[0m\u001b[0;34m)\u001b[0m\u001b[0;34m)\u001b[0m\u001b[0;34m\u001b[0m\u001b[0;34m\u001b[0m\u001b[0m\n\u001b[1;32m    143\u001b[0m         \u001b[0;32mif\u001b[0m \u001b[0mresp\u001b[0m\u001b[0;34m.\u001b[0m\u001b[0mstatus_code\u001b[0m \u001b[0;34m!=\u001b[0m \u001b[0;36m200\u001b[0m\u001b[0;34m:\u001b[0m\u001b[0;34m\u001b[0m\u001b[0;34m\u001b[0m\u001b[0m\n\u001b[0;32m--> 144\u001b[0;31m             \u001b[0;32mraise\u001b[0m \u001b[0mAPIError\u001b[0m\u001b[0;34m.\u001b[0m\u001b[0mfrom_response\u001b[0m\u001b[0;34m(\u001b[0m\u001b[0mresp\u001b[0m\u001b[0;34m)\u001b[0m\u001b[0;34m\u001b[0m\u001b[0;34m\u001b[0m\u001b[0m\n\u001b[0m\u001b[1;32m    145\u001b[0m         \u001b[0;32mtry\u001b[0m\u001b[0;34m:\u001b[0m\u001b[0;34m\u001b[0m\u001b[0;34m\u001b[0m\u001b[0m\n\u001b[1;32m    146\u001b[0m             \u001b[0;32mreturn\u001b[0m \u001b[0mresp\u001b[0m\u001b[0;34m.\u001b[0m\u001b[0mcontent\u001b[0m\u001b[0;34m.\u001b[0m\u001b[0mdecode\u001b[0m\u001b[0;34m(\u001b[0m\u001b[0;34m\"utf-8\"\u001b[0m\u001b[0;34m)\u001b[0m\u001b[0;34m\u001b[0m\u001b[0;34m\u001b[0m\u001b[0m\n",
      "\u001b[0;31mAPIError\u001b[0m: {\"detail\":\"RequestError(400, 'search_phase_execution_exception', 'Result window is too large, from + size must be less than or equal to: [10000] but was [10100]. See the scroll api for a more efficient way to request large data sets. This limit can be set by changing the [index.max_result_window] index level setting.')\"}"
     ]
    }
   ],
   "source": [
    "result = client.search()\n",
    "for page in result.item_collections():\n",
    "    for items in page.items:\n",
    "        dir(items)\n",
    "        break"
   ]
  },
  {
   "cell_type": "markdown",
   "id": "e4769b13",
   "metadata": {
    "pycharm": {
     "name": "#%% md\n"
    }
   },
   "source": [
    "However, if only iterating through items, there is no need for iterating through the pages.\n",
    "Directly iterate through all the items:"
   ]
  },
  {
   "cell_type": "code",
   "execution_count": null,
   "id": "07be6003",
   "metadata": {
    "collapsed": false,
    "jupyter": {
     "outputs_hidden": false
    },
    "pycharm": {
     "name": "#%%\n"
    }
   },
   "outputs": [],
   "source": [
    "result = client.search()\n",
    "for item in result.items():\n",
    "    ..."
   ]
  },
  {
   "cell_type": "markdown",
   "id": "836f8f10",
   "metadata": {
    "pycharm": {
     "name": "#%% md\n"
    }
   },
   "source": [
    "## Output Format\n",
    "\n",
    "Existing version: https://esgf.github.io/esg-search/ESGF_Search_RESTful_API.html#output-format\n",
    "\n",
    "**ONLY JSON FORMAT AVAILABLE IN STAC**\n",
    "\n",
    "### Python Client\n",
    "\n",
    "The python client can return items as [PySTAC](https://github.com/stac-utils/pystac) object or\n",
    "as a dictionary representation of the JSON.\n"
   ]
  },
  {
   "cell_type": "markdown",
   "id": "9e98a4b7",
   "metadata": {
    "pycharm": {
     "name": "#%% md\n"
    }
   },
   "source": [
    "## Returned Metadata Fields\n",
    "\n",
    "Existing version: https://esgf.github.io/esg-search/ESGF_Search_RESTful_API.html#returned-metadata-fields\n",
    "\n",
    "By default, all available metadata fields are returned for each result. The keyword parameter fields= can be used to limit the number of fields returned in the response document, for each matching result. The list must be comma-separated, and white spaces are ignored. Use fields=* to return all fields (same as not specifiying it, since it is the default). Note that the pseudo field “score” is always appended to any fields list.\n",
    "\n",
    "Examples:\n",
    "\n",
    "Return all available metadata fields for CMIP5 datasets: http://esgf-node.llnl.gov/esg-search/search?project=CMIP5&fields=*\n",
    "\n",
    "Return only the “model” and “experiment” fields for CMIP5 datasets: http://esgf-node.llnl.gov/esg-search/search?project=CMIP5&fields=model,experiment\n",
    "\n",
    "\n",
    "### New API\n",
    "\n",
    "Default: return all available metadata fields for CMIP6 datasets.\n",
    "\n",
    "Return only the model and experiment properties' fields for CMIP6 datasets using the fields= keyword: **fields extension needs to be implemented**\n",
    "\n",
    "For now use the source= keyword: https://api.stac.ceda.ac.uk/search?source=properties.model&source=properties.experiment\n",
    "\n",
    "### Python client\n",
    "\n",
    "Return only the model and experiment properties' field for CMIP6 datasets using the fields= keyword: **fields extension needs to be implemented**\n",
    "\n",
    "Note that this may return an invalid STAC objects, use the `items_as_dicts()` to bypass object unmarshalling errors.\n",
    "This will not return Item objects, rather just the dictionary representation thus reducing certain functionalities.\n",
    "In this instance, this calls a generator that yields dictionary objects."
   ]
  },
  {
   "cell_type": "code",
   "execution_count": null,
   "id": "fe526fb7",
   "metadata": {
    "collapsed": false,
    "jupyter": {
     "outputs_hidden": false
    },
    "pycharm": {
     "name": "#%%\n"
    }
   },
   "outputs": [],
   "source": [
    "results = client.search(fields=...)\n",
    "for item in results.items_as_dicts():\n",
    "    ..."
   ]
  },
  {
   "cell_type": "markdown",
   "id": "4cc1b223",
   "metadata": {
    "pycharm": {
     "name": "#%% md\n"
    }
   },
   "source": [
    "As the fields extension is not implemented in the system, use the source= keyword parameter:"
   ]
  },
  {
   "cell_type": "code",
   "execution_count": null,
   "id": "ebc8d80b",
   "metadata": {
    "collapsed": false,
    "jupyter": {
     "outputs_hidden": false
    },
    "pycharm": {
     "name": "#%%\n"
    }
   },
   "outputs": [],
   "source": [
    "results = client.search(source=['properties.model', 'properties.experiments'])\n",
    "for item in results.items_as_dicts():\n",
    "    ..."
   ]
  },
  {
   "cell_type": "markdown",
   "id": "bb0c3226",
   "metadata": {
    "pycharm": {
     "name": "#%% md\n"
    }
   },
   "source": [
    "## Identifiers\n",
    "\n",
    "Existing version: https://esgf.github.io/esg-search/ESGF_Search_RESTful_API.html#identifiers\n",
    "\n",
    "Each search record in the system is assigned the following identifiers (all of type string):\n",
    "\n",
    "id : universally unique for each record across the federation, i.e. specific to each Dataset or File, version and replica (and the data node storing the data). It is intended to be “opaque”, i.e. it should not be parsed by clients to extract any information.\n",
    "\n",
    "Dataset example: id=obs4MIPs.NASA-JPL.TES.tro3.mon.v20110608|esgf-data.llnl.gov\n",
    "\n",
    "File example: id=obs4MIPs.NASA-JPL.TES.tro3.mon.v20110608.tro3Stderr_TES_L3_tbd_200507-200912.nc|esgf-data.llnl.gov\n",
    "\n",
    "master_id : same for all replicas and versions across the federation. When parsing THREDDS catalogs, it is extracted from the properties “dataset_id” or “file_id”.\n",
    "\n",
    "Dataset example: obs4MIPs.NASA-JPL.TES.tro3.mon (for a Dataset)\n",
    "\n",
    "File example: obs4MIPs.NASA-JPL.TES.tro3.mon.tro3Stderr_TES_L3_tbd_200507-200912.nc\n",
    "\n",
    "instance_id : same for all replicas across federation, but specific to each version. When parsing THREDDS catalogs, it is extracted from the ID attribute of the corresponding THREDDS catalog element (for both Datasets and Files).\n",
    "\n",
    "Dataset example: obs4MIPs.NASA-JPL.TES.tro3.mon.v20110608\n",
    "\n",
    "File example: obs4MIPs.NASA-JPL.TES.tro3.mon.v20110608.tro3Stderr_TES_L3_tbd_200507-200912.nc\n",
    "\n",
    "Note also that the record version is the same for all replicas of that record, but different across versions. Examples:\n",
    "\n",
    "Dataset example: version=20110608\n",
    "\n",
    "File example: version=1\n",
    "\n",
    "### New API\n",
    "\n",
    "id: A universally unique identifier for each collections, items and assets (projects, datasets, files). Can be used to\n",
    "browse the API for a specific: `https://api.ceda.stac.ac.uk/collections/<collection id>/[items/<item id>/[assets/<asset_id>]]`\n",
    "(the id of STAC documents are a hash.)\n",
    "\n",
    "For all other ids; master_id, instance_id, can be searched using filter=\n",
    "\n",
    "### Python client\n",
    "\n",
    "id: Get a STAC document by id using the client (Each get method will return the respective object):"
   ]
  },
  {
   "cell_type": "code",
   "execution_count": null,
   "id": "4be86f19",
   "metadata": {
    "collapsed": false,
    "jupyter": {
     "outputs_hidden": false
    },
    "pycharm": {
     "name": "#%%\n"
    }
   },
   "outputs": [],
   "source": [
    "client.get_collection(collection_id).get_item(item_id).get_asset(asset_id)"
   ]
  },
  {
   "cell_type": "markdown",
   "id": "67f1e4b9",
   "metadata": {
    "pycharm": {
     "name": "#%% md\n"
    }
   },
   "source": [
    "## Access URLs\n",
    "\n",
    "Existing version: https://esgf.github.io/esg-search/ESGF_Search_RESTful_API.html#access-urls\n",
    "\n",
    "In the Solr output document returned by a search, URLs that are access points for Datasets and Files are encoded as 3-tuple of the form “url|mime type|service name”, where the fields are separated by the “pipe (”|“) character, and the”mime type” and “service name” are chosen from the ESGF controlled vocabulary.\n",
    "\n",
    "Example of Dataset access URLs:\n",
    "\n",
    "THREDDS catalog: http://esgf-data.llnl.gov/thredds/catalog/esgcet/1/obs4MIPs.NASA-JPL.TES.tro3.mon.v20110608.xml#obs4MIPs.NASA-JPL.TES.tro3.mon.v20110608|application/xml+thredds|THREDDS\n",
    "\n",
    "LAS server: http://esgf-node.llnl.gov/las/getUI.do?catid=0C5410C250379F2D139F978F7BF48BB9_ns_obs4MIPs.NASA-JPL.TES.tro3.mon.v20110608|application/las|LAS\n",
    "\n",
    "Example of File access URLs:\n",
    "\n",
    "HTTP download: http://esgf-data.llnl.gov/thredds/fileServer/esg_dataroot/obs4MIPs/observations/atmos/tro3Stderr/mon/grid/NASA-JPL/TES/v20110608/tro3Stderr_TES_L3_tbd_200507-200912.nc|application/netcdf|HTTPServer\n",
    "\n",
    "GridFTP download: gsiftp://esgf-data.llnl.gov:2811//esg_dataroot/obs4MIPs/observations/atmos/tro3Stderr/mon/grid/NASA-JPL/TES/v20110608/tro3Stderr_TES_L3_tbd_200507-200912.nc|application/gridftp|GridFTP\n",
    "\n",
    "OpenDAP download: http://esgf-data.llnl.gov/thredds/dodsC/esg_dataroot/obs4MIPs/observations/atmos/tro3Stderr/mon/grid/NASA-JPL/TES/v20110608/tro3Stderr_TES_L3_tbd_200507-200912.nc.html|application/opendap-html|OPENDAP\n",
    "\n",
    "Globus As-A-Service download: globus:e3f6216e-063e-11e6-a732-22000bf2d559/esg_dataroot/obs4MIPs/observations/atmos/tro3Stderr/mon/grid/NASA-JPL/TES/v20110608/tro3Stderr_TES_L3_tbd_200507-200912.nc|Globus|Globus\n",
    "\n",
    "### New API\n",
    "\n",
    "For STAC all urls are at the Asset level. An Item can access it's assets with the assets endpoint: https://api.stac.ceda.ac.uk/collections/<collection_id>/items/<item_id>/assets/[<asset_id>]\n",
    "\n",
    "This will return a JSON representation and the default in the \"href\" field is the access URL for HTTP download.\n",
    "\n",
    "### Python client\n",
    "\n",
    "The object representation of an Asset is <{id} {href}> where href is the access URL for HTTP download. Alternatively,\n",
    "the access URL is an attribute of the Asset class: `href`"
   ]
  },
  {
   "cell_type": "code",
   "execution_count": 6,
   "id": "41570879",
   "metadata": {
    "collapsed": false,
    "jupyter": {
     "outputs_hidden": false
    },
    "pycharm": {
     "name": "#%%\n"
    }
   },
   "outputs": [
    {
     "data": {
      "text/plain": [
       "'http://esgf-data3.ceda.ac.uk/thredds/fileServer/esg_cmip6/CMIP6/CMIP/EC-Earth-Consortium/EC-Earth3-Veg-LR/piControl/r1i1p1f1/Amon/rsds/gr/v20200213/rsds_Amon_EC-Earth3-Veg-LR_piControl_r1i1p1f1_gr_238901-238912.nc'"
      ]
     },
     "execution_count": 6,
     "metadata": {},
     "output_type": "execute_result"
    }
   ],
   "source": [
    "collection_id = \"cmip6\"\n",
    "item_id = \"c2d94dd296525cc105cfa657b6b559c0\"\n",
    "asset_id = \"03cd0a42604287aa08bde5aabeb6c167\"\n",
    "\n",
    "asset = client.get_collection(collection_id).get_item(item_id).get_asset(asset_id)\n",
    "asset.href"
   ]
  },
  {
   "cell_type": "markdown",
   "id": "42888344",
   "metadata": {
    "pycharm": {
     "name": "#%% md\n"
    }
   },
   "source": [
    "## Wget scripting\n",
    "\n",
    "Existing version: https://esgf.github.io/esg-search/ESGF_Search_RESTful_API.html#wget-scripting\n",
    "\n",
    "**NOT IMPLEMENTED FOR STAC - IS IT NEEDED?**"
   ]
  },
  {
   "cell_type": "code",
   "execution_count": null,
   "id": "afeddaaf-7f01-4a68-951f-564591761aee",
   "metadata": {},
   "outputs": [],
   "source": []
  }
 ],
 "metadata": {
  "kernelspec": {
   "display_name": "Python 3 + Jaspy",
   "language": "python",
   "name": "jaspy"
  },
  "language_info": {
   "codemirror_mode": {
    "name": "ipython",
    "version": 3
   },
   "file_extension": ".py",
   "mimetype": "text/x-python",
   "name": "python",
   "nbconvert_exporter": "python",
   "pygments_lexer": "ipython3",
   "version": "3.8.12"
  }
 },
 "nbformat": 4,
 "nbformat_minor": 5
}
