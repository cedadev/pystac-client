{
 "cells": [
  {
   "cell_type": "markdown",
   "metadata": {
    "collapsed": true,
    "pycharm": {
     "name": "#%% md\n"
    }
   },
   "source": [
    "# Install PySTAC Client\n",
    "\n",
    "Import the PySTAC Client and connect the Client\n",
    "to the STAC API endpoint."
   ]
  },
  {
   "cell_type": "code",
   "execution_count": 1,
   "outputs": [],
   "source": [
    "from pystac_client.client import Client\n",
    "from pystac.item import Item\n",
    "from pystac.link import Link\n",
    "from pystac_client.asset_search import Asset\n",
    "\n",
    "api = Client.open(\"http://127.0.0.1:8000\")"
   ],
   "metadata": {
    "collapsed": false,
    "pycharm": {
     "name": "#%%\n"
    }
   }
  },
  {
   "cell_type": "markdown",
   "source": [
    "Get basic information about the API from the Client"
   ],
   "metadata": {
    "collapsed": false,
    "pycharm": {
     "name": "#%% md\n"
    }
   }
  },
  {
   "cell_type": "code",
   "execution_count": 2,
   "outputs": [
    {
     "name": "stdout",
     "output_type": "stream",
     "text": [
      "Title: test_api_title\n",
      "Description: test api\n",
      "Catalog ID: stac-fastapi\n",
      "\n"
     ]
    }
   ],
   "source": [
    "print(\n",
    "    f\"Title: {api.title}\\n\"\n",
    "    f\"Description: {api.description}\\n\"\n",
    "    f\"Catalog ID: {api.id}\\n\"\n",
    ")"
   ],
   "metadata": {
    "collapsed": false,
    "pycharm": {
     "name": "#%%\n"
    }
   }
  },
  {
   "cell_type": "markdown",
   "source": [
    "## Item Search\n",
    "\n",
    "### Faceted Search"
   ],
   "metadata": {
    "collapsed": false,
    "pycharm": {
     "name": "#%% md\n"
    }
   }
  },
  {
   "cell_type": "code",
   "execution_count": 3,
   "outputs": [
    {
     "data": {
      "text/plain": "{'type': 'FeatureCollection',\n 'features': [{'type': 'Feature',\n   'stac_version': '1.0.0',\n   'stac_extensions': [],\n   'id': 'b716398b5a7377f1576c4c5e6744aaf9',\n   'collection': 'cmip6',\n   'bbox': [359.0625, -89.375, 0.9375, 89.375],\n   'geometry': None,\n   'properties': {'table_id': ['AERmon'],\n    'variable_long_name': ['Dimethyl Sulphide (DMS) Mole Fraction'],\n    'height_units': ['m'],\n    'dataset_version': ['20190902'],\n    'data_node': ['esgf-data3.ceda.ac.uk'],\n    'variant_label': ['r1i1p1f2'],\n    'grid_label': ['gn'],\n    'instance_id': ['CMIP6.AerChemMIP.MOHC.UKESM1-0-LL.histSST.r1i1p1f2.AERmon.dms.gn.v20190902'],\n    'grid': ['Native N96 grid; 192 x 144 longitude/latitude'],\n    'nominal_resolution': ['250 km'],\n    'realm': ['aerosol'],\n    'file_id': ['CMIP6.AerChemMIP.MOHC.UKESM1-0-LL.histSST.r1i1p1f2.AERmon.dms.gn.v20190902.dms_AERmon_UKESM1-0-LL_histSST_r1i1p1f2_gn_185001-189912.nc|esgf-data3.ceda.ac.uk',\n     'CMIP6.AerChemMIP.MOHC.UKESM1-0-LL.histSST.r1i1p1f2.AERmon.dms.gn.v20190902.dms_AERmon_UKESM1-0-LL_histSST_r1i1p1f2_gn_190001-194912.nc|esgf-data3.ceda.ac.uk',\n     'CMIP6.AerChemMIP.MOHC.UKESM1-0-LL.histSST.r1i1p1f2.AERmon.dms.gn.v20190902.dms_AERmon_UKESM1-0-LL_histSST_r1i1p1f2_gn_195001-199912.nc|esgf-data3.ceda.ac.uk',\n     'CMIP6.AerChemMIP.MOHC.UKESM1-0-LL.histSST.r1i1p1f2.AERmon.dms.gn.v20190902.dms_AERmon_UKESM1-0-LL_histSST_r1i1p1f2_gn_200001-201412.nc|esgf-data3.ceda.ac.uk'],\n    'experiment_id': ['histSST'],\n    'source_type': ['AER', 'AGCM', 'CHEM'],\n    'dataset_id': ['CMIP6.AerChemMIP.MOHC.UKESM1-0-LL.histSST.r1i1p1f2.AERmon.dms.gn.v20190902|esgf-data3.ceda.ac.uk'],\n    'source_id': ['UKESM1-0-LL'],\n    'master_id': ['CMIP6.AerChemMIP.MOHC.UKESM1-0-LL.histSST.r1i1p1f2.AERmon.dms.gn'],\n    'activity_drs': ['AerChemMIP'],\n    'mip_era': ['CMIP6'],\n    'data_specs_version': ['01.00.29'],\n    'dataset_id_template_': ['%(mip_era)s.%(activity_drs)s.%(institution_id)s.%(source_id)s.%(experiment_id)s.%(member_id)s.%(table_id)s.%(variable_id)s.%(grid_label)s'],\n    'further_info_url': ['https://furtherinfo.es-doc.org/CMIP6.MOHC.UKESM1-0-LL.histSST.none.r1i1p1f2'],\n    'institution_id': ['MOHC'],\n    'sub_experiment_id': ['none'],\n    'member_id': ['r1i1p1f2'],\n    'model_cohort': ['Registered'],\n    'product': ['model-output'],\n    'project': ['CMIP6'],\n    'variable': ['dms'],\n    'frequency': ['mon'],\n    'experiment_title': ['historical prescribed SSTs and historical forcing'],\n    'cf_standard_name': ['mole_fraction_of_dimethyl_sulfide_in_air'],\n    'metadata_format': ['THREDDS'],\n    'pid': ['hdl:21.14100/7bc8559f-ea71-32e0-9ad9-2ef0815b55f7'],\n    'access': ['Globus', 'GridFTP', 'HTTPServer', 'OPENDAP'],\n    'variable_id': ['dms'],\n    'variable_units': ['mol mol-1'],\n    'index_node': ['esgf-index4.ceda.ac.uk'],\n    'citation_url': ['http://cera-www.dkrz.de/WDCC/meta/CMIP6/CMIP6.AerChemMIP.MOHC.UKESM1-0-LL.histSST.r1i1p1f2.AERmon.dms.gn.v20190902.json'],\n    'activity_id': ['AerChemMIP'],\n    'start_datetime': '1850-01-01T00:00:00.000Z',\n    'end_datetime': '2014-12-01T00:00:00.000Z',\n    'min_lon': 359.0625,\n    'min_lat': -89.375,\n    'max_lon': 0.9375,\n    'max_lat': 89.375},\n   'links': [{'rel': 'self',\n     'type': 'application/geo+json',\n     'href': 'http://127.0.0.1:8000/collections/cmip6/items/b716398b5a7377f1576c4c5e6744aaf9'},\n    {'rel': 'parent',\n     'type': 'application/json',\n     'href': 'http://127.0.0.1:8000/collections/cmip6'},\n    {'rel': 'collection',\n     'type': 'application/json',\n     'href': 'http://127.0.0.1:8000/collections/cmip6'},\n    {'rel': 'root',\n     'type': 'application/json',\n     'href': 'http://127.0.0.1:8000/'},\n    {'rel': 'assets',\n     'type': 'application/json',\n     'href': 'http://127.0.0.1:8000/collections/cmip6/items/b716398b5a7377f1576c4c5e6744aaf9/assets'}],\n   'assets': {}}]}"
     },
     "execution_count": 3,
     "metadata": {},
     "output_type": "execute_result"
    }
   ],
   "source": [
    "results = api.search(\n",
    "    collections=\"cmip6\",\n",
    "    filter={\n",
    "        \"eq\": [{\"property\":\"activity_id\"}, \"AerChemMIP\"]\n",
    "    },\n",
    "    max_items=1\n",
    ")\n",
    "results.get_all_items_as_dict()"
   ],
   "metadata": {
    "collapsed": false,
    "pycharm": {
     "name": "#%%\n"
    }
   }
  },
  {
   "cell_type": "markdown",
   "source": [
    "### Q search\n",
    "\n",
    "q search allows for case-insensitive search and partial match with wild-card.\n",
    "\n",
    "```py\n",
    "query=\"AerChemMIP\"\n",
    "query=\"aerchemmip\"\n",
    "query=\"aerchem*\"\n",
    "```"
   ],
   "metadata": {
    "collapsed": false,
    "pycharm": {
     "name": "#%% md\n"
    }
   }
  },
  {
   "cell_type": "code",
   "execution_count": 4,
   "outputs": [
    {
     "data": {
      "text/plain": "{'type': 'FeatureCollection',\n 'features': [{'type': 'Feature',\n   'stac_version': '1.0.0',\n   'stac_extensions': [],\n   'id': 'b716398b5a7377f1576c4c5e6744aaf9',\n   'collection': 'cmip6',\n   'bbox': [359.0625, -89.375, 0.9375, 89.375],\n   'geometry': None,\n   'properties': {'table_id': ['AERmon'],\n    'variable_long_name': ['Dimethyl Sulphide (DMS) Mole Fraction'],\n    'height_units': ['m'],\n    'dataset_version': ['20190902'],\n    'data_node': ['esgf-data3.ceda.ac.uk'],\n    'variant_label': ['r1i1p1f2'],\n    'grid_label': ['gn'],\n    'instance_id': ['CMIP6.AerChemMIP.MOHC.UKESM1-0-LL.histSST.r1i1p1f2.AERmon.dms.gn.v20190902'],\n    'grid': ['Native N96 grid; 192 x 144 longitude/latitude'],\n    'nominal_resolution': ['250 km'],\n    'realm': ['aerosol'],\n    'file_id': ['CMIP6.AerChemMIP.MOHC.UKESM1-0-LL.histSST.r1i1p1f2.AERmon.dms.gn.v20190902.dms_AERmon_UKESM1-0-LL_histSST_r1i1p1f2_gn_185001-189912.nc|esgf-data3.ceda.ac.uk',\n     'CMIP6.AerChemMIP.MOHC.UKESM1-0-LL.histSST.r1i1p1f2.AERmon.dms.gn.v20190902.dms_AERmon_UKESM1-0-LL_histSST_r1i1p1f2_gn_190001-194912.nc|esgf-data3.ceda.ac.uk',\n     'CMIP6.AerChemMIP.MOHC.UKESM1-0-LL.histSST.r1i1p1f2.AERmon.dms.gn.v20190902.dms_AERmon_UKESM1-0-LL_histSST_r1i1p1f2_gn_195001-199912.nc|esgf-data3.ceda.ac.uk',\n     'CMIP6.AerChemMIP.MOHC.UKESM1-0-LL.histSST.r1i1p1f2.AERmon.dms.gn.v20190902.dms_AERmon_UKESM1-0-LL_histSST_r1i1p1f2_gn_200001-201412.nc|esgf-data3.ceda.ac.uk'],\n    'experiment_id': ['histSST'],\n    'source_type': ['AER', 'AGCM', 'CHEM'],\n    'dataset_id': ['CMIP6.AerChemMIP.MOHC.UKESM1-0-LL.histSST.r1i1p1f2.AERmon.dms.gn.v20190902|esgf-data3.ceda.ac.uk'],\n    'source_id': ['UKESM1-0-LL'],\n    'master_id': ['CMIP6.AerChemMIP.MOHC.UKESM1-0-LL.histSST.r1i1p1f2.AERmon.dms.gn'],\n    'activity_drs': ['AerChemMIP'],\n    'mip_era': ['CMIP6'],\n    'data_specs_version': ['01.00.29'],\n    'dataset_id_template_': ['%(mip_era)s.%(activity_drs)s.%(institution_id)s.%(source_id)s.%(experiment_id)s.%(member_id)s.%(table_id)s.%(variable_id)s.%(grid_label)s'],\n    'further_info_url': ['https://furtherinfo.es-doc.org/CMIP6.MOHC.UKESM1-0-LL.histSST.none.r1i1p1f2'],\n    'institution_id': ['MOHC'],\n    'sub_experiment_id': ['none'],\n    'member_id': ['r1i1p1f2'],\n    'model_cohort': ['Registered'],\n    'product': ['model-output'],\n    'project': ['CMIP6'],\n    'variable': ['dms'],\n    'frequency': ['mon'],\n    'experiment_title': ['historical prescribed SSTs and historical forcing'],\n    'cf_standard_name': ['mole_fraction_of_dimethyl_sulfide_in_air'],\n    'metadata_format': ['THREDDS'],\n    'pid': ['hdl:21.14100/7bc8559f-ea71-32e0-9ad9-2ef0815b55f7'],\n    'access': ['Globus', 'GridFTP', 'HTTPServer', 'OPENDAP'],\n    'variable_id': ['dms'],\n    'variable_units': ['mol mol-1'],\n    'index_node': ['esgf-index4.ceda.ac.uk'],\n    'citation_url': ['http://cera-www.dkrz.de/WDCC/meta/CMIP6/CMIP6.AerChemMIP.MOHC.UKESM1-0-LL.histSST.r1i1p1f2.AERmon.dms.gn.v20190902.json'],\n    'activity_id': ['AerChemMIP'],\n    'start_datetime': '1850-01-01T00:00:00.000Z',\n    'end_datetime': '2014-12-01T00:00:00.000Z',\n    'min_lon': 359.0625,\n    'min_lat': -89.375,\n    'max_lon': 0.9375,\n    'max_lat': 89.375},\n   'links': [{'rel': 'self',\n     'type': 'application/geo+json',\n     'href': 'http://127.0.0.1:8000/collections/cmip6/items/b716398b5a7377f1576c4c5e6744aaf9'},\n    {'rel': 'parent',\n     'type': 'application/json',\n     'href': 'http://127.0.0.1:8000/collections/cmip6'},\n    {'rel': 'collection',\n     'type': 'application/json',\n     'href': 'http://127.0.0.1:8000/collections/cmip6'},\n    {'rel': 'root',\n     'type': 'application/json',\n     'href': 'http://127.0.0.1:8000/'},\n    {'rel': 'assets',\n     'type': 'application/json',\n     'href': 'http://127.0.0.1:8000/collections/cmip6/items/b716398b5a7377f1576c4c5e6744aaf9/assets'}],\n   'assets': {}}]}"
     },
     "execution_count": 4,
     "metadata": {},
     "output_type": "execute_result"
    }
   ],
   "source": [
    "results = api.search(\n",
    "    collections=\"cmip6\",\n",
    "    query=\"aerchem*\",\n",
    "    max_items=1,\n",
    ")\n",
    "results.get_all_items_as_dict()"
   ],
   "metadata": {
    "collapsed": false,
    "pycharm": {
     "name": "#%%\n"
    }
   }
  },
  {
   "cell_type": "markdown",
   "source": [
    "## Get Collections\n",
    "\n",
    "### List of collections in the Catalog"
   ],
   "metadata": {
    "collapsed": false,
    "pycharm": {
     "name": "#%% md\n"
    }
   }
  },
  {
   "cell_type": "code",
   "execution_count": 5,
   "outputs": [
    {
     "name": "stdout",
     "output_type": "stream",
     "text": [
      "cmip6\n"
     ]
    }
   ],
   "source": [
    "collections = api.get_collections()\n",
    "\n",
    "for collection in collections:\n",
    "    print(collection.id)"
   ],
   "metadata": {
    "collapsed": false,
    "pycharm": {
     "name": "#%%\n"
    }
   }
  },
  {
   "cell_type": "markdown",
   "source": [
    "## Get Assets\n",
    "\n",
    "### Asset from Item"
   ],
   "metadata": {
    "collapsed": false,
    "pycharm": {
     "name": "#%% md\n"
    }
   }
  },
  {
   "cell_type": "code",
   "execution_count": 6,
   "outputs": [],
   "source": [
    "items = api.get_collection(collection_id=\"cmip6\").get_items()\n",
    "item: Item = next(items)\n",
    "links = item.links"
   ],
   "metadata": {
    "collapsed": false,
    "pycharm": {
     "name": "#%%\n"
    }
   }
  },
  {
   "cell_type": "code",
   "execution_count": 10,
   "outputs": [
    {
     "name": "stdout",
     "output_type": "stream",
     "text": [
      "<pystac.stac_io.DefaultStacIO object at 0x7fdddb5ddee0>\n"
     ]
    }
   ],
   "source": [
    "link: Link = item.get_single_link('assets')\n",
    "link.target"
   ],
   "metadata": {
    "collapsed": false,
    "pycharm": {
     "name": "#%%\n"
    }
   }
  },
  {
   "cell_type": "markdown",
   "source": [
    "### Asset from search"
   ],
   "metadata": {
    "collapsed": false,
    "pycharm": {
     "name": "#%% md\n"
    }
   }
  },
  {
   "cell_type": "code",
   "execution_count": 12,
   "outputs": [
    {
     "name": "stdout",
     "output_type": "stream",
     "text": [
      "{'href': \"https://dap.ceda.ac.uk['http://esgf-data3.ceda.ac.uk/thredds/fileServer/esg_cmip6/CMIP6/AerChemMIP/BCC/BCC-ESM1/ssp370/r1i1p1f1/Ofx/areacello/gn/v20201021/areacello_Ofx_BCC-ESM1_ssp370_r1i1p1f1_gn.nc|application/netcdf|HTTPServer', 'gsiftp://esgf-dn1.ceda.ac.uk:2811//esg_cmip6/CMIP6/AerChemMIP/BCC/BCC-ESM1/ssp370/r1i1p1f1/Ofx/areacello/gn/v20201021/areacello_Ofx_BCC-ESM1_ssp370_r1i1p1f1_gn.nc|application/gridftp|GridFTP', 'http://esgf-data3.ceda.ac.uk/thredds/dodsC/esg_cmip6/CMIP6/AerChemMIP/BCC/BCC-ESM1/ssp370/r1i1p1f1/Ofx/areacello/gn/v20201021/areacello_Ofx_BCC-ESM1_ssp370_r1i1p1f1_gn.nc.html|application/opendap-html|OPENDAP', 'globus:ee3aa1a0-7e4c-11e6-afc4-22000b92c261/esg_cmip6/CMIP6/AerChemMIP/BCC/BCC-ESM1/ssp370/r1i1p1f1/Ofx/areacello/gn/v20201021/areacello_Ofx_BCC-ESM1_ssp370_r1i1p1f1_gn.nc|Globus|Globus']\", 'type': 'ESGF_SOLR', 'roles': ['data']}\n"
     ]
    }
   ],
   "source": [
    "results = api.asset_search(\n",
    "    filter={\n",
    "        \"eq\": [{\"property\":\"activity_id\"}, \"AerChemMIP\"]\n",
    "    },\n",
    "    max_assets=1\n",
    ")\n",
    "assets = results.get_assets()\n",
    "asset: Asset = next(assets)\n",
    "\n",
    "print(asset.to_dict())"
   ],
   "metadata": {
    "collapsed": false,
    "pycharm": {
     "name": "#%%\n"
    }
   }
  },
  {
   "cell_type": "code",
   "execution_count": 156,
   "outputs": [
    {
     "ename": "AttributeError",
     "evalue": "'Client' object has no attribute 'asset_search'",
     "output_type": "error",
     "traceback": [
      "\u001B[0;31m---------------------------------------------------------------------------\u001B[0m",
      "\u001B[0;31mAttributeError\u001B[0m                            Traceback (most recent call last)",
      "Input \u001B[0;32mIn [156]\u001B[0m, in \u001B[0;36m<cell line: 1>\u001B[0;34m()\u001B[0m\n\u001B[0;32m----> 1\u001B[0m \u001B[43mapi\u001B[49m\u001B[38;5;241;43m.\u001B[39;49m\u001B[43masset_search\u001B[49m()\u001B[38;5;241m.\u001B[39mget_assets()\n",
      "\u001B[0;31mAttributeError\u001B[0m: 'Client' object has no attribute 'asset_search'"
     ]
    }
   ],
   "source": [
    "api.asset_search().get_assets()"
   ],
   "metadata": {
    "collapsed": false,
    "pycharm": {
     "name": "#%%\n"
    }
   }
  },
  {
   "cell_type": "code",
   "execution_count": null,
   "outputs": [],
   "source": [],
   "metadata": {
    "collapsed": false,
    "pycharm": {
     "name": "#%%api.get_links()"
    }
   }
  },
  {
   "cell_type": "code",
   "execution_count": null,
   "outputs": [],
   "source": [],
   "metadata": {
    "collapsed": false,
    "pycharm": {
     "name": "#%%"
    }
   }
  },
  {
   "cell_type": "code",
   "execution_count": null,
   "outputs": [],
   "source": [],
   "metadata": {
    "collapsed": false,
    "pycharm": {
     "name": "#%%"
    }
   }
  },
  {
   "cell_type": "code",
   "execution_count": null,
   "outputs": [],
   "source": [
    "## Get Assets\n"
   ],
   "metadata": {
    "collapsed": false,
    "pycharm": {
     "name": "#%%    \n"
    }
   }
  },
  {
   "cell_type": "code",
   "execution_count": null,
   "outputs": [],
   "source": [],
   "metadata": {
    "collapsed": false,
    "pycharm": {
     "name": "#%%"
    }
   }
  },
  {
   "cell_type": "code",
   "execution_count": null,
   "outputs": [],
   "source": [],
   "metadata": {
    "collapsed": false,
    "pycharm": {
     "name": "#%%"
    }
   }
  },
  {
   "cell_type": "code",
   "execution_count": null,
   "outputs": [],
   "source": [
    "results.get_all_items_as_dict()"
   ],
   "metadata": {
    "collapsed": false,
    "pycharm": {
     "name": "#%%\n"
    }
   }
  }
 ],
 "metadata": {
  "kernelspec": {
   "display_name": "Python 3",
   "language": "python",
   "name": "python3"
  },
  "language_info": {
   "codemirror_mode": {
    "name": "ipython",
    "version": 2
   },
   "file_extension": ".py",
   "mimetype": "text/x-python",
   "name": "python",
   "nbconvert_exporter": "python",
   "pygments_lexer": "ipython2",
   "version": "2.7.6"
  }
 },
 "nbformat": 4,
 "nbformat_minor": 0
}