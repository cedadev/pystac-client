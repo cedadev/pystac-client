{
 "cells": [
  {
   "cell_type": "markdown",
   "source": [
    "# Install PySTAC Client\n",
    "\n",
    "Import the PySTAC Client and connect the Client\n",
    "to the STAC API endpoint.\n",
    "\n",
    "PySTAC returns generator objects as a response that\n",
    "can be iterated over. This abstracts away listing and pagination."
   ],
   "metadata": {
    "collapsed": true,
    "pycharm": {
     "name": "#%% md\n"
    }
   }
  },
  {
   "cell_type": "code",
   "execution_count": 3,
   "source": [
    "from pystac_client.client import Client\n",
    "from pystac.item import Item\n",
    "from pystac.collection import Collection\n",
    "from pystac.link import Link\n",
    "from pystac_client.asset_search import Asset"
   ],
   "outputs": [],
   "metadata": {
    "collapsed": false,
    "pycharm": {
     "name": "#%%\n"
    }
   }
  },
  {
   "cell_type": "markdown",
   "source": [
    "## Pre-Condition: connect to STAC endpoint"
   ],
   "metadata": {
    "collapsed": false,
    "pycharm": {
     "name": "#%% md\n"
    }
   }
  },
  {
   "cell_type": "code",
   "execution_count": 4,
   "outputs": [],
   "source": [
    "api = Client.open(\"http://127.0.0.1:8000\")"
   ],
   "metadata": {
    "collapsed": false,
    "pycharm": {
     "name": "#%%\n"
    }
   }
  },
  {
   "cell_type": "markdown",
   "source": [
    "Get basic information about the API from the Client"
   ],
   "metadata": {
    "collapsed": false,
    "pycharm": {
     "name": "#%% md\n"
    }
   }
  },
  {
   "cell_type": "code",
   "execution_count": 5,
   "source": [
    "print(\n",
    "    f\"Title: {api.title}\\n\"\n",
    "    f\"Description: {api.description}\\n\"\n",
    "    f\"Catalog ID: {api.id}\\n\"\n",
    ")"
   ],
   "outputs": [
    {
     "name": "stdout",
     "output_type": "stream",
     "text": [
      "Title: test_api_title\n",
      "Description: test api\n",
      "Catalog ID: stac-fastapi\n",
      "\n"
     ]
    }
   ],
   "metadata": {
    "collapsed": false,
    "pycharm": {
     "name": "#%%\n"
    }
   }
  },
  {
   "cell_type": "markdown",
   "source": [
    "## 01: Basic free-text search, across all items in all collections\n",
    "\n",
    "A collection must be specified, PySTAC supports all collection however\n",
    "the stac-fastapi-elasticsearch encounters a 500 error. Will need to look into why.\n",
    "\n",
    "Search query must be inside a query argument.\n",
    "\n",
    "## 02: Same as `01`, with named parameter \"q\" instead of unnamed parameter\n",
    "\n",
    "q search allows for case-insensitive search and partial match with wild-card.\n",
    "\n",
    "PySTAC uses 'query' instead of 'q'\n",
    "\n",
    "```py\n",
    "query=\"AerChemMIP\"\n",
    "query=\"aerchemmip\"\n",
    "query=\"aerchemm*\"\n",
    "```"
   ],
   "metadata": {
    "collapsed": false,
    "pycharm": {
     "name": "#%% md\n"
    }
   }
  },
  {
   "cell_type": "code",
   "execution_count": 6,
   "source": [
    "results = api.search(\n",
    "    collections=\"cmip6\",\n",
    "    q=\"aerchemm*\",\n",
    "    max_items=1,\n",
    ")\n",
    "items = results.get_items()\n",
    "item = next(items)\n",
    "item.properties['activity_id']"
   ],
   "outputs": [
    {
     "data": {
      "text/plain": "['AerChemMIP']"
     },
     "execution_count": 6,
     "metadata": {},
     "output_type": "execute_result"
    }
   ],
   "metadata": {
    "collapsed": false,
    "pycharm": {
     "name": "#%%\n"
    }
   }
  },
  {
   "cell_type": "markdown",
   "source": [
    "## 03: Same as `02`: but checking search is case-insensitive\n",
    "\n",
    "demonstrated in `02`\n",
    "\n",
    "## 04: same as `01`, but specifying doctype\n",
    "\n",
    "`api.search()` and `api.asset_search()` are item and asset level searches respectively."
   ],
   "metadata": {
    "collapsed": false,
    "pycharm": {
     "name": "#%% md\n"
    }
   }
  },
  {
   "cell_type": "code",
   "execution_count": 7,
   "outputs": [
    {
     "name": "stdout",
     "output_type": "stream",
     "text": [
      "<Asset href=http://esgf-data3.ceda.ac.uk/thredds/fileServer/esg_cmip6/CMIP6/CMIP/CAS/FGOALS-g3/historical/r1i1p1f1/fx/orog/gn/v20201202/orog_fx_FGOALS-g3_historical_r1i1p1f1_gn.nc>\n",
      "<Item id=c2d94dd296525cc105cfa657b6b559c0>\n"
     ]
    }
   ],
   "source": [
    "items = api.search(collections='cmip6', max_items=1).get_items()\n",
    "\n",
    "assets = api.asset_search(max_assets=1).get_assets()\n",
    "\n",
    "asset: Asset = next(assets)\n",
    "item: Item = next(items)\n",
    "\n",
    "print(asset)\n",
    "print(item)"
   ],
   "metadata": {
    "collapsed": false,
    "pycharm": {
     "name": "#%%\n"
    }
   }
  },
  {
   "cell_type": "markdown",
   "source": [
    "## 05: like `03` but doctype is set to collection\n",
    "\n",
    "There is no collection-level search\n",
    "\n",
    "## 06: like `01`, but checking partial match works with a wild-card\n",
    "\n",
    "Demonstated in `02`\n",
    "\n",
    "## 07: like `01`, only search within the collections specified.\n",
    "\n",
    "Must specify a collection to begin with.\n",
    "\n",
    "Can not test multiple collections as of writing however the code does not show that capability\n",
    "but is likely it can be abstracted in elasticsearch to work.\n",
    "\n",
    "## 07b: like `07` only you can search collection objects and or collection IDs.\n",
    "\n",
    "Collection ID can be retrieved from the object to search using a collection object\n",
    "if ID is unknown. This will return a string."
   ],
   "metadata": {
    "collapsed": false
   }
  },
  {
   "cell_type": "code",
   "execution_count": 8,
   "outputs": [
    {
     "data": {
      "text/plain": "<Item id=c2d94dd296525cc105cfa657b6b559c0>"
     },
     "execution_count": 8,
     "metadata": {},
     "output_type": "execute_result"
    }
   ],
   "source": [
    "collections = api.get_collections()\n",
    "collection: Collection = next(collections)\n",
    "\n",
    "items = api.search(collections=collection.id, max_items=1).get_items()\n",
    "item = next(items)\n",
    "\n",
    "item"
   ],
   "metadata": {
    "collapsed": false,
    "pycharm": {
     "name": "#%%\n"
    }
   }
  },
  {
   "cell_type": "markdown",
   "source": [
    "## 08: facetted search, looking to match a given facet over all items\n",
    "\n",
    "Faceted search can be done using the filter parameter."
   ],
   "metadata": {
    "collapsed": false
   }
  },
  {
   "cell_type": "code",
   "execution_count": 9,
   "outputs": [
    {
     "data": {
      "text/plain": "['AerChemMIP']"
     },
     "execution_count": 9,
     "metadata": {},
     "output_type": "execute_result"
    }
   ],
   "source": [
    "results = api.search(\n",
    "    collections=collection.id,\n",
    "    max_items=10,\n",
    "    filter={\n",
    "        \"eq\": [{\"property\": \"activity_id\"}, \"AerChemMIP\"]\n",
    "    }\n",
    ").get_items()\n",
    "\n",
    "item = next(results)\n",
    "item.properties['activity_id']"
   ],
   "metadata": {
    "collapsed": false,
    "pycharm": {
     "name": "#%%\n"
    }
   }
  },
  {
   "cell_type": "markdown",
   "source": [
    "## 09: faceted search, looked to match multiple facets over all items"
   ],
   "metadata": {
    "collapsed": false
   }
  },
  {
   "cell_type": "code",
   "execution_count": 10,
   "outputs": [
    {
     "data": {
      "text/plain": "{'further_info_url': ['https://furtherinfo.es-doc.org/CMIP6.AS-RCEC.TaiESM1.abrupt-0p5xCO2.none.r1i1p1f1'],\n 'index_node': ['esgf-index4.ceda.ac.uk'],\n 'source_type': ['AER', 'AOGCM', 'BGC'],\n 'experiment_id': ['abrupt-0p5xCO2'],\n 'variable_id': ['huss'],\n 'activity_drs': ['CFMIP'],\n 'dataset_id_template_': ['%(mip_era)s.%(activity_drs)s.%(institution_id)s.%(source_id)s.%(experiment_id)s.%(member_id)s.%(table_id)s.%(variable_id)s.%(grid_label)s'],\n 'institution_id': ['AS-RCEC'],\n 'variable': ['huss'],\n 'model_cohort': ['Registered'],\n 'dataset_version': ['20210913'],\n 'dataset_id': ['CMIP6.CFMIP.AS-RCEC.TaiESM1.abrupt-0p5xCO2.r1i1p1f1.Amon.huss.gn.v20210913|esgf-data3.ceda.ac.uk'],\n 'grid_label': ['gn'],\n 'file_id': ['CMIP6.CFMIP.AS-RCEC.TaiESM1.abrupt-0p5xCO2.r1i1p1f1.Amon.huss.gn.v20210913.huss_Amon_TaiESM1_abrupt-0p5xCO2_r1i1p1f1_gn_000101-012012.nc|esgf-data3.ceda.ac.uk',\n  'CMIP6.CFMIP.AS-RCEC.TaiESM1.abrupt-0p5xCO2.r1i1p1f1.Amon.huss.gn.v20210913.huss_Amon_TaiESM1_abrupt-0p5xCO2_r1i1p1f1_gn_012101-014612.nc|esgf-data3.ceda.ac.uk',\n  'CMIP6.CFMIP.AS-RCEC.TaiESM1.abrupt-0p5xCO2.r1i1p1f1.Amon.huss.gn.v20210913.huss_Amon_TaiESM1_abrupt-0p5xCO2_r1i1p1f1_gn_014701-015012.nc|esgf-data3.ceda.ac.uk'],\n 'sub_experiment_id': ['none'],\n 'member_id': ['r1i1p1f1'],\n 'mip_era': ['CMIP6'],\n 'product': ['model-output'],\n 'realm': ['atmos'],\n 'table_id': ['Amon'],\n 'experiment_title': ['abrupt halving of CO2'],\n 'project': ['CMIP6'],\n 'access': ['Globus', 'GridFTP', 'HTTPServer', 'OPENDAP'],\n 'activity_id': ['CFMIP'],\n 'frequency': ['mon'],\n 'master_id': ['CMIP6.CFMIP.AS-RCEC.TaiESM1.abrupt-0p5xCO2.r1i1p1f1.Amon.huss.gn'],\n 'variable_units': ['1'],\n 'data_node': ['esgf-data3.ceda.ac.uk'],\n 'citation_url': ['http://cera-www.dkrz.de/WDCC/meta/CMIP6/CMIP6.CFMIP.AS-RCEC.TaiESM1.abrupt-0p5xCO2.r1i1p1f1.Amon.huss.gn.v20210913.json'],\n 'data_specs_version': ['01.00.31'],\n 'pid': ['hdl:21.14100/b26b7f5d-b632-3c55-a3aa-656069fc57ec'],\n 'cf_standard_name': ['specific_humidity'],\n 'variant_label': ['r1i1p1f1'],\n 'source_id': ['TaiESM1'],\n 'grid': ['finite-volume grid with 0.9x1.25 degree lat/lon resolution'],\n 'instance_id': ['CMIP6.CFMIP.AS-RCEC.TaiESM1.abrupt-0p5xCO2.r1i1p1f1.Amon.huss.gn.v20210913'],\n 'variable_long_name': ['Near-Surface Specific Humidity'],\n 'nominal_resolution': ['100 km'],\n 'start_datetime': '0001-01-01T00:00:00.000Z',\n 'end_datetime': '0150-12-01T00:00:00.000Z'}"
     },
     "execution_count": 10,
     "metadata": {},
     "output_type": "execute_result"
    }
   ],
   "source": [
    "results = api.search(\n",
    "    collections=collection.id,\n",
    "    max_items=10,\n",
    "    filter={\n",
    "        \"eq\": [{\"property\": \"institution_id\"}, \"MOHC\"],\n",
    "        \"eq\": [{\"property\": \"activity_id\"}, \"CFMIP\"],\n",
    "    }\n",
    ").get_items()\n",
    "\n",
    "item = next(results)\n",
    "item.properties"
   ],
   "metadata": {
    "collapsed": false,
    "pycharm": {
     "name": "#%%\n"
    }
   }
  },
  {
   "cell_type": "markdown",
   "source": [
    "## 10: faceted search, looking to match multiple facets within multiple collections\n",
    "\n",
    "Same as `09` but use the `mip_era` property to add a collections to the filter or\n",
    "list the collection id in the `collections` parameter."
   ],
   "metadata": {
    "collapsed": false
   }
  },
  {
   "cell_type": "markdown",
   "source": [
    "## 11: Global Asset-level search"
   ],
   "metadata": {
    "collapsed": false
   }
  },
  {
   "cell_type": "code",
   "execution_count": 11,
   "outputs": [
    {
     "data": {
      "text/plain": "<Asset href=http://esgf-data3.ceda.ac.uk/thredds/fileServer/esg_cmip6/CMIP6/AerChemMIP/BCC/BCC-ESM1/ssp370/r1i1p1f1/Ofx/areacello/gn/v20201021/areacello_Ofx_BCC-ESM1_ssp370_r1i1p1f1_gn.nc>"
     },
     "execution_count": 11,
     "metadata": {},
     "output_type": "execute_result"
    }
   ],
   "source": [
    "assets = api.asset_search(\n",
    "    filter={\n",
    "        \"eq\": [{\"property\": \"activity_id\"}, \"AerChemMIP\"]\n",
    "    }\n",
    ").get_assets()\n",
    "\n",
    "asset: Asset = next(assets)\n",
    "asset"
   ],
   "metadata": {
    "collapsed": false,
    "pycharm": {
     "name": "#%%\n"
    }
   }
  },
  {
   "cell_type": "markdown",
   "source": [
    "## 12 Asset-level search within Collection\n",
    "\n",
    "Can use global asset search and search by `mip_era` in the properties."
   ],
   "metadata": {
    "collapsed": false
   }
  },
  {
   "cell_type": "code",
   "execution_count": 12,
   "outputs": [
    {
     "data": {
      "text/plain": "'http://esgf-data3.ceda.ac.uk/thredds/fileServer/esg_cmip6/CMIP6/RFMIP/MOHC/UKESM1-0-LL/piClim-aer/r1i1p1f4/AERmonZ/bry/gnz/v20200305/bry_AERmonZ_UKESM1-0-LL_piClim-aer_r1i1p1f4_gnz_185001-189412.nc'"
     },
     "execution_count": 12,
     "metadata": {},
     "output_type": "execute_result"
    }
   ],
   "source": [
    "assets = api.asset_search(\n",
    "    filter={\n",
    "        \"eq\": [{\"property\": \"mip_era\"}, \"CMIP6\"],\n",
    "        \"eq\": [{\"property\": \"activity_id\"}, \"AerChemMIP\"]\n",
    "    },\n",
    "    max_assets=1\n",
    ").get_assets()\n",
    "asset = next(assets)\n",
    "asset.href"
   ],
   "metadata": {
    "collapsed": false,
    "pycharm": {
     "name": "#%%\n"
    }
   }
  },
  {
   "cell_type": "markdown",
   "source": [
    "## 13: Asset-level search within Item\n",
    "\n",
    "Not a feature yet in asset-search extension"
   ],
   "metadata": {
    "collapsed": false
   }
  },
  {
   "cell_type": "code",
   "execution_count": 12,
   "outputs": [],
   "source": [],
   "metadata": {
    "collapsed": false,
    "pycharm": {
     "name": "#%%\n"
    }
   }
  }
 ],
 "metadata": {
  "kernelspec": {
   "name": "python3",
   "language": "python",
   "display_name": "Python 3 (ipykernel)"
  },
  "language_info": {
   "name": "python",
   "version": "3.9.6",
   "mimetype": "text/x-python",
   "codemirror_mode": {
    "name": "ipython",
    "version": 3
   },
   "pygments_lexer": "ipython3",
   "nbconvert_exporter": "python",
   "file_extension": ".py"
  },
  "interpreter": {
   "hash": "45722562401730454187866b23802314306fe34003819505e048c53d45ec7219"
  }
 },
 "nbformat": 4,
 "nbformat_minor": 2
}