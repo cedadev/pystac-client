{
 "cells": [
  {
   "cell_type": "markdown",
   "source": [
    "# Install PySTAC Client\n",
    "\n",
    "Import the PySTAC Client and connect the Client\n",
    "to the STAC API endpoint.\n",
    "\n",
    "PySTAC returns generator objects as a response that\n",
    "can be iterated over. This abstracts away listing and pagination."
   ],
   "metadata": {
    "collapsed": true,
    "pycharm": {
     "name": "#%% md\n"
    }
   }
  },
  {
   "cell_type": "code",
   "execution_count": 1,
   "source": [
    "from pystac_client.client import Client\n",
    "from pystac.item import Item\n",
    "from pystac.collection import Collection\n",
    "from pystac.link import Link\n",
    "from pystac_client.asset_search import Asset"
   ],
   "outputs": [],
   "metadata": {
    "collapsed": false,
    "pycharm": {
     "name": "#%%\n"
    }
   }
  },
  {
   "cell_type": "markdown",
   "source": [
    "## Pre-Condition: connect to STAC endpoint"
   ],
   "metadata": {
    "collapsed": false,
    "pycharm": {
     "name": "#%% md\n"
    }
   }
  },
  {
   "cell_type": "code",
   "execution_count": 2,
   "outputs": [],
   "source": [
    "api = Client.open(\"https://api.stac.ceda.ac.uk\")"
   ],
   "metadata": {
    "collapsed": false,
    "pycharm": {
     "name": "#%%\n"
    }
   }
  },
  {
   "cell_type": "markdown",
   "source": [
    "Get basic information about the API from the Client"
   ],
   "metadata": {
    "collapsed": false,
    "pycharm": {
     "name": "#%% md\n"
    }
   }
  },
  {
   "cell_type": "code",
   "execution_count": 3,
   "source": [
    "print(\n",
    "    f\"Title: {api.title}\\n\"\n",
    "    f\"Description: {api.description}\\n\"\n",
    "    f\"Catalog ID: {api.id}\\n\"\n",
    ")"
   ],
   "outputs": [
    {
     "name": "stdout",
     "output_type": "stream",
     "text": [
      "Title: CEDA STAC API\n",
      "Description: This is an experimental STAC API server.\n",
      "The content is subject to change the and there is no guarantee surrounding its uptime.\n",
      "\n",
      "Catalog ID: stac-fastapi\n",
      "\n"
     ]
    }
   ],
   "metadata": {
    "collapsed": false,
    "pycharm": {
     "name": "#%%\n"
    }
   }
  },
  {
   "cell_type": "markdown",
   "source": [
    "## 01: Basic free-text search, across all items in all collections\n",
    "\n",
    "A collection must be specified, PySTAC supports all collection however\n",
    "the stac-fastapi-elasticsearch encounters a 500 error. Will need to look into why.\n",
    "\n",
    "Search query must be inside a query argument.\n",
    "\n",
    "## 02: Same as `01`, with named parameter \"q\" instead of unnamed parameter\n",
    "\n",
    "q search allows for case-insensitive search and partial match with wild-card.\n",
    "\n",
    "PySTAC uses 'query' instead of 'q'\n",
    "\n",
    "```py\n",
    "query=\"AerChemMIP\"\n",
    "query=\"aerchemmip\"\n",
    "query=\"aerchemm*\"\n",
    "```"
   ],
   "metadata": {
    "collapsed": false,
    "pycharm": {
     "name": "#%% md\n"
    }
   }
  },
  {
   "cell_type": "code",
   "execution_count": 4,
   "source": [
    "results = api.search(\n",
    "    collections=\"cmip6\",\n",
    "    q=\"aerchemm*\",\n",
    "    max_items=1,\n",
    ")\n",
    "items = results.get_items()\n",
    "item = next(items)\n",
    "item.properties['activity_id']"
   ],
   "outputs": [
    {
     "data": {
      "text/plain": "['AerChemMIP']"
     },
     "execution_count": 4,
     "metadata": {},
     "output_type": "execute_result"
    }
   ],
   "metadata": {
    "collapsed": false,
    "pycharm": {
     "name": "#%%\n"
    }
   }
  },
  {
   "cell_type": "markdown",
   "source": [
    "## 03: Same as `02`: but checking search is case-insensitive\n",
    "\n",
    "demonstrated in `02`\n",
    "\n",
    "## 04: same as `01`, but specifying doctype\n",
    "\n",
    "`api.search()` and `api.asset_search()` are item and asset level searches respectively."
   ],
   "metadata": {
    "collapsed": false,
    "pycharm": {
     "name": "#%% md\n"
    }
   }
  },
  {
   "cell_type": "code",
   "execution_count": 5,
   "outputs": [
    {
     "name": "stdout",
     "output_type": "stream",
     "text": [
      "<Asset href=http://esgf-data3.ceda.ac.uk/thredds/fileServer/esg_cmip6/CMIP6/CMIP/CAS/FGOALS-g3/historical/r1i1p1f1/fx/orog/gn/v20201202/orog_fx_FGOALS-g3_historical_r1i1p1f1_gn.nc>\n",
      "<Item id=c2d94dd296525cc105cfa657b6b559c0>\n"
     ]
    }
   ],
   "source": [
    "items = api.search(collections='cmip6', max_items=1).get_items()\n",
    "\n",
    "assets = api.asset_search(max_assets=1).get_assets()\n",
    "\n",
    "asset: Asset = next(assets)\n",
    "item: Item = next(items)\n",
    "\n",
    "print(asset)\n",
    "print(item)"
   ],
   "metadata": {
    "collapsed": false,
    "pycharm": {
     "name": "#%%\n"
    }
   }
  },
  {
   "cell_type": "markdown",
   "source": [
    "## 05: like `03` but doctype is set to collection\n",
    "\n",
    "There is no collection-level search\n",
    "\n",
    "## 06: like `01`, but checking partial match works with a wild-card\n",
    "\n",
    "Demonstated in `02`\n",
    "\n",
    "## 07: like `01`, only search within the collections specified.\n",
    "\n",
    "Must specify a collection to begin with.\n",
    "\n",
    "Can not test multiple collections as of writing however the code does not show that capability\n",
    "but is likely it can be abstracted in elasticsearch to work.\n",
    "\n",
    "## 07b: like `07` only you can search collection objects and or collection IDs.\n",
    "\n",
    "Collection ID can be retrieved from the object to search using a collection object\n",
    "if ID is unknown. This will return a string."
   ],
   "metadata": {
    "collapsed": false
   }
  },
  {
   "cell_type": "code",
   "execution_count": 6,
   "outputs": [
    {
     "data": {
      "text/plain": "<Item id=c2d94dd296525cc105cfa657b6b559c0>",
      "text/html": "\n\n<div class=\"jp-RenderedHTMLCommon jp-RenderedHTML jp-mod-trusted jp-OutputArea-output\">\n    <div style=\"\n        width: 24px;\n        height: 24px;\n        background-color: #DBF5FF;\n        border: 3px solid #4CC9FF;\n        border-radius: 5px;\n        position: absolute;\">\n    </div>\n    <div>\n        <details style=\"margin-left: 48px;\">\n            <summary style=\"margin-bottom: 20px;\">\n                <h3 style=\"margin-bottom: 0px; display: inline;\">Item: c2d94dd296525cc105cfa657b6b559c0</h3>\n            </summary>\n            <table style=\"width: 100%; text-align: left;\">\n                <tr><td style=\"text-align: left;\"><strong>ID</strong>: c2d94dd296525cc105cfa657b6b559c0 </td></tr>\n                \n                \n                \n                \n                    \n                        <tr><td style=\"text-align: left;\"><strong>cf_standard_name:</strong> ['surface_downwelling_shortwave_flux_in_air'] </td></tr>\n                    \n                        <tr><td style=\"text-align: left;\"><strong>access:</strong> ['Globus', 'GridFTP', 'HTTPServer', 'OPENDAP'] </td></tr>\n                    \n                        <tr><td style=\"text-align: left;\"><strong>dataset_id_template_:</strong> ['%(mip_era)s.%(activity_drs)s.%(institution_id)s.%(source_id)s.%(experiment_id)s.%(member_id)s.%(table_id)s.%(variable_id)s.%(grid_label)s'] </td></tr>\n                    \n                        <tr><td style=\"text-align: left;\"><strong>realm:</strong> ['atmos'] </td></tr>\n                    \n                        <tr><td style=\"text-align: left;\"><strong>variable_long_name:</strong> ['Surface Downwelling Shortwave Radiation'] </td></tr>\n                    \n                        <tr><td style=\"text-align: left;\"><strong>data_node:</strong> ['esgf-data3.ceda.ac.uk'] </td></tr>\n                    \n                        <tr><td style=\"text-align: left;\"><strong>master_id:</strong> ['CMIP6.CMIP.EC-Earth-Consortium.EC-Earth3-Veg-LR.piControl.r1i1p1f1.Amon.rsds.gr'] </td></tr>\n                    \n                        <tr><td style=\"text-align: left;\"><strong>model_cohort:</strong> ['Registered'] </td></tr>\n                    \n                        <tr><td style=\"text-align: left;\"><strong>instance_id:</strong> ['CMIP6.CMIP.EC-Earth-Consortium.EC-Earth3-Veg-LR.piControl.r1i1p1f1.Amon.rsds.gr.v20200213'] </td></tr>\n                    \n                        <tr><td style=\"text-align: left;\"><strong>experiment_title:</strong> ['pre-industrial control'] </td></tr>\n                    \n                        <tr><td style=\"text-align: left;\"><strong>nominal_resolution:</strong> ['250 km'] </td></tr>\n                    \n                        <tr><td style=\"text-align: left;\"><strong>data_specs_version:</strong> ['01.00.31'] </td></tr>\n                    \n                        <tr><td style=\"text-align: left;\"><strong>experiment_id:</strong> ['piControl'] </td></tr>\n                    \n                        <tr><td style=\"text-align: left;\"><strong>dataset_id:</strong> ['CMIP6.CMIP.EC-Earth-Consortium.EC-Earth3-Veg-LR.piControl.r1i1p1f1.Amon.rsds.gr.v20200213|esgf-data3.ceda.ac.uk'] </td></tr>\n                    \n                        <tr><td style=\"text-align: left;\"><strong>project:</strong> ['CMIP6'] </td></tr>\n                    \n                        <tr><td style=\"text-align: left;\"><strong>index_node:</strong> ['esgf-index4.ceda.ac.uk'] </td></tr>\n                    \n                        <tr><td style=\"text-align: left;\"><strong>variant_label:</strong> ['r1i1p1f1'] </td></tr>\n                    \n                        <tr><td style=\"text-align: left;\"><strong>activity_drs:</strong> ['CMIP'] </td></tr>\n                    \n                        <tr><td style=\"text-align: left;\"><strong>mip_era:</strong> ['CMIP6'] </td></tr>\n                    \n                        <tr><td style=\"text-align: left;\"><strong>source_id:</strong> ['EC-Earth3-Veg-LR'] </td></tr>\n                    \n                        <tr><td style=\"text-align: left;\"><strong>grid:</strong> ['T159L62-ORCA1L75'] </td></tr>\n                    \n                        <tr><td style=\"text-align: left;\"><strong>dataset_version:</strong> ['20200213'] </td></tr>\n                    \n                        <tr><td style=\"text-align: left;\"><strong>variable:</strong> ['rsds'] </td></tr>\n                    \n                        <tr><td style=\"text-align: left;\"><strong>further_info_url:</strong> ['https://furtherinfo.es-doc.org/CMIP6.EC-Earth-Consortium.EC-Earth3-Veg-LR.piControl.none.r1i1p1f1'] </td></tr>\n                    \n                        <tr><td style=\"text-align: left;\"><strong>variable_units:</strong> ['W m-2'] </td></tr>\n                    \n                        <tr><td style=\"text-align: left;\"><strong>activity_id:</strong> ['CMIP'] </td></tr>\n                    \n                        <tr><td style=\"text-align: left;\"><strong>product:</strong> ['model-output'] </td></tr>\n                    \n                        <tr><td style=\"text-align: left;\"><strong>file_id:</strong> ['CMIP6.CMIP.EC-Earth-Consortium.EC-Earth3-Veg-LR.piControl.r1i1p1f1.Amon.rsds.gr.v20200213.rsds_Amon_EC-Earth3-Veg-LR_piControl_r1i1p1f1_gr_230001-230012.nc|esgf-data3.ceda.ac.uk', 'CMIP6.CMIP.EC-Earth-Consortium.EC-Earth3-Veg-LR.piControl.r1i1p1f1.Amon.rsds.gr.v20200213.rsds_Amon_EC-Earth3-Veg-LR_piControl_r1i1p1f1_gr_230101-230112.nc|esgf-data3.ceda.ac.uk', 'CMIP6.CMIP.EC-Earth-Consortium.EC-Earth3-Veg-LR.piControl.r1i1p1f1.Amon.rsds.gr.v20200213.rsds_Amon_EC-Earth3-Veg-LR_piControl_r1i1p1f1_gr_230201-230212.nc|esgf-data3.ceda.ac.uk', 'CMIP6.CMIP.EC-Earth-Consortium.EC-Earth3-Veg-LR.piControl.r1i1p1f1.Amon.rsds.gr.v20200213.rsds_Amon_EC-Earth3-Veg-LR_piControl_r1i1p1f1_gr_230301-230312.nc|esgf-data3.ceda.ac.uk', 'CMIP6.CMIP.EC-Earth-Consortium.EC-Earth3-Veg-LR.piControl.r1i1p1f1.Amon.rsds.gr.v20200213.rsds_Amon_EC-Earth3-Veg-LR_piControl_r1i1p1f1_gr_230401-230412.nc|esgf-data3.ceda.ac.uk', 'CMIP6.CMIP.EC-Earth-Consortium.EC-Earth3-Veg-LR.piControl.r1i1p1f1.Amon.rsds.gr.v20200213.rsds_Amon_EC-Earth3-Veg-LR_piControl_r1i1p1f1_gr_230501-230512.nc|esgf-data3.ceda.ac.uk', 'CMIP6.CMIP.EC-Earth-Consortium.EC-Earth3-Veg-LR.piControl.r1i1p1f1.Amon.rsds.gr.v20200213.rsds_Amon_EC-Earth3-Veg-LR_piControl_r1i1p1f1_gr_230601-230612.nc|esgf-data3.ceda.ac.uk', 'CMIP6.CMIP.EC-Earth-Consortium.EC-Earth3-Veg-LR.piControl.r1i1p1f1.Amon.rsds.gr.v20200213.rsds_Amon_EC-Earth3-Veg-LR_piControl_r1i1p1f1_gr_230701-230712.nc|esgf-data3.ceda.ac.uk', 'CMIP6.CMIP.EC-Earth-Consortium.EC-Earth3-Veg-LR.piControl.r1i1p1f1.Amon.rsds.gr.v20200213.rsds_Amon_EC-Earth3-Veg-LR_piControl_r1i1p1f1_gr_230801-230812.nc|esgf-data3.ceda.ac.uk', 'CMIP6.CMIP.EC-Earth-Consortium.EC-Earth3-Veg-LR.piControl.r1i1p1f1.Amon.rsds.gr.v20200213.rsds_Amon_EC-Earth3-Veg-LR_piControl_r1i1p1f1_gr_230901-230912.nc|esgf-data3.ceda.ac.uk', 'CMIP6.CMIP.EC-Earth-Consortium.EC-Earth3-Veg-LR.piControl.r1i1p1f1.Amon.rsds.gr.v20200213.rsds_Amon_EC-Earth3-Veg-LR_piControl_r1i1p1f1_gr_231001-231012.nc|esgf-data3.ceda.ac.uk', 'CMIP6.CMIP.EC-Earth-Consortium.EC-Earth3-Veg-LR.piControl.r1i1p1f1.Amon.rsds.gr.v20200213.rsds_Amon_EC-Earth3-Veg-LR_piControl_r1i1p1f1_gr_231101-231112.nc|esgf-data3.ceda.ac.uk', 'CMIP6.CMIP.EC-Earth-Consortium.EC-Earth3-Veg-LR.piControl.r1i1p1f1.Amon.rsds.gr.v20200213.rsds_Amon_EC-Earth3-Veg-LR_piControl_r1i1p1f1_gr_231201-231212.nc|esgf-data3.ceda.ac.uk', 'CMIP6.CMIP.EC-Earth-Consortium.EC-Earth3-Veg-LR.piControl.r1i1p1f1.Amon.rsds.gr.v20200213.rsds_Amon_EC-Earth3-Veg-LR_piControl_r1i1p1f1_gr_231301-231312.nc|esgf-data3.ceda.ac.uk', 'CMIP6.CMIP.EC-Earth-Consortium.EC-Earth3-Veg-LR.piControl.r1i1p1f1.Amon.rsds.gr.v20200213.rsds_Amon_EC-Earth3-Veg-LR_piControl_r1i1p1f1_gr_231401-231412.nc|esgf-data3.ceda.ac.uk', 'CMIP6.CMIP.EC-Earth-Consortium.EC-Earth3-Veg-LR.piControl.r1i1p1f1.Amon.rsds.gr.v20200213.rsds_Amon_EC-Earth3-Veg-LR_piControl_r1i1p1f1_gr_231501-231512.nc|esgf-data3.ceda.ac.uk', 'CMIP6.CMIP.EC-Earth-Consortium.EC-Earth3-Veg-LR.piControl.r1i1p1f1.Amon.rsds.gr.v20200213.rsds_Amon_EC-Earth3-Veg-LR_piControl_r1i1p1f1_gr_231601-231612.nc|esgf-data3.ceda.ac.uk', 'CMIP6.CMIP.EC-Earth-Consortium.EC-Earth3-Veg-LR.piControl.r1i1p1f1.Amon.rsds.gr.v20200213.rsds_Amon_EC-Earth3-Veg-LR_piControl_r1i1p1f1_gr_231701-231712.nc|esgf-data3.ceda.ac.uk', 'CMIP6.CMIP.EC-Earth-Consortium.EC-Earth3-Veg-LR.piControl.r1i1p1f1.Amon.rsds.gr.v20200213.rsds_Amon_EC-Earth3-Veg-LR_piControl_r1i1p1f1_gr_231801-231812.nc|esgf-data3.ceda.ac.uk', 'CMIP6.CMIP.EC-Earth-Consortium.EC-Earth3-Veg-LR.piControl.r1i1p1f1.Amon.rsds.gr.v20200213.rsds_Amon_EC-Earth3-Veg-LR_piControl_r1i1p1f1_gr_231901-231912.nc|esgf-data3.ceda.ac.uk', 'CMIP6.CMIP.EC-Earth-Consortium.EC-Earth3-Veg-LR.piControl.r1i1p1f1.Amon.rsds.gr.v20200213.rsds_Amon_EC-Earth3-Veg-LR_piControl_r1i1p1f1_gr_232001-232012.nc|esgf-data3.ceda.ac.uk', 'CMIP6.CMIP.EC-Earth-Consortium.EC-Earth3-Veg-LR.piControl.r1i1p1f1.Amon.rsds.gr.v20200213.rsds_Amon_EC-Earth3-Veg-LR_piControl_r1i1p1f1_gr_232101-232112.nc|esgf-data3.ceda.ac.uk', 'CMIP6.CMIP.EC-Earth-Consortium.EC-Earth3-Veg-LR.piControl.r1i1p1f1.Amon.rsds.gr.v20200213.rsds_Amon_EC-Earth3-Veg-LR_piControl_r1i1p1f1_gr_232201-232212.nc|esgf-data3.ceda.ac.uk', 'CMIP6.CMIP.EC-Earth-Consortium.EC-Earth3-Veg-LR.piControl.r1i1p1f1.Amon.rsds.gr.v20200213.rsds_Amon_EC-Earth3-Veg-LR_piControl_r1i1p1f1_gr_232301-232312.nc|esgf-data3.ceda.ac.uk', 'CMIP6.CMIP.EC-Earth-Consortium.EC-Earth3-Veg-LR.piControl.r1i1p1f1.Amon.rsds.gr.v20200213.rsds_Amon_EC-Earth3-Veg-LR_piControl_r1i1p1f1_gr_232401-232412.nc|esgf-data3.ceda.ac.uk', 'CMIP6.CMIP.EC-Earth-Consortium.EC-Earth3-Veg-LR.piControl.r1i1p1f1.Amon.rsds.gr.v20200213.rsds_Amon_EC-Earth3-Veg-LR_piControl_r1i1p1f1_gr_232501-232512.nc|esgf-data3.ceda.ac.uk', 'CMIP6.CMIP.EC-Earth-Consortium.EC-Earth3-Veg-LR.piControl.r1i1p1f1.Amon.rsds.gr.v20200213.rsds_Amon_EC-Earth3-Veg-LR_piControl_r1i1p1f1_gr_232601-232612.nc|esgf-data3.ceda.ac.uk', 'CMIP6.CMIP.EC-Earth-Consortium.EC-Earth3-Veg-LR.piControl.r1i1p1f1.Amon.rsds.gr.v20200213.rsds_Amon_EC-Earth3-Veg-LR_piControl_r1i1p1f1_gr_232701-232712.nc|esgf-data3.ceda.ac.uk', 'CMIP6.CMIP.EC-Earth-Consortium.EC-Earth3-Veg-LR.piControl.r1i1p1f1.Amon.rsds.gr.v20200213.rsds_Amon_EC-Earth3-Veg-LR_piControl_r1i1p1f1_gr_232801-232812.nc|esgf-data3.ceda.ac.uk', 'CMIP6.CMIP.EC-Earth-Consortium.EC-Earth3-Veg-LR.piControl.r1i1p1f1.Amon.rsds.gr.v20200213.rsds_Amon_EC-Earth3-Veg-LR_piControl_r1i1p1f1_gr_232901-232912.nc|esgf-data3.ceda.ac.uk', 'CMIP6.CMIP.EC-Earth-Consortium.EC-Earth3-Veg-LR.piControl.r1i1p1f1.Amon.rsds.gr.v20200213.rsds_Amon_EC-Earth3-Veg-LR_piControl_r1i1p1f1_gr_233001-233012.nc|esgf-data3.ceda.ac.uk', 'CMIP6.CMIP.EC-Earth-Consortium.EC-Earth3-Veg-LR.piControl.r1i1p1f1.Amon.rsds.gr.v20200213.rsds_Amon_EC-Earth3-Veg-LR_piControl_r1i1p1f1_gr_233101-233112.nc|esgf-data3.ceda.ac.uk', 'CMIP6.CMIP.EC-Earth-Consortium.EC-Earth3-Veg-LR.piControl.r1i1p1f1.Amon.rsds.gr.v20200213.rsds_Amon_EC-Earth3-Veg-LR_piControl_r1i1p1f1_gr_233201-233212.nc|esgf-data3.ceda.ac.uk', 'CMIP6.CMIP.EC-Earth-Consortium.EC-Earth3-Veg-LR.piControl.r1i1p1f1.Amon.rsds.gr.v20200213.rsds_Amon_EC-Earth3-Veg-LR_piControl_r1i1p1f1_gr_233301-233312.nc|esgf-data3.ceda.ac.uk', 'CMIP6.CMIP.EC-Earth-Consortium.EC-Earth3-Veg-LR.piControl.r1i1p1f1.Amon.rsds.gr.v20200213.rsds_Amon_EC-Earth3-Veg-LR_piControl_r1i1p1f1_gr_233401-233412.nc|esgf-data3.ceda.ac.uk', 'CMIP6.CMIP.EC-Earth-Consortium.EC-Earth3-Veg-LR.piControl.r1i1p1f1.Amon.rsds.gr.v20200213.rsds_Amon_EC-Earth3-Veg-LR_piControl_r1i1p1f1_gr_233501-233512.nc|esgf-data3.ceda.ac.uk', 'CMIP6.CMIP.EC-Earth-Consortium.EC-Earth3-Veg-LR.piControl.r1i1p1f1.Amon.rsds.gr.v20200213.rsds_Amon_EC-Earth3-Veg-LR_piControl_r1i1p1f1_gr_233601-233612.nc|esgf-data3.ceda.ac.uk', 'CMIP6.CMIP.EC-Earth-Consortium.EC-Earth3-Veg-LR.piControl.r1i1p1f1.Amon.rsds.gr.v20200213.rsds_Amon_EC-Earth3-Veg-LR_piControl_r1i1p1f1_gr_233701-233712.nc|esgf-data3.ceda.ac.uk', 'CMIP6.CMIP.EC-Earth-Consortium.EC-Earth3-Veg-LR.piControl.r1i1p1f1.Amon.rsds.gr.v20200213.rsds_Amon_EC-Earth3-Veg-LR_piControl_r1i1p1f1_gr_233801-233812.nc|esgf-data3.ceda.ac.uk', 'CMIP6.CMIP.EC-Earth-Consortium.EC-Earth3-Veg-LR.piControl.r1i1p1f1.Amon.rsds.gr.v20200213.rsds_Amon_EC-Earth3-Veg-LR_piControl_r1i1p1f1_gr_233901-233912.nc|esgf-data3.ceda.ac.uk', 'CMIP6.CMIP.EC-Earth-Consortium.EC-Earth3-Veg-LR.piControl.r1i1p1f1.Amon.rsds.gr.v20200213.rsds_Amon_EC-Earth3-Veg-LR_piControl_r1i1p1f1_gr_234001-234012.nc|esgf-data3.ceda.ac.uk', 'CMIP6.CMIP.EC-Earth-Consortium.EC-Earth3-Veg-LR.piControl.r1i1p1f1.Amon.rsds.gr.v20200213.rsds_Amon_EC-Earth3-Veg-LR_piControl_r1i1p1f1_gr_234101-234112.nc|esgf-data3.ceda.ac.uk', 'CMIP6.CMIP.EC-Earth-Consortium.EC-Earth3-Veg-LR.piControl.r1i1p1f1.Amon.rsds.gr.v20200213.rsds_Amon_EC-Earth3-Veg-LR_piControl_r1i1p1f1_gr_234201-234212.nc|esgf-data3.ceda.ac.uk', 'CMIP6.CMIP.EC-Earth-Consortium.EC-Earth3-Veg-LR.piControl.r1i1p1f1.Amon.rsds.gr.v20200213.rsds_Amon_EC-Earth3-Veg-LR_piControl_r1i1p1f1_gr_234301-234312.nc|esgf-data3.ceda.ac.uk', 'CMIP6.CMIP.EC-Earth-Consortium.EC-Earth3-Veg-LR.piControl.r1i1p1f1.Amon.rsds.gr.v20200213.rsds_Amon_EC-Earth3-Veg-LR_piControl_r1i1p1f1_gr_234401-234412.nc|esgf-data3.ceda.ac.uk', 'CMIP6.CMIP.EC-Earth-Consortium.EC-Earth3-Veg-LR.piControl.r1i1p1f1.Amon.rsds.gr.v20200213.rsds_Amon_EC-Earth3-Veg-LR_piControl_r1i1p1f1_gr_234501-234512.nc|esgf-data3.ceda.ac.uk', 'CMIP6.CMIP.EC-Earth-Consortium.EC-Earth3-Veg-LR.piControl.r1i1p1f1.Amon.rsds.gr.v20200213.rsds_Amon_EC-Earth3-Veg-LR_piControl_r1i1p1f1_gr_234601-234612.nc|esgf-data3.ceda.ac.uk', 'CMIP6.CMIP.EC-Earth-Consortium.EC-Earth3-Veg-LR.piControl.r1i1p1f1.Amon.rsds.gr.v20200213.rsds_Amon_EC-Earth3-Veg-LR_piControl_r1i1p1f1_gr_234701-234712.nc|esgf-data3.ceda.ac.uk', 'CMIP6.CMIP.EC-Earth-Consortium.EC-Earth3-Veg-LR.piControl.r1i1p1f1.Amon.rsds.gr.v20200213.rsds_Amon_EC-Earth3-Veg-LR_piControl_r1i1p1f1_gr_234801-234812.nc|esgf-data3.ceda.ac.uk', 'CMIP6.CMIP.EC-Earth-Consortium.EC-Earth3-Veg-LR.piControl.r1i1p1f1.Amon.rsds.gr.v20200213.rsds_Amon_EC-Earth3-Veg-LR_piControl_r1i1p1f1_gr_234901-234912.nc|esgf-data3.ceda.ac.uk', 'CMIP6.CMIP.EC-Earth-Consortium.EC-Earth3-Veg-LR.piControl.r1i1p1f1.Amon.rsds.gr.v20200213.rsds_Amon_EC-Earth3-Veg-LR_piControl_r1i1p1f1_gr_235001-235012.nc|esgf-data3.ceda.ac.uk', 'CMIP6.CMIP.EC-Earth-Consortium.EC-Earth3-Veg-LR.piControl.r1i1p1f1.Amon.rsds.gr.v20200213.rsds_Amon_EC-Earth3-Veg-LR_piControl_r1i1p1f1_gr_235101-235112.nc|esgf-data3.ceda.ac.uk', 'CMIP6.CMIP.EC-Earth-Consortium.EC-Earth3-Veg-LR.piControl.r1i1p1f1.Amon.rsds.gr.v20200213.rsds_Amon_EC-Earth3-Veg-LR_piControl_r1i1p1f1_gr_235201-235212.nc|esgf-data3.ceda.ac.uk', 'CMIP6.CMIP.EC-Earth-Consortium.EC-Earth3-Veg-LR.piControl.r1i1p1f1.Amon.rsds.gr.v20200213.rsds_Amon_EC-Earth3-Veg-LR_piControl_r1i1p1f1_gr_235301-235312.nc|esgf-data3.ceda.ac.uk', 'CMIP6.CMIP.EC-Earth-Consortium.EC-Earth3-Veg-LR.piControl.r1i1p1f1.Amon.rsds.gr.v20200213.rsds_Amon_EC-Earth3-Veg-LR_piControl_r1i1p1f1_gr_235401-235412.nc|esgf-data3.ceda.ac.uk', 'CMIP6.CMIP.EC-Earth-Consortium.EC-Earth3-Veg-LR.piControl.r1i1p1f1.Amon.rsds.gr.v20200213.rsds_Amon_EC-Earth3-Veg-LR_piControl_r1i1p1f1_gr_235501-235512.nc|esgf-data3.ceda.ac.uk', 'CMIP6.CMIP.EC-Earth-Consortium.EC-Earth3-Veg-LR.piControl.r1i1p1f1.Amon.rsds.gr.v20200213.rsds_Amon_EC-Earth3-Veg-LR_piControl_r1i1p1f1_gr_235601-235612.nc|esgf-data3.ceda.ac.uk', 'CMIP6.CMIP.EC-Earth-Consortium.EC-Earth3-Veg-LR.piControl.r1i1p1f1.Amon.rsds.gr.v20200213.rsds_Amon_EC-Earth3-Veg-LR_piControl_r1i1p1f1_gr_235701-235712.nc|esgf-data3.ceda.ac.uk', 'CMIP6.CMIP.EC-Earth-Consortium.EC-Earth3-Veg-LR.piControl.r1i1p1f1.Amon.rsds.gr.v20200213.rsds_Amon_EC-Earth3-Veg-LR_piControl_r1i1p1f1_gr_235801-235812.nc|esgf-data3.ceda.ac.uk', 'CMIP6.CMIP.EC-Earth-Consortium.EC-Earth3-Veg-LR.piControl.r1i1p1f1.Amon.rsds.gr.v20200213.rsds_Amon_EC-Earth3-Veg-LR_piControl_r1i1p1f1_gr_235901-235912.nc|esgf-data3.ceda.ac.uk', 'CMIP6.CMIP.EC-Earth-Consortium.EC-Earth3-Veg-LR.piControl.r1i1p1f1.Amon.rsds.gr.v20200213.rsds_Amon_EC-Earth3-Veg-LR_piControl_r1i1p1f1_gr_236001-236012.nc|esgf-data3.ceda.ac.uk', 'CMIP6.CMIP.EC-Earth-Consortium.EC-Earth3-Veg-LR.piControl.r1i1p1f1.Amon.rsds.gr.v20200213.rsds_Amon_EC-Earth3-Veg-LR_piControl_r1i1p1f1_gr_236101-236112.nc|esgf-data3.ceda.ac.uk', 'CMIP6.CMIP.EC-Earth-Consortium.EC-Earth3-Veg-LR.piControl.r1i1p1f1.Amon.rsds.gr.v20200213.rsds_Amon_EC-Earth3-Veg-LR_piControl_r1i1p1f1_gr_236201-236212.nc|esgf-data3.ceda.ac.uk', 'CMIP6.CMIP.EC-Earth-Consortium.EC-Earth3-Veg-LR.piControl.r1i1p1f1.Amon.rsds.gr.v20200213.rsds_Amon_EC-Earth3-Veg-LR_piControl_r1i1p1f1_gr_236301-236312.nc|esgf-data3.ceda.ac.uk', 'CMIP6.CMIP.EC-Earth-Consortium.EC-Earth3-Veg-LR.piControl.r1i1p1f1.Amon.rsds.gr.v20200213.rsds_Amon_EC-Earth3-Veg-LR_piControl_r1i1p1f1_gr_236401-236412.nc|esgf-data3.ceda.ac.uk', 'CMIP6.CMIP.EC-Earth-Consortium.EC-Earth3-Veg-LR.piControl.r1i1p1f1.Amon.rsds.gr.v20200213.rsds_Amon_EC-Earth3-Veg-LR_piControl_r1i1p1f1_gr_236501-236512.nc|esgf-data3.ceda.ac.uk', 'CMIP6.CMIP.EC-Earth-Consortium.EC-Earth3-Veg-LR.piControl.r1i1p1f1.Amon.rsds.gr.v20200213.rsds_Amon_EC-Earth3-Veg-LR_piControl_r1i1p1f1_gr_236601-236612.nc|esgf-data3.ceda.ac.uk', 'CMIP6.CMIP.EC-Earth-Consortium.EC-Earth3-Veg-LR.piControl.r1i1p1f1.Amon.rsds.gr.v20200213.rsds_Amon_EC-Earth3-Veg-LR_piControl_r1i1p1f1_gr_236701-236712.nc|esgf-data3.ceda.ac.uk', 'CMIP6.CMIP.EC-Earth-Consortium.EC-Earth3-Veg-LR.piControl.r1i1p1f1.Amon.rsds.gr.v20200213.rsds_Amon_EC-Earth3-Veg-LR_piControl_r1i1p1f1_gr_236801-236812.nc|esgf-data3.ceda.ac.uk', 'CMIP6.CMIP.EC-Earth-Consortium.EC-Earth3-Veg-LR.piControl.r1i1p1f1.Amon.rsds.gr.v20200213.rsds_Amon_EC-Earth3-Veg-LR_piControl_r1i1p1f1_gr_236901-236912.nc|esgf-data3.ceda.ac.uk', 'CMIP6.CMIP.EC-Earth-Consortium.EC-Earth3-Veg-LR.piControl.r1i1p1f1.Amon.rsds.gr.v20200213.rsds_Amon_EC-Earth3-Veg-LR_piControl_r1i1p1f1_gr_237001-237012.nc|esgf-data3.ceda.ac.uk', 'CMIP6.CMIP.EC-Earth-Consortium.EC-Earth3-Veg-LR.piControl.r1i1p1f1.Amon.rsds.gr.v20200213.rsds_Amon_EC-Earth3-Veg-LR_piControl_r1i1p1f1_gr_237101-237112.nc|esgf-data3.ceda.ac.uk', 'CMIP6.CMIP.EC-Earth-Consortium.EC-Earth3-Veg-LR.piControl.r1i1p1f1.Amon.rsds.gr.v20200213.rsds_Amon_EC-Earth3-Veg-LR_piControl_r1i1p1f1_gr_237201-237212.nc|esgf-data3.ceda.ac.uk', 'CMIP6.CMIP.EC-Earth-Consortium.EC-Earth3-Veg-LR.piControl.r1i1p1f1.Amon.rsds.gr.v20200213.rsds_Amon_EC-Earth3-Veg-LR_piControl_r1i1p1f1_gr_237301-237312.nc|esgf-data3.ceda.ac.uk', 'CMIP6.CMIP.EC-Earth-Consortium.EC-Earth3-Veg-LR.piControl.r1i1p1f1.Amon.rsds.gr.v20200213.rsds_Amon_EC-Earth3-Veg-LR_piControl_r1i1p1f1_gr_237401-237412.nc|esgf-data3.ceda.ac.uk', 'CMIP6.CMIP.EC-Earth-Consortium.EC-Earth3-Veg-LR.piControl.r1i1p1f1.Amon.rsds.gr.v20200213.rsds_Amon_EC-Earth3-Veg-LR_piControl_r1i1p1f1_gr_237501-237512.nc|esgf-data3.ceda.ac.uk', 'CMIP6.CMIP.EC-Earth-Consortium.EC-Earth3-Veg-LR.piControl.r1i1p1f1.Amon.rsds.gr.v20200213.rsds_Amon_EC-Earth3-Veg-LR_piControl_r1i1p1f1_gr_237601-237612.nc|esgf-data3.ceda.ac.uk', 'CMIP6.CMIP.EC-Earth-Consortium.EC-Earth3-Veg-LR.piControl.r1i1p1f1.Amon.rsds.gr.v20200213.rsds_Amon_EC-Earth3-Veg-LR_piControl_r1i1p1f1_gr_237701-237712.nc|esgf-data3.ceda.ac.uk', 'CMIP6.CMIP.EC-Earth-Consortium.EC-Earth3-Veg-LR.piControl.r1i1p1f1.Amon.rsds.gr.v20200213.rsds_Amon_EC-Earth3-Veg-LR_piControl_r1i1p1f1_gr_237801-237812.nc|esgf-data3.ceda.ac.uk', 'CMIP6.CMIP.EC-Earth-Consortium.EC-Earth3-Veg-LR.piControl.r1i1p1f1.Amon.rsds.gr.v20200213.rsds_Amon_EC-Earth3-Veg-LR_piControl_r1i1p1f1_gr_237901-237912.nc|esgf-data3.ceda.ac.uk', 'CMIP6.CMIP.EC-Earth-Consortium.EC-Earth3-Veg-LR.piControl.r1i1p1f1.Amon.rsds.gr.v20200213.rsds_Amon_EC-Earth3-Veg-LR_piControl_r1i1p1f1_gr_238001-238012.nc|esgf-data3.ceda.ac.uk', 'CMIP6.CMIP.EC-Earth-Consortium.EC-Earth3-Veg-LR.piControl.r1i1p1f1.Amon.rsds.gr.v20200213.rsds_Amon_EC-Earth3-Veg-LR_piControl_r1i1p1f1_gr_238101-238112.nc|esgf-data3.ceda.ac.uk', 'CMIP6.CMIP.EC-Earth-Consortium.EC-Earth3-Veg-LR.piControl.r1i1p1f1.Amon.rsds.gr.v20200213.rsds_Amon_EC-Earth3-Veg-LR_piControl_r1i1p1f1_gr_238201-238212.nc|esgf-data3.ceda.ac.uk', 'CMIP6.CMIP.EC-Earth-Consortium.EC-Earth3-Veg-LR.piControl.r1i1p1f1.Amon.rsds.gr.v20200213.rsds_Amon_EC-Earth3-Veg-LR_piControl_r1i1p1f1_gr_238301-238312.nc|esgf-data3.ceda.ac.uk', 'CMIP6.CMIP.EC-Earth-Consortium.EC-Earth3-Veg-LR.piControl.r1i1p1f1.Amon.rsds.gr.v20200213.rsds_Amon_EC-Earth3-Veg-LR_piControl_r1i1p1f1_gr_238401-238412.nc|esgf-data3.ceda.ac.uk', 'CMIP6.CMIP.EC-Earth-Consortium.EC-Earth3-Veg-LR.piControl.r1i1p1f1.Amon.rsds.gr.v20200213.rsds_Amon_EC-Earth3-Veg-LR_piControl_r1i1p1f1_gr_238501-238512.nc|esgf-data3.ceda.ac.uk', 'CMIP6.CMIP.EC-Earth-Consortium.EC-Earth3-Veg-LR.piControl.r1i1p1f1.Amon.rsds.gr.v20200213.rsds_Amon_EC-Earth3-Veg-LR_piControl_r1i1p1f1_gr_238601-238612.nc|esgf-data3.ceda.ac.uk', 'CMIP6.CMIP.EC-Earth-Consortium.EC-Earth3-Veg-LR.piControl.r1i1p1f1.Amon.rsds.gr.v20200213.rsds_Amon_EC-Earth3-Veg-LR_piControl_r1i1p1f1_gr_238701-238712.nc|esgf-data3.ceda.ac.uk', 'CMIP6.CMIP.EC-Earth-Consortium.EC-Earth3-Veg-LR.piControl.r1i1p1f1.Amon.rsds.gr.v20200213.rsds_Amon_EC-Earth3-Veg-LR_piControl_r1i1p1f1_gr_238801-238812.nc|esgf-data3.ceda.ac.uk', 'CMIP6.CMIP.EC-Earth-Consortium.EC-Earth3-Veg-LR.piControl.r1i1p1f1.Amon.rsds.gr.v20200213.rsds_Amon_EC-Earth3-Veg-LR_piControl_r1i1p1f1_gr_238901-238912.nc|esgf-data3.ceda.ac.uk', 'CMIP6.CMIP.EC-Earth-Consortium.EC-Earth3-Veg-LR.piControl.r1i1p1f1.Amon.rsds.gr.v20200213.rsds_Amon_EC-Earth3-Veg-LR_piControl_r1i1p1f1_gr_239001-239012.nc|esgf-data3.ceda.ac.uk', 'CMIP6.CMIP.EC-Earth-Consortium.EC-Earth3-Veg-LR.piControl.r1i1p1f1.Amon.rsds.gr.v20200213.rsds_Amon_EC-Earth3-Veg-LR_piControl_r1i1p1f1_gr_239101-239112.nc|esgf-data3.ceda.ac.uk', 'CMIP6.CMIP.EC-Earth-Consortium.EC-Earth3-Veg-LR.piControl.r1i1p1f1.Amon.rsds.gr.v20200213.rsds_Amon_EC-Earth3-Veg-LR_piControl_r1i1p1f1_gr_239201-239212.nc|esgf-data3.ceda.ac.uk', 'CMIP6.CMIP.EC-Earth-Consortium.EC-Earth3-Veg-LR.piControl.r1i1p1f1.Amon.rsds.gr.v20200213.rsds_Amon_EC-Earth3-Veg-LR_piControl_r1i1p1f1_gr_239301-239312.nc|esgf-data3.ceda.ac.uk', 'CMIP6.CMIP.EC-Earth-Consortium.EC-Earth3-Veg-LR.piControl.r1i1p1f1.Amon.rsds.gr.v20200213.rsds_Amon_EC-Earth3-Veg-LR_piControl_r1i1p1f1_gr_239401-239412.nc|esgf-data3.ceda.ac.uk', 'CMIP6.CMIP.EC-Earth-Consortium.EC-Earth3-Veg-LR.piControl.r1i1p1f1.Amon.rsds.gr.v20200213.rsds_Amon_EC-Earth3-Veg-LR_piControl_r1i1p1f1_gr_239501-239512.nc|esgf-data3.ceda.ac.uk', 'CMIP6.CMIP.EC-Earth-Consortium.EC-Earth3-Veg-LR.piControl.r1i1p1f1.Amon.rsds.gr.v20200213.rsds_Amon_EC-Earth3-Veg-LR_piControl_r1i1p1f1_gr_239601-239612.nc|esgf-data3.ceda.ac.uk', 'CMIP6.CMIP.EC-Earth-Consortium.EC-Earth3-Veg-LR.piControl.r1i1p1f1.Amon.rsds.gr.v20200213.rsds_Amon_EC-Earth3-Veg-LR_piControl_r1i1p1f1_gr_239701-239712.nc|esgf-data3.ceda.ac.uk', 'CMIP6.CMIP.EC-Earth-Consortium.EC-Earth3-Veg-LR.piControl.r1i1p1f1.Amon.rsds.gr.v20200213.rsds_Amon_EC-Earth3-Veg-LR_piControl_r1i1p1f1_gr_239801-239812.nc|esgf-data3.ceda.ac.uk', 'CMIP6.CMIP.EC-Earth-Consortium.EC-Earth3-Veg-LR.piControl.r1i1p1f1.Amon.rsds.gr.v20200213.rsds_Amon_EC-Earth3-Veg-LR_piControl_r1i1p1f1_gr_239901-239912.nc|esgf-data3.ceda.ac.uk'] </td></tr>\n                    \n                        <tr><td style=\"text-align: left;\"><strong>institution_id:</strong> ['EC-Earth-Consortium'] </td></tr>\n                    \n                        <tr><td style=\"text-align: left;\"><strong>frequency:</strong> ['mon'] </td></tr>\n                    \n                        <tr><td style=\"text-align: left;\"><strong>source_type:</strong> ['AOGCM'] </td></tr>\n                    \n                        <tr><td style=\"text-align: left;\"><strong>table_id:</strong> ['Amon'] </td></tr>\n                    \n                        <tr><td style=\"text-align: left;\"><strong>variable_id:</strong> ['rsds'] </td></tr>\n                    \n                        <tr><td style=\"text-align: left;\"><strong>grid_label:</strong> ['gr'] </td></tr>\n                    \n                        <tr><td style=\"text-align: left;\"><strong>pid:</strong> ['hdl:21.14100/553f359a-addb-3907-8683-07485f6febe4'] </td></tr>\n                    \n                        <tr><td style=\"text-align: left;\"><strong>sub_experiment_id:</strong> ['none'] </td></tr>\n                    \n                        <tr><td style=\"text-align: left;\"><strong>member_id:</strong> ['r1i1p1f1'] </td></tr>\n                    \n                        <tr><td style=\"text-align: left;\"><strong>citation_url:</strong> ['http://cera-www.dkrz.de/WDCC/meta/CMIP6/CMIP6.CMIP.EC-Earth-Consortium.EC-Earth3-Veg-LR.piControl.r1i1p1f1.Amon.rsds.gr.v20200213.json'] </td></tr>\n                    \n                        <tr><td style=\"text-align: left;\"><strong>start_datetime:</strong> 2300-01-01T00:00:00.000Z </td></tr>\n                    \n                        <tr><td style=\"text-align: left;\"><strong>end_datetime:</strong> 2800-12-01T00:00:00.000Z </td></tr>\n                    \n                \n                \n        \n            <tr><td style=\"text-align: left;\"><strong>stac_extensions:</strong> [] </td></tr>\n        \n    \n            </table>\n            \n            \n            \n        <details>\n            <summary style=\"margin-bottom: 10px; margin-top: 10px\">\n                <h4 style=\"margin-bottom: 0px; display: inline;\">Links</h4>\n            </summary>\n            \n                \n\n<div class=\"jp-RenderedHTMLCommon jp-RenderedHTML jp-mod-trusted jp-OutputArea-output\">\n    <div style=\"\n        width: 24px;\n        height: 24px;\n        background-color: #FFF7E5;\n        border: 3px solid #FF6132;\n        border-radius: 5px;\n        position: absolute;\">\n    </div>\n    <div style=\"margin-left: 48px;\">\n        <h4 style=\"margin-bottom: 0px;\">Link: </h4>\n        \n        <table style=\"width: 100%; text-align: left;\">\n            <tr><td style=\"text-align: left;\"><strong>Rel:</strong> self </td></tr>\n            <tr><td style=\"text-align: left;\"><strong>Target:</strong> https://api.stac.ceda.ac.uk/collections/cmip6/items/c2d94dd296525cc105cfa657b6b559c0 </td></tr>\n            \n                <tr><td style=\"text-align: left;\"><strong>Media Type:</strong> application/geo+json </td></tr>\n            \n            \n        </table>\n        \n    </div>\n</div>\n            \n                \n\n<div class=\"jp-RenderedHTMLCommon jp-RenderedHTML jp-mod-trusted jp-OutputArea-output\">\n    <div style=\"\n        width: 24px;\n        height: 24px;\n        background-color: #FFF7E5;\n        border: 3px solid #FF6132;\n        border-radius: 5px;\n        position: absolute;\">\n    </div>\n    <div style=\"margin-left: 48px;\">\n        <h4 style=\"margin-bottom: 0px;\">Link: </h4>\n        \n        <table style=\"width: 100%; text-align: left;\">\n            <tr><td style=\"text-align: left;\"><strong>Rel:</strong> parent </td></tr>\n            <tr><td style=\"text-align: left;\"><strong>Target:</strong> https://api.stac.ceda.ac.uk/collections/cmip6 </td></tr>\n            \n                <tr><td style=\"text-align: left;\"><strong>Media Type:</strong> application/json </td></tr>\n            \n            \n        </table>\n        \n    </div>\n</div>\n            \n                \n\n<div class=\"jp-RenderedHTMLCommon jp-RenderedHTML jp-mod-trusted jp-OutputArea-output\">\n    <div style=\"\n        width: 24px;\n        height: 24px;\n        background-color: #FFF7E5;\n        border: 3px solid #FF6132;\n        border-radius: 5px;\n        position: absolute;\">\n    </div>\n    <div style=\"margin-left: 48px;\">\n        <h4 style=\"margin-bottom: 0px;\">Link: </h4>\n        \n        <table style=\"width: 100%; text-align: left;\">\n            <tr><td style=\"text-align: left;\"><strong>Rel:</strong> collection </td></tr>\n            <tr><td style=\"text-align: left;\"><strong>Target:</strong> https://api.stac.ceda.ac.uk/collections/cmip6 </td></tr>\n            \n                <tr><td style=\"text-align: left;\"><strong>Media Type:</strong> application/json </td></tr>\n            \n            \n        </table>\n        \n    </div>\n</div>\n            \n                \n\n<div class=\"jp-RenderedHTMLCommon jp-RenderedHTML jp-mod-trusted jp-OutputArea-output\">\n    <div style=\"\n        width: 24px;\n        height: 24px;\n        background-color: #FFF7E5;\n        border: 3px solid #FF6132;\n        border-radius: 5px;\n        position: absolute;\">\n    </div>\n    <div style=\"margin-left: 48px;\">\n        <h4 style=\"margin-bottom: 0px;\">Link: </h4>\n        \n            <p style=\"color: #9D9D9D; margin-bottom: 0px;\">CEDA STAC API</p>\n        \n        <table style=\"width: 100%; text-align: left;\">\n            <tr><td style=\"text-align: left;\"><strong>Rel:</strong> root </td></tr>\n            <tr><td style=\"text-align: left;\"><strong>Target:</strong> <Client id=stac-fastapi> </td></tr>\n            \n                <tr><td style=\"text-align: left;\"><strong>Media Type:</strong> application/json </td></tr>\n            \n            \n        </table>\n        \n    </div>\n</div>\n            \n                \n\n<div class=\"jp-RenderedHTMLCommon jp-RenderedHTML jp-mod-trusted jp-OutputArea-output\">\n    <div style=\"\n        width: 24px;\n        height: 24px;\n        background-color: #FFF7E5;\n        border: 3px solid #FF6132;\n        border-radius: 5px;\n        position: absolute;\">\n    </div>\n    <div style=\"margin-left: 48px;\">\n        <h4 style=\"margin-bottom: 0px;\">Link: </h4>\n        \n        <table style=\"width: 100%; text-align: left;\">\n            <tr><td style=\"text-align: left;\"><strong>Rel:</strong> assets </td></tr>\n            <tr><td style=\"text-align: left;\"><strong>Target:</strong> https://api.stac.ceda.ac.uk/collections/cmip6/items/c2d94dd296525cc105cfa657b6b559c0/assets </td></tr>\n            \n                <tr><td style=\"text-align: left;\"><strong>Media Type:</strong> application/json </td></tr>\n            \n            \n        </table>\n        \n    </div>\n</div>\n            \n        </details>\n    \n        </details>\n    </div>\n</div>"
     },
     "execution_count": 6,
     "metadata": {},
     "output_type": "execute_result"
    }
   ],
   "source": [
    "collections = api.get_collections()\n",
    "collection: Collection = next(collections)\n",
    "\n",
    "items = api.search(collections=collection.id, max_items=1).get_items()\n",
    "item = next(items)\n",
    "\n",
    "item"
   ],
   "metadata": {
    "collapsed": false,
    "pycharm": {
     "name": "#%%\n"
    }
   }
  },
  {
   "cell_type": "markdown",
   "source": [
    "## 08: facetted search, looking to match a given facet over all items\n",
    "\n",
    "Faceted search can be done using the filter parameter."
   ],
   "metadata": {
    "collapsed": false
   }
  },
  {
   "cell_type": "code",
   "execution_count": 7,
   "outputs": [
    {
     "data": {
      "text/plain": "{'table_id': ['Amon'],\n 'variable_long_name': ['Percentage Cloud Cover'],\n 'height_units': ['m'],\n 'dataset_version': ['20191022'],\n 'data_node': ['esgf-data3.ceda.ac.uk'],\n 'variant_label': ['r1i1p1f2'],\n 'grid_label': ['gn'],\n 'instance_id': ['CMIP6.AerChemMIP.MOHC.UKESM1-0-LL.histSST-piAer.r1i1p1f2.Amon.cl.gn.v20191022'],\n 'grid': ['Native N96 grid; 192 x 144 longitude/latitude'],\n 'nominal_resolution': ['250 km'],\n 'realm': ['atmos'],\n 'file_id': ['CMIP6.AerChemMIP.MOHC.UKESM1-0-LL.histSST-piAer.r1i1p1f2.Amon.cl.gn.v20191022.cl_Amon_UKESM1-0-LL_histSST-piAer_r1i1p1f2_gn_185001-189912.nc|esgf-data3.ceda.ac.uk',\n  'CMIP6.AerChemMIP.MOHC.UKESM1-0-LL.histSST-piAer.r1i1p1f2.Amon.cl.gn.v20191022.cl_Amon_UKESM1-0-LL_histSST-piAer_r1i1p1f2_gn_190001-194912.nc|esgf-data3.ceda.ac.uk',\n  'CMIP6.AerChemMIP.MOHC.UKESM1-0-LL.histSST-piAer.r1i1p1f2.Amon.cl.gn.v20191022.cl_Amon_UKESM1-0-LL_histSST-piAer_r1i1p1f2_gn_195001-199912.nc|esgf-data3.ceda.ac.uk',\n  'CMIP6.AerChemMIP.MOHC.UKESM1-0-LL.histSST-piAer.r1i1p1f2.Amon.cl.gn.v20191022.cl_Amon_UKESM1-0-LL_histSST-piAer_r1i1p1f2_gn_200001-201412.nc|esgf-data3.ceda.ac.uk'],\n 'experiment_id': ['histSST-piAer'],\n 'source_type': ['AER', 'AGCM', 'CHEM'],\n 'dataset_id': ['CMIP6.AerChemMIP.MOHC.UKESM1-0-LL.histSST-piAer.r1i1p1f2.Amon.cl.gn.v20191022|esgf-data3.ceda.ac.uk'],\n 'source_id': ['UKESM1-0-LL'],\n 'master_id': ['CMIP6.AerChemMIP.MOHC.UKESM1-0-LL.histSST-piAer.r1i1p1f2.Amon.cl.gn'],\n 'activity_drs': ['AerChemMIP'],\n 'mip_era': ['CMIP6'],\n 'data_specs_version': ['01.00.29'],\n 'dataset_id_template_': ['%(mip_era)s.%(activity_drs)s.%(institution_id)s.%(source_id)s.%(experiment_id)s.%(member_id)s.%(table_id)s.%(variable_id)s.%(grid_label)s'],\n 'further_info_url': ['https://furtherinfo.es-doc.org/CMIP6.MOHC.UKESM1-0-LL.histSST-piAer.none.r1i1p1f2'],\n 'institution_id': ['MOHC'],\n 'sub_experiment_id': ['none'],\n 'member_id': ['r1i1p1f2'],\n 'model_cohort': ['Registered'],\n 'product': ['model-output'],\n 'project': ['CMIP6'],\n 'variable': ['cl'],\n 'frequency': ['mon'],\n 'experiment_title': ['historical SSTs and historical forcing, but with pre-industrial aerosol emissions'],\n 'cf_standard_name': ['cloud_area_fraction_in_atmosphere_layer'],\n 'metadata_format': ['THREDDS'],\n 'pid': ['hdl:21.14100/ba1bd4e8-2578-3910-a815-7d8ade3d830b'],\n 'access': ['Globus', 'GridFTP', 'HTTPServer', 'OPENDAP'],\n 'variable_id': ['cl'],\n 'variable_units': ['%'],\n 'index_node': ['esgf-index4.ceda.ac.uk'],\n 'citation_url': ['http://cera-www.dkrz.de/WDCC/meta/CMIP6/CMIP6.AerChemMIP.MOHC.UKESM1-0-LL.histSST-piAer.r1i1p1f2.Amon.cl.gn.v20191022.json'],\n 'activity_id': ['AerChemMIP'],\n 'start_datetime': '1850-01-01T00:00:00.000Z',\n 'end_datetime': '2014-12-01T00:00:00.000Z',\n 'min_lon': 359.0625,\n 'min_lat': -89.375,\n 'max_lon': 0.9375,\n 'max_lat': 89.375}"
     },
     "execution_count": 7,
     "metadata": {},
     "output_type": "execute_result"
    }
   ],
   "source": [
    "results = api.search(\n",
    "    collections=collection.id,\n",
    "    max_items=10,\n",
    "    filter={\n",
    "        \"eq\": [{\"property\": \"activity_id\"}, \"AerChemMIP\"]\n",
    "    }\n",
    ").get_items()\n",
    "\n",
    "item = next(results)\n",
    "item.properties"
   ],
   "metadata": {
    "collapsed": false,
    "pycharm": {
     "name": "#%%\n"
    }
   }
  },
  {
   "cell_type": "markdown",
   "source": [
    "## 09: faceted search, looked to match multiple facets over all items"
   ],
   "metadata": {
    "collapsed": false
   }
  },
  {
   "cell_type": "code",
   "execution_count": 8,
   "outputs": [
    {
     "data": {
      "text/plain": "{'table_id': ['Amon'],\n 'variable_long_name': ['Percentage Cloud Cover'],\n 'height_units': ['m'],\n 'dataset_version': ['20191022'],\n 'data_node': ['esgf-data3.ceda.ac.uk'],\n 'variant_label': ['r1i1p1f2'],\n 'grid_label': ['gn'],\n 'instance_id': ['CMIP6.AerChemMIP.MOHC.UKESM1-0-LL.histSST-piAer.r1i1p1f2.Amon.cl.gn.v20191022'],\n 'grid': ['Native N96 grid; 192 x 144 longitude/latitude'],\n 'nominal_resolution': ['250 km'],\n 'realm': ['atmos'],\n 'file_id': ['CMIP6.AerChemMIP.MOHC.UKESM1-0-LL.histSST-piAer.r1i1p1f2.Amon.cl.gn.v20191022.cl_Amon_UKESM1-0-LL_histSST-piAer_r1i1p1f2_gn_185001-189912.nc|esgf-data3.ceda.ac.uk',\n  'CMIP6.AerChemMIP.MOHC.UKESM1-0-LL.histSST-piAer.r1i1p1f2.Amon.cl.gn.v20191022.cl_Amon_UKESM1-0-LL_histSST-piAer_r1i1p1f2_gn_190001-194912.nc|esgf-data3.ceda.ac.uk',\n  'CMIP6.AerChemMIP.MOHC.UKESM1-0-LL.histSST-piAer.r1i1p1f2.Amon.cl.gn.v20191022.cl_Amon_UKESM1-0-LL_histSST-piAer_r1i1p1f2_gn_195001-199912.nc|esgf-data3.ceda.ac.uk',\n  'CMIP6.AerChemMIP.MOHC.UKESM1-0-LL.histSST-piAer.r1i1p1f2.Amon.cl.gn.v20191022.cl_Amon_UKESM1-0-LL_histSST-piAer_r1i1p1f2_gn_200001-201412.nc|esgf-data3.ceda.ac.uk'],\n 'experiment_id': ['histSST-piAer'],\n 'source_type': ['AER', 'AGCM', 'CHEM'],\n 'dataset_id': ['CMIP6.AerChemMIP.MOHC.UKESM1-0-LL.histSST-piAer.r1i1p1f2.Amon.cl.gn.v20191022|esgf-data3.ceda.ac.uk'],\n 'source_id': ['UKESM1-0-LL'],\n 'master_id': ['CMIP6.AerChemMIP.MOHC.UKESM1-0-LL.histSST-piAer.r1i1p1f2.Amon.cl.gn'],\n 'activity_drs': ['AerChemMIP'],\n 'mip_era': ['CMIP6'],\n 'data_specs_version': ['01.00.29'],\n 'dataset_id_template_': ['%(mip_era)s.%(activity_drs)s.%(institution_id)s.%(source_id)s.%(experiment_id)s.%(member_id)s.%(table_id)s.%(variable_id)s.%(grid_label)s'],\n 'further_info_url': ['https://furtherinfo.es-doc.org/CMIP6.MOHC.UKESM1-0-LL.histSST-piAer.none.r1i1p1f2'],\n 'institution_id': ['MOHC'],\n 'sub_experiment_id': ['none'],\n 'member_id': ['r1i1p1f2'],\n 'model_cohort': ['Registered'],\n 'product': ['model-output'],\n 'project': ['CMIP6'],\n 'variable': ['cl'],\n 'frequency': ['mon'],\n 'experiment_title': ['historical SSTs and historical forcing, but with pre-industrial aerosol emissions'],\n 'cf_standard_name': ['cloud_area_fraction_in_atmosphere_layer'],\n 'metadata_format': ['THREDDS'],\n 'pid': ['hdl:21.14100/ba1bd4e8-2578-3910-a815-7d8ade3d830b'],\n 'access': ['Globus', 'GridFTP', 'HTTPServer', 'OPENDAP'],\n 'variable_id': ['cl'],\n 'variable_units': ['%'],\n 'index_node': ['esgf-index4.ceda.ac.uk'],\n 'citation_url': ['http://cera-www.dkrz.de/WDCC/meta/CMIP6/CMIP6.AerChemMIP.MOHC.UKESM1-0-LL.histSST-piAer.r1i1p1f2.Amon.cl.gn.v20191022.json'],\n 'activity_id': ['AerChemMIP'],\n 'start_datetime': '1850-01-01T00:00:00.000Z',\n 'end_datetime': '2014-12-01T00:00:00.000Z',\n 'min_lon': 359.0625,\n 'min_lat': -89.375,\n 'max_lon': 0.9375,\n 'max_lat': 89.375}"
     },
     "execution_count": 8,
     "metadata": {},
     "output_type": "execute_result"
    }
   ],
   "source": [
    "results = api.search(\n",
    "    collections=collection.id,\n",
    "    max_items=10,\n",
    "    method='GET',\n",
    "    filter=\"activity_id = 'AerChemMIP' and source_id = 'UKESM1-0-LL'\",\n",
    "    filter_lang=\"cql2-text\"\n",
    ").get_items()\n",
    "\n",
    "item = next(results)\n",
    "item.properties"
   ],
   "metadata": {
    "collapsed": false,
    "pycharm": {
     "name": "#%%\n"
    }
   }
  },
  {
   "cell_type": "markdown",
   "source": [
    "## 10: faceted search, looking to match multiple facets within multiple collections\n",
    "\n",
    "Same as `09` but use the `mip_era` property to add a collections to the filter or\n",
    "list the collection id in the `collections` parameter."
   ],
   "metadata": {
    "collapsed": false
   }
  },
  {
   "cell_type": "markdown",
   "source": [
    "## 11: Global Asset-level search"
   ],
   "metadata": {
    "collapsed": false
   }
  },
  {
   "cell_type": "code",
   "execution_count": 9,
   "outputs": [
    {
     "data": {
      "text/plain": "<Asset href=http://esgf-data3.ceda.ac.uk/thredds/fileServer/esg_cmip6/CMIP6/RFMIP/MOHC/UKESM1-0-LL/piClim-aer/r1i1p1f4/AERmonZ/bry/gnz/v20200305/bry_AERmonZ_UKESM1-0-LL_piClim-aer_r1i1p1f4_gnz_185001-189412.nc>",
      "text/html": "\n\n<div class=\"jp-RenderedHTMLCommon jp-RenderedHTML jp-mod-trusted jp-OutputArea-output\">\n    <div style=\"\n        width: 24px;\n        height: 24px;\n        background-color: #FED7E5;\n        border: 3px solid #FA4C8C;\n        border-radius: 5px;\n        position: absolute;\">\n    </div>\n    <div>\n        <details style=\"margin-left: 48px;\">\n            <summary style=\"margin-bottom: 20px;\">\n                <h3 style=\"margin-bottom: 0px; display: inline;\">Asset: None</h3>\n            </summary>\n            <table style=\"width: 100%; text-align: left;\">\n                <tr><td style=\"text-align: left;\"><strong>href</strong>: http://esgf-data3.ceda.ac.uk/thredds/fileServer/esg_cmip6/CMIP6/RFMIP/MOHC/UKESM1-0-LL/piClim-aer/r1i1p1f4/AERmonZ/bry/gnz/v20200305/bry_AERmonZ_UKESM1-0-LL_piClim-aer_r1i1p1f4_gnz_185001-189412.nc </td></tr>\n                \n                \n                \n                    <tr><td style=\"text-align: left;\"><strong>Media type:</strong> ESGF_SOLR </td></tr>\n                \n                \n                    <tr><td style=\"text-align: left;\"><strong>Roles:</strong> ['data'] </td></tr>\n                \n                \n                \n            </table>\n        </details>\n    </div>\n</div>"
     },
     "execution_count": 9,
     "metadata": {},
     "output_type": "execute_result"
    }
   ],
   "source": [
    "assets = api.asset_search(\n",
    "    filter={\n",
    "        \"eq\": [{\"property\": \"activity_id\"}, \"AerChemMIP\"]\n",
    "    }\n",
    ").get_assets()\n",
    "\n",
    "asset: Asset = next(assets)\n",
    "asset"
   ],
   "metadata": {
    "collapsed": false,
    "pycharm": {
     "name": "#%%\n"
    }
   }
  },
  {
   "cell_type": "markdown",
   "source": [
    "## 12 Asset-level search within Collection\n",
    "\n",
    "Can use global asset search and search by `mip_era` in the properties."
   ],
   "metadata": {
    "collapsed": false
   }
  },
  {
   "cell_type": "code",
   "execution_count": 10,
   "outputs": [
    {
     "data": {
      "text/plain": "'http://esgf-data3.ceda.ac.uk/thredds/fileServer/esg_cmip6/CMIP6/AerChemMIP/MOHC/UKESM1-0-LL/hist-piAer/r1i1p1f2/AERmonZ/bry/gnz/v20190813/bry_AERmonZ_UKESM1-0-LL_hist-piAer_r1i1p1f2_gnz_185001-194912.nc'"
     },
     "execution_count": 10,
     "metadata": {},
     "output_type": "execute_result"
    }
   ],
   "source": [
    "assets = api.asset_search(\n",
    "    method='GET',\n",
    "    filter=\"mip_era = 'CMIP6' and source_id = 'UKESM1-0-LL'\",\n",
    "    max_assets=1\n",
    ").get_assets()\n",
    "asset = next(assets)\n",
    "asset.href"
   ],
   "metadata": {
    "collapsed": false,
    "pycharm": {
     "name": "#%%\n"
    }
   }
  },
  {
   "cell_type": "markdown",
   "source": [
    "## 13: Asset-level search within Item\n",
    "\n",
    "Can search within an item with the `items` parameter and providing an item id."
   ],
   "metadata": {
    "collapsed": false
   }
  },
  {
   "cell_type": "code",
   "execution_count": 11,
   "outputs": [
    {
     "name": "stdout",
     "output_type": "stream",
     "text": [
      "item id: 6fdbe6aab785ccf046de62217cbfc5dc\n",
      "asset's item: 6fdbe6aab785ccf046de62217cbfc5dc\n"
     ]
    }
   ],
   "source": [
    "assets = api.asset_search(\n",
    "    items=item.id,\n",
    "    max_assets=1\n",
    ").get_assets()\n",
    "asset = next(assets)\n",
    "print(\n",
    "    f\"item id: {item.id}\\n\"\n",
    "    f\"asset's item: {asset.item}\"\n",
    ")\n"
   ],
   "metadata": {
    "collapsed": false,
    "pycharm": {
     "name": "#%%\n"
    }
   }
  }
 ],
 "metadata": {
  "kernelspec": {
   "name": "python3",
   "language": "python",
   "display_name": "Python 3 (ipykernel)"
  },
  "language_info": {
   "name": "python",
   "version": "3.9.6",
   "mimetype": "text/x-python",
   "codemirror_mode": {
    "name": "ipython",
    "version": 3
   },
   "pygments_lexer": "ipython3",
   "nbconvert_exporter": "python",
   "file_extension": ".py"
  },
  "interpreter": {
   "hash": "45722562401730454187866b23802314306fe34003819505e048c53d45ec7219"
  }
 },
 "nbformat": 4,
 "nbformat_minor": 2
}